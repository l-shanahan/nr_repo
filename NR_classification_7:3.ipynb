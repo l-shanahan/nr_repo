{
 "cells": [
  {
   "cell_type": "markdown",
   "id": "3a786de1",
   "metadata": {},
   "source": [
    "# NR Classification"
   ]
  },
  {
   "cell_type": "code",
   "execution_count": 1,
   "id": "2b105f29",
   "metadata": {},
   "outputs": [],
   "source": [
    "import numpy as np\n",
    "import matplotlib.pyplot as plt\n",
    "import matplotlib as mpl\n",
    "%matplotlib inline\n",
    "\n",
    "import sys\n",
    "import random as rd\n",
    "import torch\n",
    "from torch import nn, optim\n",
    "import torch.nn.functional as F\n",
    "import torch.utils.data as tud\n",
    "# from torch.utils.data import Dataset, DataLoader\n",
    "from sklearn.model_selection import train_test_split\n",
    "\n",
    "import CustomDataset as cd"
   ]
  },
  {
   "cell_type": "markdown",
   "id": "8c877965",
   "metadata": {},
   "source": [
    "### Loading Data"
   ]
  },
  {
   "cell_type": "markdown",
   "id": "252704a4",
   "metadata": {},
   "source": [
    "First, I'm going to try to distinguish between Carbon 130keV and Flourine 170keV."
   ]
  },
  {
   "cell_type": "code",
   "execution_count": 2,
   "id": "4e51e7b5",
   "metadata": {},
   "outputs": [],
   "source": [
    "C130_dat, F170_dat = np.load('data/C_130keV_10000.npy'), np.load('data/F_170keV_10000.npy')"
   ]
  },
  {
   "cell_type": "code",
   "execution_count": 3,
   "id": "f3ef51ea",
   "metadata": {},
   "outputs": [],
   "source": [
    "data, labels = [],[]\n",
    "Csum, Fsum = [],[]\n",
    "\n",
    "for i in range(len(C130_dat)):\n",
    "    data.append(C130_dat[i])\n",
    "    labels.append([1,0])\n",
    "    Csum.append(np.sum(C130_dat[i]))\n",
    "\n",
    "for i in range(len(F170_dat)):\n",
    "    data.append(F170_dat[i])\n",
    "    labels.append([0,1])\n",
    "    Fsum.append(np.sum(F170_dat[i]))"
   ]
  },
  {
   "cell_type": "code",
   "execution_count": 4,
   "id": "bbac01c0",
   "metadata": {},
   "outputs": [
    {
     "name": "stdout",
     "output_type": "stream",
     "text": [
      "\n",
      "Accuracy Possible with Cut of 2096 on Total Intensity: 93.67%\n"
     ]
    },
    {
     "data": {
      "image/png": "[encoded data removed]",
      "text/plain": [
       "<Figure size 1080x720 with 1 Axes>"
      ]
     },
     "metadata": {
      "needs_background": "light"
     },
     "output_type": "display_data"
    }
   ],
   "source": [
    "cut = 2096\n",
    "Cless, Fgrt = [],[]\n",
    "for i in range(len(Fsum)):\n",
    "    if Fsum[i] > cut:\n",
    "        Fgrt.append(Fsum[i])\n",
    "    if Csum[i] <= cut:\n",
    "        Cless.append(Csum[i])\n",
    "\n",
    "plt.figure(figsize=(15,10))\n",
    "plt.hist(Csum, density=True, histtype='step', bins=50, label='C130')  # density=False would make counts\n",
    "plt.hist(Fsum, density=True, histtype='step', bins=50, label='F170')\n",
    "plt.axvline(cut, c='r', ls='--', label='Cut')\n",
    "plt.ylabel('Frequency')\n",
    "plt.xlabel('Total Intensity')\n",
    "plt.legend()\n",
    "plt.savefig('intensity_hist.png')\n",
    "\n",
    "Acc = (len(Fgrt)+len(Cless))/(len(Fsum)+len(Csum))*100\n",
    "print('\\nAccuracy Possible with Cut of {} on Total Intensity: {}%'.format(cut,Acc))"
   ]
  },
  {
   "cell_type": "markdown",
   "id": "d2ac4124",
   "metadata": {},
   "source": [
    "The above accuracy is a target."
   ]
  },
  {
   "cell_type": "code",
   "execution_count": 5,
   "id": "81e2973a",
   "metadata": {},
   "outputs": [
    {
     "data": {
      "text/plain": [
       "754.0"
      ]
     },
     "execution_count": 5,
     "metadata": {},
     "output_type": "execute_result"
    }
   ],
   "source": [
    "np.max(data)"
   ]
  },
  {
   "cell_type": "code",
   "execution_count": 6,
   "id": "70368b9f",
   "metadata": {},
   "outputs": [],
   "source": [
    "data_norm = data/np.max(data)"
   ]
  },
  {
   "cell_type": "code",
   "execution_count": 7,
   "id": "63fa8f34",
   "metadata": {},
   "outputs": [
    {
     "data": {
      "text/plain": [
       "(20000, 97, 97)"
      ]
     },
     "execution_count": 7,
     "metadata": {},
     "output_type": "execute_result"
    }
   ],
   "source": [
    "data_norm.shape"
   ]
  },
  {
   "cell_type": "code",
   "execution_count": 8,
   "id": "6127ee0a",
   "metadata": {},
   "outputs": [],
   "source": [
    "dnormhist=[]\n",
    "for i in range(len(data_norm)):\n",
    "    dnormhist.append(np.sum(data_norm[i]))"
   ]
  },
  {
   "cell_type": "code",
   "execution_count": 9,
   "id": "194b3090",
   "metadata": {},
   "outputs": [
    {
     "data": {
      "image/png": "[encoded data removed]",
      "text/plain": [
       "<Figure size 432x288 with 1 Axes>"
      ]
     },
     "metadata": {
      "needs_background": "light"
     },
     "output_type": "display_data"
    }
   ],
   "source": [
    "plt.hist(dnormhist,150);"
   ]
  },
  {
   "cell_type": "code",
   "execution_count": 10,
   "id": "5b4ad7b2",
   "metadata": {},
   "outputs": [
    {
     "data": {
      "text/plain": [
       "0.2227727494951642"
      ]
     },
     "execution_count": 10,
     "metadata": {},
     "output_type": "execute_result"
    }
   ],
   "source": [
    "np.mean(data)"
   ]
  },
  {
   "cell_type": "code",
   "execution_count": 11,
   "id": "ec0fe25d",
   "metadata": {},
   "outputs": [
    {
     "data": {
      "text/plain": [
       "0.00029545457492726975"
      ]
     },
     "execution_count": 11,
     "metadata": {},
     "output_type": "execute_result"
    }
   ],
   "source": [
    "np.mean(data_norm)"
   ]
  },
  {
   "cell_type": "markdown",
   "id": "ded6052e",
   "metadata": {},
   "source": [
    "For a learning algorithm, it will be necesarry to have an input (X data) containing a number of $97\\times97$ matrices for each energy. The output will be a label, either Carbon or Flourine. The model will compare its output with the actual labels and adjust accordingly to minimise loss. \n",
    "\n",
    "In order to quantify each label, the common 'one-hot encoding' method will be used. C elements will have the label `[1, 0]` and F will be `[0, 1]`. Tuples of this form will be the ground truth labels and the model output. I will have to ensure that the model outputs an array of shape `[2]`."
   ]
  },
  {
   "cell_type": "code",
   "execution_count": 12,
   "id": "e8a1b6d7",
   "metadata": {
    "scrolled": true
   },
   "outputs": [
    {
     "name": "stdout",
     "output_type": "stream",
     "text": [
      "torch.Size([16000, 1, 97, 97])\n",
      "torch.Size([16000, 2])\n",
      "torch.Size([4000, 1, 97, 97])\n",
      "torch.Size([4000, 2])\n"
     ]
    }
   ],
   "source": [
    "X_train, X_test, y_train, y_test = train_test_split(data_norm, labels, test_size=0.2, random_state=42)\n",
    "\n",
    "xtrain_tensor = torch.from_numpy(np.array(X_train)) #converts numpy array to torch tensor\n",
    "xtrain_sqz = xtrain_tensor.unsqueeze(1) #adds new dimension along axis 1\n",
    "print(xtrain_sqz.shape)\n",
    "\n",
    "ytrain_tensor = torch.from_numpy(np.array(y_train))\n",
    "ytrain_sqz = ytrain_tensor.unsqueeze(1)\n",
    "print(ytrain_tensor.shape)\n",
    "\n",
    "xtest_tensor = torch.from_numpy(np.array(X_test)) #converts numpy array to torch tensor\n",
    "xtest_sqz = xtest_tensor.unsqueeze(1) #adds new dimension along axis 1\n",
    "print(xtest_sqz.shape)\n",
    "\n",
    "ytest_tensor = torch.from_numpy(np.array(y_test))\n",
    "ytest_sqz = ytest_tensor.unsqueeze(1)\n",
    "print(ytest_tensor.shape)\n",
    "\n",
    "train_data = cd.CustomDataset(xtrain_sqz.float(), ytrain_sqz.float())\n",
    "test_data = cd.CustomDataset(xtest_sqz.float(), ytest_sqz.float())\n",
    "\n",
    "#defining dataloader class\n",
    "train_loader = tud.DataLoader(dataset=train_data, batch_size=32, shuffle=True)\n",
    "train_loader_iter = iter(train_loader)\n",
    "\n",
    "#same as above but for test data\n",
    "test_loader = tud.DataLoader(dataset=test_data, batch_size=32, shuffle=True)\n",
    "test_loader_iter = iter(test_loader)"
   ]
  },
  {
   "cell_type": "code",
   "execution_count": 13,
   "id": "7acb0a17",
   "metadata": {},
   "outputs": [
    {
     "name": "stdout",
     "output_type": "stream",
     "text": [
      "torch.Size([32, 1, 97, 97])\n",
      "tensor([[0., 0., 0.,  ..., 0., 0., 0.],\n",
      "        [0., 0., 0.,  ..., 0., 0., 0.],\n",
      "        [0., 0., 0.,  ..., 0., 0., 0.],\n",
      "        ...,\n",
      "        [0., 0., 0.,  ..., 0., 0., 0.],\n",
      "        [0., 0., 0.,  ..., 0., 0., 0.],\n",
      "        [0., 0., 0.,  ..., 0., 0., 0.]])\n"
     ]
    },
    {
     "data": {
      "text/plain": [
       "<matplotlib.image.AxesImage at 0x7f22375fed30>"
      ]
     },
     "execution_count": 13,
     "metadata": {},
     "output_type": "execute_result"
    },
    {
     "data": {
      "image/png": "[encoded data removed]",
      "text/plain": [
       "<Figure size 288x288 with 1 Axes>"
      ]
     },
     "metadata": {
      "needs_background": "light"
     },
     "output_type": "display_data"
    }
   ],
   "source": [
    "ttlod = []\n",
    "for batch_idx, (data2,target2) in enumerate(train_loader):\n",
    "    datap1=data2\n",
    "    targp1=target2\n",
    "print(datap1.shape)\n",
    "print(datap1[0][0])\n",
    "plt.matshow(datap1[0][0],fignum=1)"
   ]
  },
  {
   "cell_type": "code",
   "execution_count": 14,
   "id": "24caa0b1",
   "metadata": {},
   "outputs": [],
   "source": [
    "loadedhist=[]\n",
    "for i in range(datap1.shape[0]):\n",
    "    loadedhist.append(np.sum((datap1[i][0]).numpy()))"
   ]
  },
  {
   "cell_type": "code",
   "execution_count": 15,
   "id": "877b7934",
   "metadata": {},
   "outputs": [
    {
     "data": {
      "image/png": "[encoded data removed]",
      "text/plain": [
       "<Figure size 1080x720 with 1 Axes>"
      ]
     },
     "metadata": {
      "needs_background": "light"
     },
     "output_type": "display_data"
    }
   ],
   "source": [
    "plt.figure(figsize=(15,10))\n",
    "plt.hist(loadedhist, density=True, histtype='step', bins=50); "
   ]
  },
  {
   "cell_type": "code",
   "execution_count": 16,
   "id": "ac2aa1dc",
   "metadata": {},
   "outputs": [],
   "source": [
    "def train(model, device, train_loader, optimizer, epoch):\n",
    "    model.train()\n",
    "    #loop run over data output by loader to train model\n",
    "    for batch_idx, (data, target) in enumerate(train_loader):\n",
    "        data, target = data.to(device), target.to(device)\n",
    "        optimizer.zero_grad()\n",
    "        output = model(data) #applies model to data\n",
    "        target = target.squeeze(1) #removes dimension from target\n",
    "        loss = nn.CrossEntropyLoss()(output, target) #calculates cross entropy loss\n",
    "        loss.backward()\n",
    "        optimizer.step() #new step in optimisation of loss\n",
    "        #printing output of each batch for loss observation while model is training\n",
    "        if batch_idx % rep_step == 0:\n",
    "            print('Train Epoch: {} [{}/{} ({:.0f}%)]\\tLoss: {:.6f}'.format(\n",
    "                epoch, batch_idx * len(data), len(train_loader.dataset),\n",
    "                100 * batch_idx / len(train_loader), loss.item()))\n",
    "\n",
    "def test(model, device, test_loader):\n",
    "    model.eval()\n",
    "    #initialisting parameters and empty lists\n",
    "    test_loss = 0\n",
    "    correct = 0\n",
    "    probs_pred = []\n",
    "    labels_actual = []\n",
    "    labels_pred = []\n",
    "    with torch.no_grad():\n",
    "        for data, target in test_loader:\n",
    "            data, target = data.to(device), target.to(device)\n",
    "            output = model(data)\n",
    "            target=target.squeeze(1)\n",
    "            test_loss += nn.CrossEntropyLoss()(output, target).item()\n",
    "        \n",
    "            pred = output.max(1, keepdim=True)[1] #finds index of maximum in output vector as described below\n",
    "            pred_onehot = F.one_hot(pred).squeeze(1) #converts into one-hot predicted label \n",
    "            pred_bool = torch.eq(pred_onehot,target) #finds values where predicted equals target\n",
    "            correct += int((pred_bool.sum().item())/2) #sums number of correct values\n",
    "            #adds predicted labels, targets and probabilities to lists for later use\n",
    "            \n",
    "            labels_actual.append(target.cpu().numpy())\n",
    "            probs_pred.append(output.cpu().numpy())\n",
    "            labels_pred.append(pred_onehot.cpu().numpy())\n",
    " \n",
    "    #printing accuracy and loss after each epoch for analysis\n",
    "    test_loss /= len(test_loader.dataset)\n",
    "    print('\\nTest set: Average loss: {:.4f}, Accuracy: {}/{} ({:.0f}%)\\n'.format(\n",
    "        test_loss, correct, len(test_loader.dataset),\n",
    "    100 * correct / len(test_loader.dataset)))\n",
    "    \n",
    "    return(labels_actual,probs_pred,labels_pred)"
   ]
  },
  {
   "cell_type": "code",
   "execution_count": 25,
   "id": "fbb8632f",
   "metadata": {
    "scrolled": false
   },
   "outputs": [
    {
     "name": "stdout",
     "output_type": "stream",
     "text": [
      "torch.Size([32, 2])\n",
      "tensor([0.5100, 0.4900], device='cuda:0')\n",
      "\n",
      "torch.Size([32, 2])\n",
      "tensor([1., 0.], device='cuda:0')\n",
      "\n",
      "0.6913399696350098\n",
      "\n",
      "torch.Size([32, 1])\n",
      "tensor([1], device='cuda:0')\n",
      "tensor([ True, False], device='cuda:0')\n",
      "16\n",
      "\n",
      "Test set: Average loss: 0.0055, Accuracy: 16/4000 (0%)\n",
      "\n"
     ]
    },
    {
     "data": {
      "image/png": "[encoded data removed]",
      "text/plain": [
       "<Figure size 288x288 with 1 Axes>"
      ]
     },
     "metadata": {
      "needs_background": "light"
     },
     "output_type": "display_data"
    }
   ],
   "source": [
    "model.eval()\n",
    "#initialisting parameters and empty lists\n",
    "test_loss = 0\n",
    "correct = 0\n",
    "probs_pred = []\n",
    "labels_actual = []\n",
    "labels_pred = []\n",
    "with torch.no_grad():\n",
    "    for batch_idx, (data, target) in enumerate(test_loader):\n",
    "        data, target = data.to(device), target.to(device)\n",
    "        \n",
    "#         print(data[0])\n",
    "#         print(data.shape)\n",
    "        plt.matshow(data.cpu()[0][0],fignum=1)\n",
    "        \n",
    "        output = model(data)\n",
    "        \n",
    "        print(output.shape)\n",
    "        print(output[0])\n",
    "        print()\n",
    "        \n",
    "        target=target.squeeze(1)\n",
    "        print(target.shape)\n",
    "        print(target[0])\n",
    "        print()\n",
    "        \n",
    "        test_loss += nn.CrossEntropyLoss()(output, target).item()\n",
    "        print(nn.CrossEntropyLoss()(output, target).item())\n",
    "        print()\n",
    "\n",
    "        pred = output.max(1, keepdim=True)[1] #finds index of maximum in output vector as described below\n",
    "        \n",
    "        pred_onehot = F.one_hot(pred).squeeze(1) #converts into one-hot predicted label \n",
    "        \n",
    "        print(pred_onehot.shape)\n",
    "        print(pred_onehot[0])\n",
    "        \n",
    "        pred_bool = torch.eq(pred_onehot,target) #finds values where predicted equals target\n",
    "        \n",
    "        print(pred_bool[0])\n",
    "        \n",
    "        correct += int((pred_bool.sum().item())/2) #sums number of correct values\n",
    "        \n",
    "        print(correct)\n",
    "        \n",
    "        #adds predicted labels, targets and probabilities to lists for later use\n",
    "\n",
    "        labels_actual.append(target.cpu().numpy())\n",
    "        probs_pred.append(output.cpu().numpy())\n",
    "        labels_pred.append(pred_onehot.cpu().numpy())\n",
    "        break\n",
    "\n",
    "#printing accuracy and loss after each epoch for analysis\n",
    "test_loss /= len(test_loader)\n",
    "print('\\nTest set: Average loss: {:.4f}, Accuracy: {}/{} ({:.0f}%)\\n'.format(\n",
    "    test_loss, correct, len(test_loader.dataset),\n",
    "100 * correct / len(test_loader.dataset)))"
   ]
  },
  {
   "cell_type": "code",
   "execution_count": 37,
   "id": "9b79ca4c",
   "metadata": {},
   "outputs": [
    {
     "name": "stdout",
     "output_type": "stream",
     "text": [
      "Train Epoch: 10 [0/16000 (0%)]\tLoss: 0.376674\n",
      "Train Epoch: 10 [1280/16000 (8%)]\tLoss: 0.432253\n",
      "Train Epoch: 10 [2560/16000 (16%)]\tLoss: 0.382584\n",
      "Train Epoch: 10 [3840/16000 (24%)]\tLoss: 0.346412\n",
      "Train Epoch: 10 [5120/16000 (32%)]\tLoss: 0.367956\n",
      "Train Epoch: 10 [6400/16000 (40%)]\tLoss: 0.379716\n",
      "Train Epoch: 10 [7680/16000 (48%)]\tLoss: 0.421641\n",
      "Train Epoch: 10 [8960/16000 (56%)]\tLoss: 0.407875\n",
      "Train Epoch: 10 [10240/16000 (64%)]\tLoss: 0.318420\n",
      "Train Epoch: 10 [11520/16000 (72%)]\tLoss: 0.419768\n",
      "Train Epoch: 10 [12800/16000 (80%)]\tLoss: 0.396798\n",
      "Train Epoch: 10 [14080/16000 (88%)]\tLoss: 0.389902\n",
      "Train Epoch: 10 [15360/16000 (96%)]\tLoss: 0.392426\n",
      "\n",
      "Test set: Average loss: 0.0204, Accuracy: 2558/4000 (64%)\n",
      "\n"
     ]
    }
   ],
   "source": [
    "train(model, device, train_loader, optimizer, epoch)\n",
    "act,pred,pred_labs = test(model, device, test_loader)"
   ]
  },
  {
   "cell_type": "code",
   "execution_count": 38,
   "id": "01bdffb5",
   "metadata": {},
   "outputs": [
    {
     "data": {
      "text/plain": [
       "(125, 32, 2)"
      ]
     },
     "execution_count": 38,
     "metadata": {},
     "output_type": "execute_result"
    }
   ],
   "source": [
    "np.shape(act)\n",
    "np.shape(pred)\n",
    "np.shape(pred_labs)"
   ]
  },
  {
   "cell_type": "markdown",
   "id": "8e86df97",
   "metadata": {},
   "source": [
    "### Model "
   ]
  },
  {
   "cell_type": "code",
   "execution_count": 39,
   "id": "d4cae0fa",
   "metadata": {},
   "outputs": [
    {
     "name": "stdout",
     "output_type": "stream",
     "text": [
      "torch.Size([50, 3, 96, 96])\n",
      "torch.Size([50, 5, 95, 95])\n"
     ]
    }
   ],
   "source": [
    "inp = torch.randn(50, 1, 97, 97)\n",
    "m = nn.Conv2d(1, 3, kernel_size=(2,2))\n",
    "o = m(inp)\n",
    "print(np.shape(o))\n",
    "m = nn.Conv2d(3, 5, kernel_size=(2,2))\n",
    "o = m(o)\n",
    "print(np.shape(o))\n",
    "# m = nn.Conv2d(10, 15, kernel_size=(2,2))\n",
    "# o = m(o)\n",
    "# print(np.shape(o))\n",
    "\n",
    "# o = o.view(-1, 132540)\n",
    "# print(np.shape(o))\n",
    "# m = nn.Linear(132540,500)\n",
    "# o = m(o)\n",
    "# print(np.shape(o))\n",
    "# m = nn.Linear(500,2)\n",
    "# o = m(o)\n",
    "# print(np.shape(o))"
   ]
  },
  {
   "cell_type": "code",
   "execution_count": 40,
   "id": "146f9ba0",
   "metadata": {},
   "outputs": [
    {
     "data": {
      "text/plain": [
       "132540"
      ]
     },
     "execution_count": 40,
     "metadata": {},
     "output_type": "execute_result"
    }
   ],
   "source": [
    "94*94*15"
   ]
  },
  {
   "cell_type": "code",
   "execution_count": 41,
   "id": "9fb91d6e",
   "metadata": {},
   "outputs": [],
   "source": [
    "device = torch.device('cuda')\n",
    "\n",
    "class Net(nn.Module):\n",
    "    def __init__(self):\n",
    "        super(Net, self).__init__()\n",
    "            \n",
    "        self.fc_layers = nn.Sequential(\n",
    "            nn.Linear(9409,1000),\n",
    "            nn.ReLU(),\n",
    "            nn.Linear(1000,100),\n",
    "            nn.ReLU(),\n",
    "            nn.Linear(100,2),\n",
    "            nn.Softmax(dim=1),\n",
    "        )\n",
    "\n",
    "    def forward(self, x):\n",
    "        x = x.view(-1, 9409)\n",
    "        x = self.fc_layers(x)\n",
    "        return x"
   ]
  },
  {
   "cell_type": "code",
   "execution_count": 42,
   "id": "2060fe10",
   "metadata": {},
   "outputs": [],
   "source": [
    "# class Model2(nn.Module):\n",
    "#     def __init__(self):\n",
    "#         super(Model2, self).__init__()\n",
    "\n",
    "#         self.d1 = nn.Linear(97 * 97, 1024)\n",
    "#         self.d2 = nn.Linear(1024, 1024)\n",
    "#         self.d3 = nn.Linear(1024, 2)\n",
    "\n",
    "#     def forward(self, x):\n",
    "\n",
    "#         x = x.flatten(start_dim = 1)\n",
    "\n",
    "#         x = self.d1(x)\n",
    "#         x = F.relu(x)\n",
    "\n",
    "#         x = self.d2(x)\n",
    "#         x = F.relu(x)\n",
    "\n",
    "#         logits = self.d3(x)\n",
    "\n",
    "#         out = F.softmax(logits, dim=1)\n",
    "\n",
    "#         return out"
   ]
  },
  {
   "cell_type": "code",
   "execution_count": 43,
   "id": "c6f40745",
   "metadata": {},
   "outputs": [],
   "source": [
    "model = Net().to(device)\n",
    "optimizer = optim.Adam(model.parameters(), lr=1e-3)"
   ]
  },
  {
   "cell_type": "code",
   "execution_count": 44,
   "id": "3ce37bf2",
   "metadata": {},
   "outputs": [],
   "source": [
    "# model = Net().to(device)\n",
    "# optimizer = optim.Adam(model.parameters(), lr=1e-1)"
   ]
  },
  {
   "cell_type": "code",
   "execution_count": 45,
   "id": "edf2d6d9",
   "metadata": {},
   "outputs": [],
   "source": [
    "#outputting variables from initial model\n",
    "initial_model = model\n",
    "numel_list = [p.numel() for p in model.parameters()]"
   ]
  },
  {
   "cell_type": "code",
   "execution_count": 46,
   "id": "45074dc6",
   "metadata": {
    "scrolled": false
   },
   "outputs": [
    {
     "name": "stdout",
     "output_type": "stream",
     "text": [
      "Train Epoch: 1 [0/16000 (0%)]\tLoss: 0.693368\n",
      "Train Epoch: 1 [1280/16000 (8%)]\tLoss: 0.696160\n",
      "Train Epoch: 1 [2560/16000 (16%)]\tLoss: 0.683593\n",
      "Train Epoch: 1 [3840/16000 (24%)]\tLoss: 0.696327\n",
      "Train Epoch: 1 [5120/16000 (32%)]\tLoss: 0.690816\n",
      "Train Epoch: 1 [6400/16000 (40%)]\tLoss: 0.683287\n",
      "Train Epoch: 1 [7680/16000 (48%)]\tLoss: 0.686215\n",
      "Train Epoch: 1 [8960/16000 (56%)]\tLoss: 0.700943\n",
      "Train Epoch: 1 [10240/16000 (64%)]\tLoss: 0.657957\n",
      "Train Epoch: 1 [11520/16000 (72%)]\tLoss: 0.695896\n",
      "Train Epoch: 1 [12800/16000 (80%)]\tLoss: 0.634565\n",
      "Train Epoch: 1 [14080/16000 (88%)]\tLoss: 0.688841\n",
      "Train Epoch: 1 [15360/16000 (96%)]\tLoss: 0.650419\n",
      "\n",
      "Test set: Average loss: 0.0211, Accuracy: 2304/4000 (58%)\n",
      "\n",
      "Train Epoch: 2 [0/16000 (0%)]\tLoss: 0.617361\n",
      "Train Epoch: 2 [1280/16000 (8%)]\tLoss: 0.597569\n",
      "Train Epoch: 2 [2560/16000 (16%)]\tLoss: 0.605518\n",
      "Train Epoch: 2 [3840/16000 (24%)]\tLoss: 0.701205\n",
      "Train Epoch: 2 [5120/16000 (32%)]\tLoss: 0.665081\n",
      "Train Epoch: 2 [6400/16000 (40%)]\tLoss: 0.644646\n",
      "Train Epoch: 2 [7680/16000 (48%)]\tLoss: 0.664305\n",
      "Train Epoch: 2 [8960/16000 (56%)]\tLoss: 0.678012\n",
      "Train Epoch: 2 [10240/16000 (64%)]\tLoss: 0.655374\n",
      "Train Epoch: 2 [11520/16000 (72%)]\tLoss: 0.664694\n",
      "Train Epoch: 2 [12800/16000 (80%)]\tLoss: 0.675148\n",
      "Train Epoch: 2 [14080/16000 (88%)]\tLoss: 0.656438\n",
      "Train Epoch: 2 [15360/16000 (96%)]\tLoss: 0.611612\n",
      "\n",
      "Test set: Average loss: 0.0208, Accuracy: 2372/4000 (59%)\n",
      "\n",
      "Train Epoch: 3 [0/16000 (0%)]\tLoss: 0.657661\n",
      "Train Epoch: 3 [1280/16000 (8%)]\tLoss: 0.659323\n",
      "Train Epoch: 3 [2560/16000 (16%)]\tLoss: 0.674838\n",
      "Train Epoch: 3 [3840/16000 (24%)]\tLoss: 0.601482\n",
      "Train Epoch: 3 [5120/16000 (32%)]\tLoss: 0.646649\n",
      "Train Epoch: 3 [6400/16000 (40%)]\tLoss: 0.595694\n",
      "Train Epoch: 3 [7680/16000 (48%)]\tLoss: 0.607071\n",
      "Train Epoch: 3 [8960/16000 (56%)]\tLoss: 0.639124\n",
      "Train Epoch: 3 [10240/16000 (64%)]\tLoss: 0.640728\n",
      "Train Epoch: 3 [11520/16000 (72%)]\tLoss: 0.623818\n",
      "Train Epoch: 3 [12800/16000 (80%)]\tLoss: 0.681572\n",
      "Train Epoch: 3 [14080/16000 (88%)]\tLoss: 0.605486\n",
      "Train Epoch: 3 [15360/16000 (96%)]\tLoss: 0.613720\n",
      "\n",
      "Test set: Average loss: 0.0208, Accuracy: 2395/4000 (60%)\n",
      "\n",
      "Train Epoch: 4 [0/16000 (0%)]\tLoss: 0.575481\n",
      "Train Epoch: 4 [1280/16000 (8%)]\tLoss: 0.605837\n",
      "Train Epoch: 4 [2560/16000 (16%)]\tLoss: 0.681504\n",
      "Train Epoch: 4 [3840/16000 (24%)]\tLoss: 0.577581\n",
      "Train Epoch: 4 [5120/16000 (32%)]\tLoss: 0.558526\n",
      "Train Epoch: 4 [6400/16000 (40%)]\tLoss: 0.573387\n",
      "Train Epoch: 4 [7680/16000 (48%)]\tLoss: 0.577258\n",
      "Train Epoch: 4 [8960/16000 (56%)]\tLoss: 0.586797\n",
      "Train Epoch: 4 [10240/16000 (64%)]\tLoss: 0.610524\n",
      "Train Epoch: 4 [11520/16000 (72%)]\tLoss: 0.638618\n",
      "Train Epoch: 4 [12800/16000 (80%)]\tLoss: 0.678613\n",
      "Train Epoch: 4 [14080/16000 (88%)]\tLoss: 0.593549\n",
      "Train Epoch: 4 [15360/16000 (96%)]\tLoss: 0.608484\n",
      "\n",
      "Test set: Average loss: 0.0207, Accuracy: 2427/4000 (61%)\n",
      "\n",
      "Train Epoch: 5 [0/16000 (0%)]\tLoss: 0.514663\n",
      "Train Epoch: 5 [1280/16000 (8%)]\tLoss: 0.522282\n",
      "Train Epoch: 5 [2560/16000 (16%)]\tLoss: 0.565834\n",
      "Train Epoch: 5 [3840/16000 (24%)]\tLoss: 0.565452\n",
      "Train Epoch: 5 [5120/16000 (32%)]\tLoss: 0.552148\n",
      "Train Epoch: 5 [6400/16000 (40%)]\tLoss: 0.640771\n",
      "Train Epoch: 5 [7680/16000 (48%)]\tLoss: 0.618980\n",
      "Train Epoch: 5 [8960/16000 (56%)]\tLoss: 0.654002\n",
      "Train Epoch: 5 [10240/16000 (64%)]\tLoss: 0.591299\n",
      "Train Epoch: 5 [11520/16000 (72%)]\tLoss: 0.462515\n",
      "Train Epoch: 5 [12800/16000 (80%)]\tLoss: 0.533368\n",
      "Train Epoch: 5 [14080/16000 (88%)]\tLoss: 0.577041\n",
      "Train Epoch: 5 [15360/16000 (96%)]\tLoss: 0.586848\n",
      "\n",
      "Test set: Average loss: 0.0207, Accuracy: 2459/4000 (61%)\n",
      "\n",
      "Train Epoch: 6 [0/16000 (0%)]\tLoss: 0.540369\n",
      "Train Epoch: 6 [1280/16000 (8%)]\tLoss: 0.604122\n",
      "Train Epoch: 6 [2560/16000 (16%)]\tLoss: 0.483988\n",
      "Train Epoch: 6 [3840/16000 (24%)]\tLoss: 0.545830\n",
      "Train Epoch: 6 [5120/16000 (32%)]\tLoss: 0.541190\n",
      "Train Epoch: 6 [6400/16000 (40%)]\tLoss: 0.522507\n",
      "Train Epoch: 6 [7680/16000 (48%)]\tLoss: 0.458215\n",
      "Train Epoch: 6 [8960/16000 (56%)]\tLoss: 0.727517\n",
      "Train Epoch: 6 [10240/16000 (64%)]\tLoss: 0.569559\n",
      "Train Epoch: 6 [11520/16000 (72%)]\tLoss: 0.588372\n",
      "Train Epoch: 6 [12800/16000 (80%)]\tLoss: 0.489264\n",
      "Train Epoch: 6 [14080/16000 (88%)]\tLoss: 0.503908\n",
      "Train Epoch: 6 [15360/16000 (96%)]\tLoss: 0.527967\n",
      "\n",
      "Test set: Average loss: 0.0205, Accuracy: 2513/4000 (63%)\n",
      "\n",
      "Train Epoch: 7 [0/16000 (0%)]\tLoss: 0.464421\n",
      "Train Epoch: 7 [1280/16000 (8%)]\tLoss: 0.462611\n",
      "Train Epoch: 7 [2560/16000 (16%)]\tLoss: 0.508011\n",
      "Train Epoch: 7 [3840/16000 (24%)]\tLoss: 0.477418\n",
      "Train Epoch: 7 [5120/16000 (32%)]\tLoss: 0.463848\n",
      "Train Epoch: 7 [6400/16000 (40%)]\tLoss: 0.373788\n",
      "Train Epoch: 7 [7680/16000 (48%)]\tLoss: 0.558684\n",
      "Train Epoch: 7 [8960/16000 (56%)]\tLoss: 0.450419\n",
      "Train Epoch: 7 [10240/16000 (64%)]\tLoss: 0.513414\n",
      "Train Epoch: 7 [11520/16000 (72%)]\tLoss: 0.506221\n",
      "Train Epoch: 7 [12800/16000 (80%)]\tLoss: 0.493097\n",
      "Train Epoch: 7 [14080/16000 (88%)]\tLoss: 0.379344\n",
      "Train Epoch: 7 [15360/16000 (96%)]\tLoss: 0.473798\n",
      "\n",
      "Test set: Average loss: 0.0204, Accuracy: 2545/4000 (64%)\n",
      "\n",
      "Train Epoch: 8 [0/16000 (0%)]\tLoss: 0.443548\n",
      "Train Epoch: 8 [1280/16000 (8%)]\tLoss: 0.386884\n",
      "Train Epoch: 8 [2560/16000 (16%)]\tLoss: 0.490739\n",
      "Train Epoch: 8 [3840/16000 (24%)]\tLoss: 0.457649\n",
      "Train Epoch: 8 [5120/16000 (32%)]\tLoss: 0.357335\n",
      "Train Epoch: 8 [6400/16000 (40%)]\tLoss: 0.407626\n",
      "Train Epoch: 8 [7680/16000 (48%)]\tLoss: 0.446524\n",
      "Train Epoch: 8 [8960/16000 (56%)]\tLoss: 0.377034\n",
      "Train Epoch: 8 [10240/16000 (64%)]\tLoss: 0.440357\n",
      "Train Epoch: 8 [11520/16000 (72%)]\tLoss: 0.506421\n",
      "Train Epoch: 8 [12800/16000 (80%)]\tLoss: 0.428543\n",
      "Train Epoch: 8 [14080/16000 (88%)]\tLoss: 0.521631\n",
      "Train Epoch: 8 [15360/16000 (96%)]\tLoss: 0.402455\n",
      "\n",
      "Test set: Average loss: 0.0205, Accuracy: 2556/4000 (64%)\n",
      "\n",
      "Train Epoch: 9 [0/16000 (0%)]\tLoss: 0.482850\n",
      "Train Epoch: 9 [1280/16000 (8%)]\tLoss: 0.391200\n",
      "Train Epoch: 9 [2560/16000 (16%)]\tLoss: 0.387677\n",
      "Train Epoch: 9 [3840/16000 (24%)]\tLoss: 0.389605\n",
      "Train Epoch: 9 [5120/16000 (32%)]\tLoss: 0.360985\n",
      "Train Epoch: 9 [6400/16000 (40%)]\tLoss: 0.471155\n",
      "Train Epoch: 9 [7680/16000 (48%)]\tLoss: 0.393086\n",
      "Train Epoch: 9 [8960/16000 (56%)]\tLoss: 0.512651\n",
      "Train Epoch: 9 [10240/16000 (64%)]\tLoss: 0.410181\n",
      "Train Epoch: 9 [11520/16000 (72%)]\tLoss: 0.481910\n",
      "Train Epoch: 9 [12800/16000 (80%)]\tLoss: 0.502837\n",
      "Train Epoch: 9 [14080/16000 (88%)]\tLoss: 0.406553\n",
      "Train Epoch: 9 [15360/16000 (96%)]\tLoss: 0.489661\n",
      "\n",
      "Test set: Average loss: 0.0207, Accuracy: 2514/4000 (63%)\n",
      "\n",
      "Train Epoch: 10 [0/16000 (0%)]\tLoss: 0.397354\n",
      "Train Epoch: 10 [1280/16000 (8%)]\tLoss: 0.399209\n",
      "Train Epoch: 10 [2560/16000 (16%)]\tLoss: 0.414256\n",
      "Train Epoch: 10 [3840/16000 (24%)]\tLoss: 0.381196\n",
      "Train Epoch: 10 [5120/16000 (32%)]\tLoss: 0.430583\n",
      "Train Epoch: 10 [6400/16000 (40%)]\tLoss: 0.411612\n",
      "Train Epoch: 10 [7680/16000 (48%)]\tLoss: 0.433678\n",
      "Train Epoch: 10 [8960/16000 (56%)]\tLoss: 0.409302\n",
      "Train Epoch: 10 [10240/16000 (64%)]\tLoss: 0.374656\n",
      "Train Epoch: 10 [11520/16000 (72%)]\tLoss: 0.409473\n",
      "Train Epoch: 10 [12800/16000 (80%)]\tLoss: 0.575052\n",
      "Train Epoch: 10 [14080/16000 (88%)]\tLoss: 0.440568\n",
      "Train Epoch: 10 [15360/16000 (96%)]\tLoss: 0.414071\n",
      "\n",
      "Test set: Average loss: 0.0206, Accuracy: 2535/4000 (63%)\n",
      "\n"
     ]
    }
   ],
   "source": [
    "num_epochs = 10 #setting number of epochs for CNN\n",
    "rep_step= 40\n",
    "\n",
    "#running loop training and testing over previously specified number of epochs\n",
    "for epoch in range(1, num_epochs + 1):\n",
    "    train(model, device, train_loader, optimizer, epoch)\n",
    "    act,pred,pred_labs = test(model, device, test_loader)"
   ]
  },
  {
   "cell_type": "code",
   "execution_count": 36,
   "id": "668ffc3f",
   "metadata": {},
   "outputs": [],
   "source": [
    "# model(datap1)"
   ]
  },
  {
   "cell_type": "markdown",
   "id": "dc3283e5",
   "metadata": {},
   "source": [
    "### All Models Tested and Observations"
   ]
  },
  {
   "cell_type": "markdown",
   "id": "ce8282a1",
   "metadata": {},
   "source": [
    "#### Model 1"
   ]
  },
  {
   "cell_type": "code",
   "execution_count": null,
   "id": "d2370935",
   "metadata": {},
   "outputs": [],
   "source": [
    "inp = torch.randn(50, 1, 97, 97)\n",
    "m1 = nn.Conv2d(1, 1, kernel_size=(12,12))\n",
    "o1 = m1(inp)\n",
    "print(np.shape(o1))\n",
    "m2 = nn.MaxPool2d(kernel_size=(2,2))\n",
    "o2 = m2(o1)\n",
    "print(np.shape(o2))\n",
    "\n",
    "o3 = o2.view(-1, 1849)\n",
    "print(np.shape(o3))\n",
    "m4 = nn.Linear(1849,500)\n",
    "o4 = m4(o3)\n",
    "print(np.shape(o4))\n",
    "m5 = nn.Linear(500,50)\n",
    "o5 = m5(o4)\n",
    "print(np.shape(o5))\n",
    "m6 = nn.Linear(50,2)\n",
    "o6 = m6(o5)\n",
    "print(np.shape(o6))"
   ]
  },
  {
   "cell_type": "markdown",
   "id": "9c351bcd",
   "metadata": {},
   "source": [
    "Accuracies around 65%\n",
    "\n",
    "Tried Sigmoid, Softmax and ReLU as final activation function. Sigmoid marginally better than Softmax. ReLU doesn't work at all."
   ]
  },
  {
   "cell_type": "markdown",
   "id": "c4ba7af3",
   "metadata": {},
   "source": [
    "#### Model 2"
   ]
  },
  {
   "cell_type": "code",
   "execution_count": null,
   "id": "3d8d326a",
   "metadata": {},
   "outputs": [],
   "source": [
    "inp = torch.randn(50, 1, 97, 97)\n",
    "m = nn.Conv2d(1, 1, kernel_size=(5,5), padding = 2)\n",
    "o = m(inp)\n",
    "print(np.shape(o))\n",
    "m = nn.MaxPool2d(kernel_size=(3,3))\n",
    "o = m(o)\n",
    "print(np.shape(o))\n",
    "m = nn.Conv2d(1, 1, kernel_size=(5,5), padding = 2)\n",
    "o = m(o)\n",
    "print(np.shape(o))\n",
    "m = nn.MaxPool2d(kernel_size=(2,2))\n",
    "o = m(o)\n",
    "print(np.shape(o))\n",
    "m = nn.Conv2d(1, 1, kernel_size=(3,3), padding = 1)\n",
    "o = m(o)\n",
    "print(np.shape(o))\n",
    "m = nn.MaxPool2d(kernel_size=(2,2))\n",
    "o = m(o)\n",
    "print(np.shape(o))\n",
    "\n",
    "\n",
    "o = o.view(-1, 64)\n",
    "print(np.shape(o3))\n",
    "m = nn.Linear(64,20)\n",
    "o = m(o)\n",
    "print(np.shape(o))\n",
    "m = nn.Linear(20,2)\n",
    "o = m(o)\n",
    "print(np.shape(o))"
   ]
  },
  {
   "cell_type": "markdown",
   "id": "24e01d17",
   "metadata": {},
   "source": [
    "Accuracies around 60%. Tried changing the learning rate but to no real effect."
   ]
  },
  {
   "cell_type": "markdown",
   "id": "53a412e2",
   "metadata": {},
   "source": [
    "Get rid of max pooling?\n",
    "\n",
    "Small network, 2/4 channels."
   ]
  },
  {
   "cell_type": "markdown",
   "id": "8b620e52",
   "metadata": {},
   "source": [
    "Try just 1/2 linear layers. Add bias, tanh()."
   ]
  },
  {
   "cell_type": "markdown",
   "id": "d82fd417",
   "metadata": {},
   "source": [
    "#### Model 3"
   ]
  },
  {
   "cell_type": "code",
   "execution_count": null,
   "id": "afd622f1",
   "metadata": {},
   "outputs": [],
   "source": [
    "inp = torch.randn(50, 1, 97, 97)\n",
    "m = nn.Conv2d(1, 3, kernel_size=(5,5), padding = 2)\n",
    "o = m(inp)\n",
    "print(np.shape(o))\n",
    "m = nn.MaxPool2d(kernel_size=(3,3))\n",
    "o = m(o)\n",
    "print(np.shape(o))\n",
    "m = nn.Conv2d(3, 3, kernel_size=(5,5), padding = 2)\n",
    "o = m(o)\n",
    "print(np.shape(o))\n",
    "m = nn.MaxPool2d(kernel_size=(2,2))\n",
    "o = m(o)\n",
    "print(np.shape(o))\n",
    "m = nn.Conv2d(3, 5, kernel_size=(3,3), padding = 1)\n",
    "o = m(o)\n",
    "print(np.shape(o))\n",
    "m = nn.MaxPool2d(kernel_size=(2,2))\n",
    "o = m(o)\n",
    "print(np.shape(o))\n",
    "\n",
    "\n",
    "o = o.view(-1, 320)\n",
    "print(np.shape(o3))\n",
    "m = nn.Linear(320,20)\n",
    "o = m(o)\n",
    "print(np.shape(o))\n",
    "m = nn.Linear(20,2)\n",
    "o = m(o)\n",
    "print(np.shape(o))"
   ]
  },
  {
   "cell_type": "markdown",
   "id": "8a5ffb73",
   "metadata": {},
   "source": [
    "Accuracy of 68%"
   ]
  },
  {
   "cell_type": "markdown",
   "id": "d2bbfaa6",
   "metadata": {},
   "source": [
    "#### Model 4"
   ]
  },
  {
   "cell_type": "code",
   "execution_count": null,
   "id": "afcc3f62",
   "metadata": {},
   "outputs": [],
   "source": [
    "inp = torch.randn(50, 1, 97, 97)\n",
    "m = nn.Conv2d(1, 3, kernel_size=(5,5), padding = 2)\n",
    "o = m(inp)\n",
    "print(np.shape(o))\n",
    "\n",
    "\n",
    "o = o.view(-1, 28227)\n",
    "m = nn.Linear(28227,20)\n",
    "o = m(o)\n",
    "print(np.shape(o))\n",
    "m = nn.Linear(20,2)\n",
    "o = m(o)\n",
    "print(np.shape(o))"
   ]
  },
  {
   "cell_type": "markdown",
   "id": "f0f8d9b6",
   "metadata": {},
   "source": [
    "Accuracy of 60%"
   ]
  },
  {
   "cell_type": "markdown",
   "id": "370b300a",
   "metadata": {},
   "source": [
    "#### Model 5"
   ]
  },
  {
   "cell_type": "code",
   "execution_count": null,
   "id": "dd56bfad",
   "metadata": {},
   "outputs": [],
   "source": [
    "inp = torch.randn(50, 1, 97, 97)\n",
    "\n",
    "o = inp.view(-1, 9409)\n",
    "m = nn.Linear(9409,2)\n",
    "o = m(o)\n",
    "print(np.shape(o))"
   ]
  },
  {
   "cell_type": "markdown",
   "id": "91ec7c7f",
   "metadata": {},
   "source": [
    "Accuracy of 51%"
   ]
  },
  {
   "cell_type": "markdown",
   "id": "57f8355e",
   "metadata": {},
   "source": [
    "Perhaps many channels CNN necessary."
   ]
  },
  {
   "cell_type": "markdown",
   "id": "3be575ed",
   "metadata": {},
   "source": [
    "# Trying From Scratch Again"
   ]
  },
  {
   "cell_type": "code",
   "execution_count": 59,
   "id": "fa550252",
   "metadata": {},
   "outputs": [],
   "source": [
    "C130_dat, F170_dat = np.load('data/C_130keV_10000.npy'), np.load('data/F_170keV_10000.npy')"
   ]
  },
  {
   "cell_type": "code",
   "execution_count": 78,
   "id": "a6589d49",
   "metadata": {},
   "outputs": [],
   "source": [
    "data, labels = [],[]\n",
    "Csum, Fsum = [],[]\n",
    "\n",
    "for i in range(len(C130_dat)):\n",
    "    data.append(C130_dat[i])\n",
    "    labels.append(0)\n",
    "    Csum.append(np.sum(C130_dat[i]))\n",
    "\n",
    "for i in range(len(F170_dat)):\n",
    "    data.append(F170_dat[i])\n",
    "    labels.append(1)\n",
    "    Fsum.append(np.sum(F170_dat[i]))"
   ]
  },
  {
   "cell_type": "code",
   "execution_count": 79,
   "id": "4ec3c1c8",
   "metadata": {},
   "outputs": [],
   "source": [
    "data_norm = data/np.max(data)"
   ]
  },
  {
   "cell_type": "code",
   "execution_count": 80,
   "id": "29799ac0",
   "metadata": {},
   "outputs": [],
   "source": [
    "BATCH_SIZE=32"
   ]
  },
  {
   "cell_type": "code",
   "execution_count": 81,
   "id": "fcb4bb05",
   "metadata": {},
   "outputs": [
    {
     "name": "stdout",
     "output_type": "stream",
     "text": [
      "torch.Size([16000, 1, 97, 97])\n",
      "torch.Size([16000])\n",
      "torch.Size([4000, 1, 97, 97])\n",
      "torch.Size([4000])\n"
     ]
    }
   ],
   "source": [
    "X_train, X_test, y_train, y_test = train_test_split(data_norm, labels, test_size=0.2, random_state=42)\n",
    "\n",
    "xtrain_tensor = torch.from_numpy(np.array(X_train)) #converts numpy array to torch tensor\n",
    "xtrain_sqz = xtrain_tensor.unsqueeze(1) #adds new dimension along axis 1\n",
    "print(xtrain_sqz.shape)\n",
    "\n",
    "ytrain_tensor = torch.from_numpy(np.array(y_train))\n",
    "print(ytrain_tensor.shape)\n",
    "\n",
    "xtest_tensor = torch.from_numpy(np.array(X_test)) #converts numpy array to torch tensor\n",
    "xtest_sqz = xtest_tensor.unsqueeze(1) #adds new dimension along axis 1\n",
    "print(xtest_sqz.shape)\n",
    "\n",
    "ytest_tensor = torch.from_numpy(np.array(y_test))\n",
    "print(ytest_tensor.shape)\n",
    "\n",
    "train_data = cd.CustomDataset(xtrain_sqz.float(), ytrain_tensor.float())\n",
    "test_data = cd.CustomDataset(xtest_sqz.float(), ytest_tensor.float())\n",
    "\n",
    "#defining dataloader class\n",
    "train_loader = tud.DataLoader(dataset=train_data, batch_size=BATCH_SIZE, shuffle=True)\n",
    "train_loader_iter = iter(train_loader)\n",
    "\n",
    "#same as above but for test data\n",
    "test_loader = tud.DataLoader(dataset=test_data, batch_size=BATCH_SIZE, shuffle=True)\n",
    "test_loader_iter = iter(test_loader)"
   ]
  },
  {
   "cell_type": "code",
   "execution_count": 82,
   "id": "6d832c63",
   "metadata": {},
   "outputs": [
    {
     "name": "stdout",
     "output_type": "stream",
     "text": [
      "tensor([0., 0., 1., 1., 0., 0., 1., 0., 0., 1., 0., 1., 0., 1., 1., 0., 1., 0.,\n",
      "        0., 0., 0., 0., 0., 0., 0., 0., 1., 1., 0., 0., 1., 0.])\n"
     ]
    }
   ],
   "source": [
    "for i, (images, labels) in enumerate(train_loader):\n",
    "    print(labels)\n",
    "    break"
   ]
  },
  {
   "cell_type": "code",
   "execution_count": 83,
   "id": "f42c467a",
   "metadata": {},
   "outputs": [],
   "source": [
    "# Model\n",
    "\n",
    "\n",
    "class Model1(nn.Module):\n",
    "    def __init__(self):\n",
    "        super(Model1, self).__init__()\n",
    "\n",
    "        self.conv1 = nn.Conv2d(in_channels=1, out_channels=32, kernel_size=3)\n",
    "        self.d1 = nn.Linear(26 * 26 * 32, 128)\n",
    "        self.d2 = nn.Linear(128, 2)\n",
    "\n",
    "    def forward(self, x):\n",
    "        x = self.conv1(x)\n",
    "        x = F.relu(x)\n",
    "\n",
    "        x = x.flatten(start_dim = 1)\n",
    "\n",
    "        x = self.d1(x)\n",
    "        x = F.relu(x)\n",
    "\n",
    "        logits = self.d2(x)\n",
    "        out = F.softmax(logits, dim=1)\n",
    "        return out\n",
    "\n",
    "\n",
    "class Model2(nn.Module):\n",
    "    def __init__(self):\n",
    "        super(Model2, self).__init__()\n",
    "\n",
    "        self.d1 = nn.Linear(97 * 97, 1024)\n",
    "        self.d2 = nn.Linear(1024, 1024)\n",
    "        self.d3 = nn.Linear(1024, 2)\n",
    "\n",
    "    def forward(self, x):\n",
    "\n",
    "        x = x.flatten(start_dim = 1)\n",
    "\n",
    "        x = self.d1(x)\n",
    "        x = F.relu(x)\n",
    "\n",
    "        x = self.d2(x)\n",
    "        x = F.relu(x)\n",
    "\n",
    "        logits = self.d3(x)\n",
    "\n",
    "        out = F.softmax(logits, dim=1)\n",
    "\n",
    "        return out"
   ]
  },
  {
   "cell_type": "code",
   "execution_count": 84,
   "id": "59e098d9",
   "metadata": {},
   "outputs": [],
   "source": [
    "# Accuracy\n",
    "\n",
    "def get_accuracy(logit, target, batch_size):\n",
    "    ''' Obtain accuracy for training round '''\n",
    "    corrects = (torch.max(logit, 1)[1].view(target.size()).data == target.data).sum()\n",
    "    accuracy = 100.0 * corrects/batch_size\n",
    "    return accuracy.item()"
   ]
  },
  {
   "cell_type": "code",
   "execution_count": 89,
   "id": "a1e58476",
   "metadata": {},
   "outputs": [],
   "source": [
    "# Training set up\n",
    "\n",
    "learning_rate = 0.001\n",
    "num_epochs = 15\n",
    "\n",
    "device = torch.device(\"cuda:0\" if torch.cuda.is_available() else \"cpu\")\n",
    "model = Model2()  # try Model1 and Model2 - both work\n",
    "model = model.to(device)\n",
    "criterion = nn.CrossEntropyLoss()\n",
    "optimizer = torch.optim.Adam(model.parameters(), lr=learning_rate)"
   ]
  },
  {
   "cell_type": "code",
   "execution_count": 90,
   "id": "63cb33cf",
   "metadata": {},
   "outputs": [
    {
     "name": "stdout",
     "output_type": "stream",
     "text": [
      "Epoch: 0 | Loss: 0.6830 | Train Accuracy: 56.48\n",
      "Epoch: 1 | Loss: 0.6561 | Train Accuracy: 61.63\n",
      "Epoch: 2 | Loss: 0.6179 | Train Accuracy: 67.20\n",
      "Epoch: 3 | Loss: 0.5751 | Train Accuracy: 72.19\n",
      "Epoch: 4 | Loss: 0.5351 | Train Accuracy: 77.12\n",
      "Epoch: 5 | Loss: 0.4960 | Train Accuracy: 81.49\n",
      "Epoch: 6 | Loss: 0.4653 | Train Accuracy: 84.73\n",
      "Epoch: 7 | Loss: 0.4427 | Train Accuracy: 87.06\n",
      "Epoch: 8 | Loss: 0.4242 | Train Accuracy: 89.05\n",
      "Epoch: 9 | Loss: 0.4127 | Train Accuracy: 90.22\n",
      "Epoch: 10 | Loss: 0.4013 | Train Accuracy: 91.51\n",
      "Epoch: 11 | Loss: 0.3991 | Train Accuracy: 91.61\n",
      "Epoch: 12 | Loss: 0.3971 | Train Accuracy: 91.81\n",
      "Epoch: 13 | Loss: 0.3940 | Train Accuracy: 92.10\n",
      "Epoch: 14 | Loss: 0.3874 | Train Accuracy: 92.70\n"
     ]
    }
   ],
   "source": [
    "# Training\n",
    "\n",
    "\n",
    "for epoch in range(num_epochs):\n",
    "    train_running_loss = 0.0\n",
    "    train_acc = 0.0\n",
    "\n",
    "    model = model.train()\n",
    "\n",
    "    ## training step\n",
    "    for i, (images, labels) in enumerate(train_loader):\n",
    "\n",
    "        labels=labels.type(torch.LongTensor)\n",
    "        \n",
    "        # Override MNIST labels\n",
    "        images = images.to(device)\n",
    "        labels = labels.to(device)\n",
    "\n",
    "        ## forward + backprop + loss\n",
    "        logits = model(images)\n",
    "        loss = criterion(logits, labels)\n",
    "        optimizer.zero_grad()\n",
    "        loss.backward()\n",
    "\n",
    "        ## update model params\n",
    "        optimizer.step()\n",
    "\n",
    "        train_running_loss += loss.detach().item()\n",
    "        train_acc += get_accuracy(logits, labels, BATCH_SIZE)\n",
    "    \n",
    "    model.eval()\n",
    "    print('Epoch: %d | Loss: %.4f | Train Accuracy: %.2f' \\\n",
    "          %(epoch, train_running_loss / i, train_acc/i))        "
   ]
  },
  {
   "cell_type": "code",
   "execution_count": null,
   "id": "ed229f23",
   "metadata": {},
   "outputs": [],
   "source": []
  }
 ],
 "metadata": {
  "kernelspec": {
   "display_name": "Python 3 (ipykernel)",
   "language": "python",
   "name": "python3"
  },
  "language_info": {
   "codemirror_mode": {
    "name": "ipython",
    "version": 3
   },
   "file_extension": ".py",
   "mimetype": "text/x-python",
   "name": "python",
   "nbconvert_exporter": "python",
   "pygments_lexer": "ipython3",
   "version": "3.9.7"
  }
 },
 "nbformat": 4,
 "nbformat_minor": 5
}
