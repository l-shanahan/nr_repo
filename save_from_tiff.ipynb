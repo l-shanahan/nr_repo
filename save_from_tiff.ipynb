{
 "cells": [
  {
   "cell_type": "code",
   "execution_count": 8,
   "metadata": {},
   "outputs": [
    {
     "name": "stdout",
     "output_type": "stream",
     "text": [
      "progress: 0.000%\n",
      "progress: 3.962%\n",
      "progress: 7.924%\n",
      "progress: 11.886%\n",
      "progress: 15.848%\n",
      "progress: 19.809%\n",
      "progress: 23.771%\n",
      "progress: 27.733%\n",
      "progress: 31.695%\n",
      "progress: 35.657%\n",
      "progress: 39.619%\n",
      "progress: 43.581%\n",
      "progress: 47.543%\n",
      "progress: 51.505%\n",
      "progress: 55.466%\n",
      "progress: 59.428%\n",
      "progress: 63.390%\n",
      "progress: 67.352%\n",
      "progress: 71.314%\n",
      "progress: 75.276%\n",
      "progress: 79.238%\n",
      "progress: 83.200%\n",
      "progress: 87.161%\n",
      "progress: 91.123%\n",
      "progress: 95.085%\n",
      "progress: 99.047%\n"
     ]
    },
    {
     "data": {
      "image/png": "[encoded data removed]",
      "text/plain": [
       "<Figure size 432x288 with 1 Axes>"
      ]
     },
     "metadata": {
      "needs_background": "light"
     },
     "output_type": "display_data"
    }
   ],
   "source": [
    "import numpy as np\n",
    "import random\n",
    "from skimage import io\n",
    "import matplotlib.pyplot as plt\n",
    "import matplotlib as mpl\n",
    "%matplotlib inline\n",
    "\n",
    "from os import listdir\n",
    "\n",
    "NR_directory = '/vols/lz/lshanahan/data/DD/'\n",
    "migdal_directory = '/vols/lz/lshanahan/data/DD_migdal/'\n",
    "e_directory = '/vols/lz/lshanahan/data/e/'\n",
    "\n",
    "\n",
    "NR_files = [f'{NR_directory}{f}' for f in listdir(NR_directory)]\n",
    "migdal_files = [f'{migdal_directory}{f}' for f in listdir(migdal_directory)]\n",
    "e_files = [f'{e_directory}{f}' for f in listdir(e_directory)]\n",
    "\n",
    "all_files = NR_files + migdal_files + e_files\n",
    "\n",
    "random.shuffle(all_files)\n",
    "\n",
    "labels = np.asarray([0 if f.startswith(migdal_directory) else 1 for f in all_files])\n",
    "\n",
    "\n",
    "long_files = [f for f in migdal_files if ((f[len(migdal_directory)] == \"6\") and (f[len(migdal_directory)+3] == \".\"))]\n",
    "\n",
    "widths = np.zeros((len(long_files),2))\n",
    "for i,f in enumerate(long_files):\n",
    "    if i%(len(long_files)//25) == 0:\n",
    "        print(f'progress: {(100*i/len(long_files)):.3f}%')\n",
    "    im = io.imread(f)\n",
    "    im = im[::2,::2] + im[1::2,::2] + im[::2,1::2] + im[1::2,1::2]\n",
    "#     print(f)\n",
    "\n",
    "    imsum_y = np.sum(im,axis=0)\n",
    "    width_y = len(imsum_y[imsum_y>0])\n",
    "    imsum_x = np.sum(im,axis=1)\n",
    "    width_x = len(imsum_x[imsum_x>0])\n",
    "    \n",
    "    widths[i,:] = width_x,width_y\n",
    "   \n",
    "\n",
    "plt.figure()\n",
    "plt.hist(widths.flatten(),bins=20)\n",
    "\n",
    "max_width = np.max(widths)"
   ]
  },
  {
   "cell_type": "code",
   "execution_count": 10,
   "metadata": {},
   "outputs": [],
   "source": [
    "import pickle\n",
    "\n",
    "pickle.dump(all_files, open( \"all_files.p\", \"wb\" ) )\n",
    "np.save('labels',labels)"
   ]
  },
  {
   "cell_type": "code",
   "execution_count": 12,
   "metadata": {},
   "outputs": [
    {
     "name": "stdout",
     "output_type": "stream",
     "text": [
      "\n",
      "Group 0 progress: 0.000%\n",
      "Group 0 progress: 20.000%\n",
      "Group 0 progress: 40.000%\n",
      "Group 0 progress: 60.000%\n",
      "Group 0 progress: 80.000%\n",
      "\n",
      "Group 1 progress: 0.000%\n",
      "Group 1 progress: 20.000%\n",
      "Group 1 progress: 40.000%\n",
      "Group 1 progress: 60.000%\n",
      "Group 1 progress: 80.000%\n",
      "\n",
      "Group 2 progress: 0.000%\n",
      "Group 2 progress: 20.000%\n",
      "Group 2 progress: 40.000%\n",
      "Group 2 progress: 60.000%\n",
      "Group 2 progress: 80.000%\n",
      "\n",
      "Group 3 progress: 0.000%\n",
      "Group 3 progress: 20.000%\n",
      "Group 3 progress: 40.000%\n",
      "Group 3 progress: 60.000%\n",
      "Group 3 progress: 80.000%\n",
      "\n",
      "Group 4 progress: 0.000%\n",
      "Group 4 progress: 20.000%\n",
      "Group 4 progress: 40.000%\n",
      "Group 4 progress: 60.000%\n",
      "Group 4 progress: 80.000%\n",
      "\n",
      "Group 5 progress: 0.000%\n",
      "Group 5 progress: 20.000%\n",
      "Group 5 progress: 40.000%\n",
      "Group 5 progress: 60.000%\n",
      "Group 5 progress: 80.000%\n",
      "\n",
      "Group 6 progress: 0.000%\n",
      "Group 6 progress: 20.000%\n",
      "Group 6 progress: 40.000%\n",
      "Group 6 progress: 60.000%\n",
      "Group 6 progress: 80.000%\n",
      "\n",
      "Group 7 progress: 0.000%\n",
      "Group 7 progress: 20.000%\n",
      "Group 7 progress: 40.000%\n",
      "Group 7 progress: 60.000%\n",
      "Group 7 progress: 80.000%\n",
      "\n",
      "Group 8 progress: 0.000%\n",
      "Group 8 progress: 20.000%\n",
      "Group 8 progress: 40.000%\n",
      "Group 8 progress: 60.000%\n",
      "Group 8 progress: 80.000%\n",
      "\n",
      "Group 9 progress: 0.000%\n",
      "Group 9 progress: 20.000%\n",
      "Group 9 progress: 40.000%\n",
      "Group 9 progress: 60.000%\n",
      "Group 9 progress: 80.000%\n",
      "\n",
      "Group 10 progress: 0.000%\n",
      "Group 10 progress: 20.000%\n",
      "Group 10 progress: 40.000%\n",
      "Group 10 progress: 60.000%\n",
      "Group 10 progress: 80.000%\n",
      "\n",
      "Group 11 progress: 0.000%\n",
      "Group 11 progress: 20.000%\n",
      "Group 11 progress: 40.000%\n",
      "Group 11 progress: 60.000%\n",
      "Group 11 progress: 80.000%\n",
      "\n",
      "Group 12 progress: 0.000%\n",
      "Group 12 progress: 20.000%\n",
      "Group 12 progress: 40.000%\n",
      "Group 12 progress: 60.000%\n",
      "Group 12 progress: 80.000%\n",
      "\n",
      "Group 13 progress: 0.000%\n",
      "Group 13 progress: 20.000%\n",
      "Group 13 progress: 40.000%\n",
      "Group 13 progress: 60.000%\n",
      "Group 13 progress: 80.000%\n"
     ]
    }
   ],
   "source": [
    "all_files = pickle.load( open( \"all_files.p\", \"rb\" ) )\n",
    "labels = np.load('labels.npy')\n",
    "\n",
    "save_dir = '/vols/lz/lshanahan/data/numpy/'\n",
    "group_size = 3000\n",
    "max_width = int(max_width)\n",
    "\n",
    "for i in range(0*group_size, 14*group_size, group_size): # looping over groups\n",
    "    labels_group = labels[i:(i+group_size)]\n",
    "    data_list = []\n",
    "    energies = np.asarray([float(f.split('k')[0].split('/')[-1]) for f in all_files[i:(i+group_size)]])\n",
    "    im_stack = np.zeros((len(labels_group),max_width+10,max_width+10))\n",
    "    keep_data = np.ones(len(labels_group),dtype=bool)\n",
    "    print()\n",
    "    for j in range(i, i+group_size): # looping over elements of group\n",
    "        if (j-i)%(len(labels_group)//5) == 0:\n",
    "            print(f'Group {i//group_size} progress: {(100*(j-i)/len(labels_group)):.3f}%')\n",
    "        \n",
    "        im = io.imread(all_files[j])\n",
    "        im = im[::2,::2] + im[1::2,::2] + im[::2,1::2] + im[1::2,1::2]\n",
    "        imsum_x = np.sum(im,axis=1)\n",
    "        imsum_y = np.sum(im,axis=0)\n",
    "        try:\n",
    "            min_x = np.where(imsum_x>0)[0][0]\n",
    "            min_y = np.where(imsum_y>0)[0][0]\n",
    "        except:\n",
    "            keep_data[j-i] = False\n",
    "            continue\n",
    "\n",
    "        if min_x > 5:\n",
    "            min_x -= 5\n",
    "        else:\n",
    "            min_x = 0\n",
    "\n",
    "        if min_y > 5:\n",
    "            min_y -= 5\n",
    "        else:\n",
    "            min_y = 0\n",
    "\n",
    "        im_slice = im[min_x:(min_x+max_width+10),min_y:(min_y+max_width+10)]\n",
    "        im_stack[(j-i),:im_slice.shape[0],:im_slice.shape[1]] = im_slice\n",
    "\n",
    "    np.save(f'{save_dir}data_{int(i//group_size)}', im_stack[keep_data,:,:])\n",
    "    np.save(f'{save_dir}labels_{int(i//group_size)}', labels_group[keep_data])\n",
    "    np.save(f'{save_dir}energies_{int(i//group_size)}', energies[keep_data])"
   ]
  },
  {
   "cell_type": "markdown",
   "metadata": {},
   "source": [
    "### Adding Noise"
   ]
  },
  {
   "cell_type": "code",
   "execution_count": 1,
   "metadata": {},
   "outputs": [],
   "source": [
    "import numpy as np\n",
    "import random\n",
    "from skimage import io\n",
    "import matplotlib.pyplot as plt\n",
    "import matplotlib as mpl\n",
    "%matplotlib inline\n",
    "\n",
    "from os import listdir"
   ]
  },
  {
   "cell_type": "code",
   "execution_count": 2,
   "metadata": {
    "scrolled": true
   },
   "outputs": [
    {
     "name": "stdout",
     "output_type": "stream",
     "text": [
      "(3000, 184, 184)\n"
     ]
    },
    {
     "data": {
      "image/png": "[encoded data removed]",
      "text/plain": [
       "<Figure size 432x288 with 1 Axes>"
      ]
     },
     "metadata": {
      "needs_background": "light"
     },
     "output_type": "display_data"
    }
   ],
   "source": [
    "load_dir = '/vols/lz/lshanahan/data/numpy/'\n",
    "files = listdir(load_dir)\n",
    "\n",
    "test = np.load(f'{load_dir}/data_1.npy')/20\n",
    "\n",
    "print(test.shape)\n",
    "\n",
    "plt.imshow(test[1],cmap='jet');"
   ]
  },
  {
   "cell_type": "code",
   "execution_count": 3,
   "metadata": {},
   "outputs": [
    {
     "name": "stdout",
     "output_type": "stream",
     "text": [
      "(1000, 1152, 1152)\n",
      "(1000, 576, 576)\n"
     ]
    }
   ],
   "source": [
    "avg_bg = np.load('../fast_2x2_bg.npy')\n",
    "avg_noise = np.load(\"../fast_2x2_noise.npy\")\n",
    "\n",
    "noise = np.stack([io.imread(\"../bg/\"+im) for im in listdir('../bg/')],axis=0)\n",
    "\n",
    "print(noise.shape)\n",
    "\n",
    "noise = noise[:,::2,::2] + noise[:,1::2,::2] + noise[:,::2,1::2] + noise[:,1::2,1::2]\n",
    "\n",
    "print(noise.shape)"
   ]
  },
  {
   "cell_type": "code",
   "execution_count": 4,
   "metadata": {},
   "outputs": [
    {
     "name": "stdout",
     "output_type": "stream",
     "text": [
      "progress: 0.000%\n",
      "progress: 2.778%\n",
      "progress: 5.556%\n",
      "progress: 8.333%\n",
      "progress: 11.111%\n",
      "progress: 13.889%\n",
      "progress: 16.667%\n",
      "progress: 19.444%\n",
      "progress: 22.222%\n",
      "progress: 25.000%\n",
      "progress: 27.778%\n",
      "progress: 30.556%\n",
      "progress: 33.333%\n",
      "progress: 36.111%\n",
      "progress: 38.889%\n",
      "progress: 41.667%\n",
      "progress: 44.444%\n",
      "progress: 47.222%\n",
      "progress: 50.000%\n",
      "progress: 52.778%\n",
      "progress: 55.556%\n",
      "progress: 58.333%\n",
      "progress: 61.111%\n",
      "progress: 63.889%\n",
      "progress: 66.667%\n",
      "progress: 69.444%\n",
      "progress: 72.222%\n",
      "progress: 75.000%\n",
      "progress: 77.778%\n",
      "progress: 80.556%\n",
      "progress: 83.333%\n",
      "progress: 86.111%\n",
      "progress: 88.889%\n",
      "progress: 91.667%\n",
      "progress: 94.444%\n",
      "progress: 97.222%\n"
     ]
    }
   ],
   "source": [
    "load_dir = '/vols/lz/lshanahan/data/numpy/'\n",
    "files = listdir(load_dir)\n",
    "\n",
    "avg_bg = np.load('../fast_2x2_bg.npy')\n",
    "avg_noise = np.load(\"../fast_2x2_noise.npy\")\n",
    "\n",
    "noise = np.stack([io.imread(\"../bg/\"+im) for im in listdir('../bg/')],axis=0)\n",
    "\n",
    "noise = noise[:,::2,::2] + noise[:,1::2,::2] + noise[:,::2,1::2] + noise[:,1::2,1::2]\n",
    "\n",
    "for i in range(int(len(files)/3)): # there are [data,labels,energies] in folder so /3\n",
    "    \n",
    "    im_stack = np.load(f'{load_dir}/data_{i}.npy')/20\n",
    "    \n",
    "    noise_i = np.random.randint(0,1000,len(im_stack))\n",
    "    noise_x = np.random.randint(0,392,len(im_stack))\n",
    "    noise_y = np.random.randint(0,392,len(im_stack))\n",
    "\n",
    "\n",
    "    noise_train = np.stack([noise[noise_i[j], noise_x[j]:noise_x[j]+184, noise_y[j]:noise_y[j]+184] for j in range(len(noise_i))],axis=0)\n",
    "\n",
    "    noise_train_2 = np.stack([noise[noise_i[j], noise_x[j]:noise_x[j]+184, noise_y[j]:noise_y[j]+184] - \\\n",
    "                              avg_bg[noise_x[j]:noise_x[j]+184, noise_y[j]:noise_y[j]+184] for j in range(len(noise_i))],axis=0)\n",
    "\n",
    "    noise_train_3 = np.stack([(noise[noise_i[j], noise_x[j]:noise_x[j]+184, noise_y[j]:noise_y[j]+184] - \\\n",
    "                              avg_bg[noise_x[j]:noise_x[j]+184, noise_y[j]:noise_y[j]+184]) / \\\n",
    "                              avg_noise[noise_x[j]:noise_x[j]+184, noise_y[j]:noise_y[j]+184] for j in range(len(noise_i))],axis=0)\n",
    "\n",
    "\n",
    "    im_stack_1 = im_stack + noise_train\n",
    "    im_stack_2 = im_stack + noise_train_2\n",
    "    im_stack_3 = im_stack + noise_train_3\n",
    "\n",
    "    im_stack_4 = im_stack_2.copy()\n",
    "    im_stack_4[im_stack_4 < 0] = -np.sqrt(np.abs(im_stack_4[im_stack_4 < 0]))\n",
    "    im_stack_4[im_stack_4 > 0] = np.sqrt(im_stack_4[im_stack_4 > 0])\n",
    "\n",
    "    np.save(f'../data/numpy_noise/data_{i}_noise.npy',im_stack_1)\n",
    "    np.save(f'../data/numpy_noise/data_{i}_noise_sub_bg.npy',im_stack_2)\n",
    "    np.save(f'../data/numpy_noise/data_{i}_noise_sqrt_sub_bg.npy',im_stack_4)\n",
    "\n",
    "    del im_stack_1, im_stack_2, im_stack_4\n",
    "\n",
    "\n",
    "    for k in np.arange(0,5.1,1):\n",
    "        im_stack_3[im_stack_3 < k] = 0 \n",
    "        np.save(f'../data/numpy_noise/data_{i}_noise_{k}_threshold.npy',im_stack_3)\n",
    "        \n",
    "    print(f'progress: {(100*i/(len(files)/3)):.3f}%')"
   ]
  },
  {
   "cell_type": "code",
   "execution_count": null,
   "metadata": {},
   "outputs": [],
   "source": []
  },
  {
   "cell_type": "markdown",
   "metadata": {},
   "source": [
    "### Generator"
   ]
  },
  {
   "cell_type": "code",
   "execution_count": 37,
   "metadata": {},
   "outputs": [],
   "source": [
    "import tensorflow as tf\n",
    "from os import listdir\n",
    "import numpy as np"
   ]
  },
  {
   "cell_type": "code",
   "execution_count": 179,
   "metadata": {},
   "outputs": [
    {
     "name": "stdout",
     "output_type": "stream",
     "text": [
      "[24, 19, 17, 8, 11, 33, 29, 15, 2, 26, 21, 7, 9, 22, 18, 34, 25, 10, 30, 20, 27, 31, 35, 12, 6, 16, 3, 23, 5, 0, 13, 14, 1, 32, 4, 28]\n"
     ]
    },
    {
     "data": {
      "text/plain": [
       "[16, 3, 23, 5, 0, 13, 14, 1, 32, 4, 28]"
      ]
     },
     "execution_count": 179,
     "metadata": {},
     "output_type": "execute_result"
    }
   ],
   "source": [
    "file_nums = list(range(36))\n",
    "np.random.shuffle(file_nums)\n",
    "print(file_nums)\n",
    "\n",
    "file_nums[:25]\n",
    "file_nums[25:]"
   ]
  },
  {
   "cell_type": "code",
   "execution_count": 181,
   "metadata": {},
   "outputs": [],
   "source": [
    "def data_gen(file_nums, load_dir = '/vols/lz/lshanahan/data/numpy/'):\n",
    "    for i in file_nums: \n",
    "        data = np.expand_dims(np.load(f'{load_dir}/data_{i}.npy'),-1)\n",
    "        labels = np.load(f'{load_dir}/labels_{i}.npy').astype(np.int32)\n",
    "        for j in range(len(labels)):\n",
    "            yield data[j], labels[j:j+1]\n",
    "            \n",
    "# def data_gen_test(file_nums, split, load_dir = '/vols/lz/lshanahan/data/numpy/'):\n",
    "#     files = listdir(load_dir)\n",
    "#     for i in file_nums[split:]: # there are [data,labels,energies] in folder so /\n",
    "#         data = np.expand_dims(np.load(f'{load_dir}/data_{i}.npy'),-1)\n",
    "#         labels = np.load(f'{load_dir}/labels_{i}.npy').astype(np.int32)\n",
    "#         for j in range(len(labels)):\n",
    "#             yield data[j], labels[j:j+1]"
   ]
  },
  {
   "cell_type": "code",
   "execution_count": 182,
   "metadata": {},
   "outputs": [],
   "source": [
    "# dg = data_gen()\n",
    "# for i in dg:\n",
    "#     print(i[0].shape, i[1].shape)"
   ]
  },
  {
   "cell_type": "code",
   "execution_count": 183,
   "metadata": {},
   "outputs": [],
   "source": [
    "file_nums = list(range(36))\n",
    "np.random.shuffle(file_nums)\n",
    "split = 25\n",
    "train_dataset = tf.data.Dataset.from_generator(data_gen, \n",
    "                                        args = (file_nums[:split]),\n",
    "                                        output_shapes=(tf.TensorShape((184,184,1)),tf.TensorShape(1)), \n",
    "                                        output_types=(tf.float64,tf.int32))\n",
    "\n",
    "train_data_batch = train_dataset.batch(50)\n",
    "\n",
    "test_dataset = tf.data.Dataset.from_generator(data_gen, \n",
    "                                        args = (file_nums[split:]),\n",
    "                                        output_shapes=(tf.TensorShape((184,184,1)),tf.TensorShape(1)), \n",
    "                                        output_types=(tf.float64,tf.int32))\n",
    "\n",
    "test_data_batch = test_dataset.batch(50)"
   ]
  },
  {
   "cell_type": "code",
   "execution_count": 184,
   "metadata": {},
   "outputs": [
    {
     "data": {
      "text/plain": [
       "(TensorSpec(shape=(None, 184, 184, 1), dtype=tf.float64, name=None),\n",
       " TensorSpec(shape=(None, 1), dtype=tf.int32, name=None))"
      ]
     },
     "execution_count": 184,
     "metadata": {},
     "output_type": "execute_result"
    }
   ],
   "source": [
    "train_data_batch.element_spec"
   ]
  },
  {
   "cell_type": "code",
   "execution_count": 185,
   "metadata": {},
   "outputs": [
    {
     "data": {
      "text/plain": [
       "(TensorSpec(shape=(None, 184, 184, 1), dtype=tf.float64, name=None),\n",
       " TensorSpec(shape=(None, 1), dtype=tf.int32, name=None))"
      ]
     },
     "execution_count": 185,
     "metadata": {},
     "output_type": "execute_result"
    }
   ],
   "source": [
    "test_data_batch.element_spec"
   ]
  },
  {
   "cell_type": "code",
   "execution_count": 186,
   "metadata": {},
   "outputs": [],
   "source": [
    "from tensorflow.keras.models import Sequential\n",
    "from tensorflow.keras.layers import Flatten, Dense, Conv2D, MaxPooling2D, LeakyReLU, Dropout\n",
    "\n",
    "def opt_model():\n",
    "    global file_type_list\n",
    "    opt_model = Sequential([\n",
    "        Conv2D(10, kernel_size=(3,3), input_shape=(184,184,1), padding='same'),\n",
    "        LeakyReLU(),\n",
    "        MaxPooling2D(),\n",
    "        Conv2D(30, kernel_size=(3,3), padding='same'),\n",
    "        LeakyReLU(),\n",
    "        MaxPooling2D(),\n",
    "        Conv2D(30, kernel_size=(3,3), padding='same'),\n",
    "        LeakyReLU(),\n",
    "        MaxPooling2D(),\n",
    "        Flatten(),\n",
    "        Dropout(0.05),\n",
    "        Dense(20, kernel_regularizer = tf.keras.regularizers.L1L2(0.05,0.1)),\n",
    "        LeakyReLU(),\n",
    "        Dropout(0.05),\n",
    "        Dense(10, kernel_regularizer = tf.keras.regularizers.L1L2(0.05,0.1)),\n",
    "        LeakyReLU(),\n",
    "        Dense(1, activation='sigmoid'),\n",
    "    ], name='opt_model')\n",
    "    return opt_model\n",
    "\n",
    "model = opt_model()"
   ]
  },
  {
   "cell_type": "code",
   "execution_count": 187,
   "metadata": {},
   "outputs": [
    {
     "name": "stdout",
     "output_type": "stream",
     "text": [
      "Model: \"opt_model\"\n",
      "_________________________________________________________________\n",
      "Layer (type)                 Output Shape              Param #   \n",
      "=================================================================\n",
      "conv2d_81 (Conv2D)           (None, 184, 184, 10)      100       \n",
      "_________________________________________________________________\n",
      "leaky_re_lu_135 (LeakyReLU)  (None, 184, 184, 10)      0         \n",
      "_________________________________________________________________\n",
      "max_pooling2d_81 (MaxPooling (None, 92, 92, 10)        0         \n",
      "_________________________________________________________________\n",
      "conv2d_82 (Conv2D)           (None, 92, 92, 30)        2730      \n",
      "_________________________________________________________________\n",
      "leaky_re_lu_136 (LeakyReLU)  (None, 92, 92, 30)        0         \n",
      "_________________________________________________________________\n",
      "max_pooling2d_82 (MaxPooling (None, 46, 46, 30)        0         \n",
      "_________________________________________________________________\n",
      "conv2d_83 (Conv2D)           (None, 46, 46, 30)        8130      \n",
      "_________________________________________________________________\n",
      "leaky_re_lu_137 (LeakyReLU)  (None, 46, 46, 30)        0         \n",
      "_________________________________________________________________\n",
      "max_pooling2d_83 (MaxPooling (None, 23, 23, 30)        0         \n",
      "_________________________________________________________________\n",
      "flatten_27 (Flatten)         (None, 15870)             0         \n",
      "_________________________________________________________________\n",
      "dropout_54 (Dropout)         (None, 15870)             0         \n",
      "_________________________________________________________________\n",
      "dense_81 (Dense)             (None, 20)                317420    \n",
      "_________________________________________________________________\n",
      "leaky_re_lu_138 (LeakyReLU)  (None, 20)                0         \n",
      "_________________________________________________________________\n",
      "dropout_55 (Dropout)         (None, 20)                0         \n",
      "_________________________________________________________________\n",
      "dense_82 (Dense)             (None, 10)                210       \n",
      "_________________________________________________________________\n",
      "leaky_re_lu_139 (LeakyReLU)  (None, 10)                0         \n",
      "_________________________________________________________________\n",
      "dense_83 (Dense)             (None, 1)                 11        \n",
      "=================================================================\n",
      "Total params: 328,601\n",
      "Trainable params: 328,601\n",
      "Non-trainable params: 0\n",
      "_________________________________________________________________\n"
     ]
    }
   ],
   "source": [
    "model.summary()"
   ]
  },
  {
   "cell_type": "code",
   "execution_count": 188,
   "metadata": {},
   "outputs": [
    {
     "name": "stdout",
     "output_type": "stream",
     "text": [
      "Epoch 1/150\n",
      "1500/1500 [==============================] - 61s 40ms/step - loss: 39.9535 - accuracy: 0.6709 - val_loss: 5.0632 - val_accuracy: 0.7447\n",
      "Epoch 2/150\n",
      "1500/1500 [==============================] - 60s 40ms/step - loss: 4.7616 - accuracy: 0.7366 - val_loss: 3.9031 - val_accuracy: 0.7530\n",
      "Epoch 3/150\n",
      "1500/1500 [==============================] - 60s 40ms/step - loss: 3.5871 - accuracy: 0.7478 - val_loss: 2.8604 - val_accuracy: 0.7560\n",
      "Epoch 4/150\n",
      "1500/1500 [==============================] - 60s 40ms/step - loss: 2.7551 - accuracy: 0.7574 - val_loss: 2.3376 - val_accuracy: 0.7720\n",
      "Epoch 5/150\n",
      "1500/1500 [==============================] - 60s 40ms/step - loss: 2.3747 - accuracy: 0.7588 - val_loss: 2.2624 - val_accuracy: 0.7802\n",
      "Epoch 6/150\n",
      "1500/1500 [==============================] - 60s 40ms/step - loss: 2.3091 - accuracy: 0.7766 - val_loss: 2.2974 - val_accuracy: 0.7892\n",
      "Epoch 7/150\n",
      "1500/1500 [==============================] - 60s 40ms/step - loss: 2.3312 - accuracy: 0.7954 - val_loss: 2.3440 - val_accuracy: 0.8171\n",
      "Epoch 8/150\n",
      "1500/1500 [==============================] - 60s 40ms/step - loss: 2.3328 - accuracy: 0.8101 - val_loss: 2.3312 - val_accuracy: 0.8314\n",
      "Epoch 9/150\n",
      "1500/1500 [==============================] - 60s 40ms/step - loss: 2.3471 - accuracy: 0.8194 - val_loss: 2.2588 - val_accuracy: 0.8316\n",
      "Epoch 10/150\n",
      "1500/1500 [==============================] - 59s 39ms/step - loss: 2.3058 - accuracy: 0.8246 - val_loss: 2.2870 - val_accuracy: 0.8344\n",
      "Epoch 11/150\n",
      "1500/1500 [==============================] - 59s 39ms/step - loss: 2.3153 - accuracy: 0.8316 - val_loss: 2.2679 - val_accuracy: 0.8396\n",
      "Epoch 12/150\n",
      "1500/1500 [==============================] - 60s 40ms/step - loss: 2.3014 - accuracy: 0.8337 - val_loss: 2.2385 - val_accuracy: 0.8441\n",
      "Epoch 13/150\n",
      "1500/1500 [==============================] - 59s 39ms/step - loss: 2.2918 - accuracy: 0.8345 - val_loss: 2.2454 - val_accuracy: 0.8448\n",
      "Epoch 14/150\n",
      "1500/1500 [==============================] - 59s 39ms/step - loss: 2.2837 - accuracy: 0.8378 - val_loss: 2.2665 - val_accuracy: 0.8500\n",
      "Epoch 15/150\n",
      "1500/1500 [==============================] - 59s 39ms/step - loss: 2.2711 - accuracy: 0.8383 - val_loss: 2.2315 - val_accuracy: 0.8499\n",
      "Epoch 16/150\n",
      "1500/1500 [==============================] - 59s 39ms/step - loss: 2.2863 - accuracy: 0.8408 - val_loss: 2.2480 - val_accuracy: 0.8416\n",
      "Epoch 17/150\n",
      "1500/1500 [==============================] - 59s 39ms/step - loss: 2.2778 - accuracy: 0.8410 - val_loss: 2.3003 - val_accuracy: 0.8301\n",
      "Epoch 18/150\n",
      "1500/1500 [==============================] - 60s 40ms/step - loss: 2.2758 - accuracy: 0.8430 - val_loss: 2.2952 - val_accuracy: 0.8480\n",
      "Epoch 19/150\n",
      "1500/1500 [==============================] - 60s 40ms/step - loss: 2.2848 - accuracy: 0.8408 - val_loss: 2.2564 - val_accuracy: 0.8517\n",
      "Epoch 20/150\n",
      "1500/1500 [==============================] - 60s 40ms/step - loss: 2.2533 - accuracy: 0.8463 - val_loss: 2.2318 - val_accuracy: 0.8516\n",
      "Epoch 21/150\n",
      "1500/1500 [==============================] - 59s 39ms/step - loss: 2.2773 - accuracy: 0.8432 - val_loss: 2.2800 - val_accuracy: 0.8533\n",
      "Epoch 22/150\n",
      "1500/1500 [==============================] - 59s 39ms/step - loss: 2.2797 - accuracy: 0.8456 - val_loss: 2.3053 - val_accuracy: 0.8540\n",
      "Epoch 23/150\n",
      "1500/1500 [==============================] - 59s 39ms/step - loss: 2.2883 - accuracy: 0.8476 - val_loss: 2.3089 - val_accuracy: 0.8574\n",
      "Epoch 24/150\n",
      "1500/1500 [==============================] - 59s 39ms/step - loss: 2.2731 - accuracy: 0.8477 - val_loss: 2.2982 - val_accuracy: 0.8546\n",
      "Epoch 25/150\n",
      "1500/1500 [==============================] - 59s 39ms/step - loss: 2.2590 - accuracy: 0.8491 - val_loss: 2.3044 - val_accuracy: 0.8495\n",
      "Epoch 26/150\n",
      "1500/1500 [==============================] - 59s 39ms/step - loss: 2.2736 - accuracy: 0.8482 - val_loss: 2.3035 - val_accuracy: 0.8557\n",
      "Epoch 27/150\n",
      "1500/1500 [==============================] - 59s 39ms/step - loss: 2.2589 - accuracy: 0.8487 - val_loss: 2.3208 - val_accuracy: 0.8447\n",
      "Epoch 28/150\n",
      "1500/1500 [==============================] - 59s 39ms/step - loss: 2.2578 - accuracy: 0.8496 - val_loss: 2.3361 - val_accuracy: 0.8505\n",
      "Epoch 29/150\n",
      "1500/1500 [==============================] - 60s 40ms/step - loss: 2.2672 - accuracy: 0.8519 - val_loss: 2.2695 - val_accuracy: 0.8592\n",
      "Epoch 30/150\n",
      "1500/1500 [==============================] - 60s 40ms/step - loss: 2.2454 - accuracy: 0.8516 - val_loss: 2.4161 - val_accuracy: 0.8395\n",
      "Epoch 31/150\n",
      "1500/1500 [==============================] - 60s 40ms/step - loss: 2.2756 - accuracy: 0.8519 - val_loss: 2.3142 - val_accuracy: 0.8574\n",
      "Epoch 32/150\n",
      "1500/1500 [==============================] - 59s 39ms/step - loss: 2.2619 - accuracy: 0.8520 - val_loss: 2.2977 - val_accuracy: 0.8509\n",
      "Epoch 33/150\n",
      "1500/1500 [==============================] - 59s 39ms/step - loss: 2.2602 - accuracy: 0.8528 - val_loss: 2.2885 - val_accuracy: 0.8561\n",
      "Epoch 34/150\n",
      "1500/1500 [==============================] - 59s 39ms/step - loss: 2.2651 - accuracy: 0.8532 - val_loss: 2.2953 - val_accuracy: 0.8549\n",
      "Epoch 35/150\n",
      "1500/1500 [==============================] - 59s 39ms/step - loss: 2.2686 - accuracy: 0.8535 - val_loss: 2.3118 - val_accuracy: 0.8462\n",
      "Epoch 36/150\n",
      "1500/1500 [==============================] - 59s 39ms/step - loss: 2.2607 - accuracy: 0.8540 - val_loss: 2.3105 - val_accuracy: 0.8568\n",
      "Epoch 37/150\n",
      "1500/1500 [==============================] - 59s 39ms/step - loss: 2.2656 - accuracy: 0.8524 - val_loss: 2.4059 - val_accuracy: 0.8498\n",
      "Epoch 38/150\n",
      "1500/1500 [==============================] - 59s 39ms/step - loss: 2.2725 - accuracy: 0.8538 - val_loss: 2.3235 - val_accuracy: 0.8517\n",
      "Epoch 39/150\n",
      "1500/1500 [==============================] - 60s 40ms/step - loss: 2.2630 - accuracy: 0.8547 - val_loss: 2.3210 - val_accuracy: 0.8581\n",
      "Epoch 40/150\n",
      "1500/1500 [==============================] - 59s 39ms/step - loss: 2.2716 - accuracy: 0.8545 - val_loss: 2.3312 - val_accuracy: 0.8591\n",
      "Epoch 41/150\n",
      "1500/1500 [==============================] - 59s 39ms/step - loss: 2.2404 - accuracy: 0.8552 - val_loss: 2.3266 - val_accuracy: 0.8543\n",
      "Epoch 42/150\n",
      "1500/1500 [==============================] - 59s 39ms/step - loss: 2.2506 - accuracy: 0.8572 - val_loss: 2.3705 - val_accuracy: 0.8578\n",
      "Epoch 43/150\n",
      "1500/1500 [==============================] - 59s 39ms/step - loss: 2.2641 - accuracy: 0.8584 - val_loss: 2.2909 - val_accuracy: 0.8475\n",
      "Epoch 44/150\n",
      "1500/1500 [==============================] - 59s 39ms/step - loss: 2.2444 - accuracy: 0.8551 - val_loss: 2.3081 - val_accuracy: 0.8629\n",
      "Epoch 45/150\n",
      "1500/1500 [==============================] - 59s 39ms/step - loss: 2.2383 - accuracy: 0.8587 - val_loss: 2.3332 - val_accuracy: 0.8522\n",
      "Epoch 46/150\n",
      "1500/1500 [==============================] - 59s 39ms/step - loss: 2.2459 - accuracy: 0.8583 - val_loss: 2.2685 - val_accuracy: 0.8569\n",
      "Epoch 47/150\n",
      "1500/1500 [==============================] - 59s 39ms/step - loss: 2.2376 - accuracy: 0.8581 - val_loss: 2.3161 - val_accuracy: 0.8510\n",
      "Epoch 48/150\n",
      "1500/1500 [==============================] - 59s 39ms/step - loss: 2.2474 - accuracy: 0.8592 - val_loss: 2.2762 - val_accuracy: 0.8565\n",
      "Epoch 49/150\n",
      "1500/1500 [==============================] - 59s 39ms/step - loss: 2.2288 - accuracy: 0.8599 - val_loss: 2.2337 - val_accuracy: 0.8614\n",
      "Epoch 50/150\n",
      "1500/1500 [==============================] - 59s 39ms/step - loss: 2.2445 - accuracy: 0.8609 - val_loss: 2.2882 - val_accuracy: 0.8560\n",
      "Epoch 51/150\n",
      "1500/1500 [==============================] - 59s 39ms/step - loss: 2.2407 - accuracy: 0.8603 - val_loss: 2.2344 - val_accuracy: 0.8620\n",
      "Epoch 52/150\n",
      "1500/1500 [==============================] - 59s 39ms/step - loss: 2.2312 - accuracy: 0.8591 - val_loss: 2.3274 - val_accuracy: 0.8551\n",
      "Epoch 53/150\n",
      "1500/1500 [==============================] - 59s 39ms/step - loss: 2.2332 - accuracy: 0.8615 - val_loss: 2.2648 - val_accuracy: 0.8550\n",
      "Epoch 54/150\n",
      "1500/1500 [==============================] - 59s 39ms/step - loss: 2.2494 - accuracy: 0.8600 - val_loss: 2.2601 - val_accuracy: 0.8658\n",
      "Epoch 55/150\n",
      "1500/1500 [==============================] - 60s 40ms/step - loss: 2.2327 - accuracy: 0.8603 - val_loss: 2.2641 - val_accuracy: 0.8636\n",
      "Epoch 56/150\n",
      "1500/1500 [==============================] - 59s 39ms/step - loss: 2.2550 - accuracy: 0.8610 - val_loss: 2.2466 - val_accuracy: 0.8676\n",
      "Epoch 57/150\n",
      "1500/1500 [==============================] - 59s 39ms/step - loss: 2.2426 - accuracy: 0.8620 - val_loss: 2.3186 - val_accuracy: 0.8556\n",
      "Epoch 58/150\n",
      "1500/1500 [==============================] - 59s 39ms/step - loss: 2.2523 - accuracy: 0.8607 - val_loss: 2.3417 - val_accuracy: 0.8525\n",
      "Epoch 59/150\n",
      "1500/1500 [==============================] - 60s 40ms/step - loss: 2.2378 - accuracy: 0.8627 - val_loss: 2.2727 - val_accuracy: 0.8504\n",
      "Epoch 60/150\n",
      "1500/1500 [==============================] - 60s 40ms/step - loss: 2.2393 - accuracy: 0.8620 - val_loss: 2.3405 - val_accuracy: 0.8593\n",
      "Epoch 61/150\n",
      "1500/1500 [==============================] - 60s 40ms/step - loss: 2.2418 - accuracy: 0.8613 - val_loss: 2.3153 - val_accuracy: 0.8602\n",
      "Epoch 62/150\n",
      "1500/1500 [==============================] - 59s 39ms/step - loss: 2.2259 - accuracy: 0.8627 - val_loss: 2.2676 - val_accuracy: 0.8635\n",
      "Epoch 63/150\n",
      "1500/1500 [==============================] - 59s 39ms/step - loss: 2.2494 - accuracy: 0.8609 - val_loss: 2.2279 - val_accuracy: 0.8635\n",
      "Epoch 64/150\n",
      "1500/1500 [==============================] - 59s 39ms/step - loss: 2.2439 - accuracy: 0.8622 - val_loss: 2.2439 - val_accuracy: 0.8632\n",
      "Epoch 65/150\n",
      "1500/1500 [==============================] - 60s 40ms/step - loss: 2.2229 - accuracy: 0.8644 - val_loss: 2.2644 - val_accuracy: 0.8601\n",
      "Epoch 66/150\n",
      "1500/1500 [==============================] - 59s 39ms/step - loss: 2.2322 - accuracy: 0.8636 - val_loss: 2.2380 - val_accuracy: 0.8673\n",
      "Epoch 67/150\n",
      "1500/1500 [==============================] - 59s 39ms/step - loss: 2.2316 - accuracy: 0.8649 - val_loss: 2.2124 - val_accuracy: 0.8603\n",
      "Epoch 68/150\n",
      "1500/1500 [==============================] - 59s 39ms/step - loss: 2.2256 - accuracy: 0.8643 - val_loss: 2.2546 - val_accuracy: 0.8677\n",
      "Epoch 69/150\n",
      "1500/1500 [==============================] - 59s 39ms/step - loss: 2.2375 - accuracy: 0.8640 - val_loss: 2.2409 - val_accuracy: 0.8528\n",
      "Epoch 70/150\n",
      "1500/1500 [==============================] - 59s 39ms/step - loss: 2.2287 - accuracy: 0.8641 - val_loss: 2.2200 - val_accuracy: 0.8581\n",
      "Epoch 71/150\n",
      "1500/1500 [==============================] - 59s 39ms/step - loss: 2.2198 - accuracy: 0.8653 - val_loss: 2.3983 - val_accuracy: 0.8616\n",
      "Epoch 72/150\n",
      "1500/1500 [==============================] - 59s 39ms/step - loss: 2.2252 - accuracy: 0.8654 - val_loss: 2.2698 - val_accuracy: 0.8580\n",
      "Epoch 73/150\n",
      "1500/1500 [==============================] - 59s 39ms/step - loss: 2.2166 - accuracy: 0.8650 - val_loss: 2.2787 - val_accuracy: 0.8616\n",
      "Epoch 74/150\n",
      "1500/1500 [==============================] - 60s 40ms/step - loss: 2.2117 - accuracy: 0.8651 - val_loss: 2.3136 - val_accuracy: 0.8664\n",
      "Epoch 75/150\n",
      "1500/1500 [==============================] - 60s 40ms/step - loss: 2.2224 - accuracy: 0.8649 - val_loss: 2.2433 - val_accuracy: 0.8632\n",
      "Epoch 76/150\n",
      "1500/1500 [==============================] - 59s 39ms/step - loss: 2.2187 - accuracy: 0.8641 - val_loss: 2.2133 - val_accuracy: 0.8715\n",
      "Epoch 77/150\n",
      "1500/1500 [==============================] - 59s 39ms/step - loss: 2.2424 - accuracy: 0.8650 - val_loss: 2.2506 - val_accuracy: 0.8669\n",
      "Epoch 78/150\n",
      "1500/1500 [==============================] - 59s 39ms/step - loss: 2.2225 - accuracy: 0.8656 - val_loss: 2.4321 - val_accuracy: 0.8626\n",
      "Epoch 79/150\n",
      "1500/1500 [==============================] - 59s 39ms/step - loss: 2.2477 - accuracy: 0.8655 - val_loss: 2.2293 - val_accuracy: 0.8694\n",
      "Epoch 80/150\n",
      "1500/1500 [==============================] - 60s 40ms/step - loss: 2.2241 - accuracy: 0.8681 - val_loss: 2.2478 - val_accuracy: 0.8610\n",
      "Epoch 81/150\n",
      "1500/1500 [==============================] - 59s 39ms/step - loss: 2.2220 - accuracy: 0.8652 - val_loss: 2.3858 - val_accuracy: 0.8625\n",
      "Epoch 82/150\n",
      "1500/1500 [==============================] - 59s 39ms/step - loss: 2.2289 - accuracy: 0.8685 - val_loss: 2.1999 - val_accuracy: 0.8672\n",
      "Epoch 83/150\n",
      "1500/1500 [==============================] - 59s 39ms/step - loss: 2.2156 - accuracy: 0.8675 - val_loss: 2.2347 - val_accuracy: 0.8655\n",
      "Epoch 84/150\n",
      "1500/1500 [==============================] - 59s 39ms/step - loss: 2.2250 - accuracy: 0.8662 - val_loss: 2.3387 - val_accuracy: 0.8687\n",
      "Epoch 85/150\n",
      "1500/1500 [==============================] - 60s 40ms/step - loss: 2.2583 - accuracy: 0.8668 - val_loss: 2.3497 - val_accuracy: 0.8621\n",
      "Epoch 86/150\n",
      "1500/1500 [==============================] - 59s 39ms/step - loss: 2.2303 - accuracy: 0.8670 - val_loss: 2.2512 - val_accuracy: 0.8622\n",
      "Epoch 87/150\n",
      "1500/1500 [==============================] - 59s 39ms/step - loss: 2.2314 - accuracy: 0.8673 - val_loss: 2.3918 - val_accuracy: 0.8660\n",
      "Epoch 88/150\n",
      "1500/1500 [==============================] - 59s 39ms/step - loss: 2.2339 - accuracy: 0.8694 - val_loss: 2.3024 - val_accuracy: 0.8651\n",
      "Epoch 89/150\n",
      "1500/1500 [==============================] - 59s 39ms/step - loss: 2.2231 - accuracy: 0.8674 - val_loss: 2.2692 - val_accuracy: 0.8701\n",
      "Epoch 90/150\n",
      "1500/1500 [==============================] - 60s 40ms/step - loss: 2.2337 - accuracy: 0.8704 - val_loss: 2.2782 - val_accuracy: 0.8618\n",
      "Epoch 91/150\n",
      "1500/1500 [==============================] - 59s 39ms/step - loss: 2.2187 - accuracy: 0.8678 - val_loss: 2.3554 - val_accuracy: 0.8704\n"
     ]
    },
    {
     "data": {
      "text/plain": [
       "<tensorflow.python.keras.callbacks.History at 0x7f1378ec3610>"
      ]
     },
     "execution_count": 188,
     "metadata": {},
     "output_type": "execute_result"
    }
   ],
   "source": [
    "callback = tf.keras.callbacks.EarlyStopping(monitor='val_accuracy', restore_best_weights=True, patience=15)\n",
    "\n",
    "model = opt_model()\n",
    "\n",
    "opt = tf.keras.optimizers.Adam(learning_rate=0.001)\n",
    "model.compile(optimizer=opt, loss='binary_crossentropy',metrics=['accuracy'])\n",
    "model.fit(train_data_batch, epochs=150, validation_data=test_data_batch,callbacks=[callback],\\\n",
    "         verbose = 1)"
   ]
  },
  {
   "cell_type": "code",
   "execution_count": 189,
   "metadata": {},
   "outputs": [],
   "source": [
    "model.save('tiff_mod_1.h5')"
   ]
  },
  {
   "cell_type": "markdown",
   "metadata": {},
   "source": [
    "- Split generated data into train and test sets\n"
   ]
  }
 ],
 "metadata": {
  "kernelspec": {
   "display_name": "Python 3 (ipykernel)",
   "language": "python",
   "name": "python3"
  },
  "language_info": {
   "codemirror_mode": {
    "name": "ipython",
    "version": 3
   },
   "file_extension": ".py",
   "mimetype": "text/x-python",
   "name": "python",
   "nbconvert_exporter": "python",
   "pygments_lexer": "ipython3",
   "version": "3.9.12"
  }
 },
 "nbformat": 4,
 "nbformat_minor": 2
}
