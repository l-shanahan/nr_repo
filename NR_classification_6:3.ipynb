{
 "cells": [
  {
   "cell_type": "markdown",
   "id": "3a786de1",
   "metadata": {},
   "source": [
    "# NR Classification"
   ]
  },
  {
   "cell_type": "code",
   "execution_count": 1,
   "id": "2b105f29",
   "metadata": {},
   "outputs": [],
   "source": [
    "import numpy as np\n",
    "import matplotlib.pyplot as plt\n",
    "import matplotlib as mpl\n",
    "%matplotlib inline\n",
    "\n",
    "import sys\n",
    "import random as rd\n",
    "import torch\n",
    "from torch import nn, optim\n",
    "import torch.nn.functional as F\n",
    "import torch.utils.data as tud\n",
    "# from torch.utils.data import Dataset, DataLoader\n",
    "from sklearn.model_selection import train_test_split\n",
    "\n",
    "import CustomDataset as cd"
   ]
  },
  {
   "cell_type": "markdown",
   "id": "8c877965",
   "metadata": {},
   "source": [
    "### Loading Data"
   ]
  },
  {
   "cell_type": "markdown",
   "id": "252704a4",
   "metadata": {},
   "source": [
    "First, I'm going to try to distinguish between Carbon 130keV and Flourine 170keV."
   ]
  },
  {
   "cell_type": "code",
   "execution_count": 2,
   "id": "4e51e7b5",
   "metadata": {},
   "outputs": [],
   "source": [
    "C130_dat, F170_dat = np.load('data/C_130keV_10000.npy'), np.load('data/F_170keV_10000.npy')"
   ]
  },
  {
   "cell_type": "code",
   "execution_count": 3,
   "id": "f3ef51ea",
   "metadata": {},
   "outputs": [],
   "source": [
    "data, labels = [],[]\n",
    "Csum, Fsum = [],[]\n",
    "\n",
    "for i in range(len(C130_dat)):\n",
    "    data.append(C130_dat[i])\n",
    "    labels.append([1,0])\n",
    "    Csum.append(np.sum(C130_dat[i]))\n",
    "\n",
    "for i in range(len(F170_dat)):\n",
    "    data.append(F170_dat[i])\n",
    "    labels.append([0,1])\n",
    "    Fsum.append(np.sum(F170_dat[i]))"
   ]
  },
  {
   "cell_type": "code",
   "execution_count": 4,
   "id": "bbac01c0",
   "metadata": {},
   "outputs": [
    {
     "name": "stdout",
     "output_type": "stream",
     "text": [
      "\n",
      "Accuracy Possible with Cut of 2096 on Total Intensity: 93.67%\n"
     ]
    },
    {
     "data": {
      "image/png": "[encoded data removed]",
      "text/plain": [
       "<Figure size 1080x720 with 1 Axes>"
      ]
     },
     "metadata": {
      "needs_background": "light"
     },
     "output_type": "display_data"
    }
   ],
   "source": [
    "cut = 2096\n",
    "Cless, Fgrt = [],[]\n",
    "for i in range(len(Fsum)):\n",
    "    if Fsum[i] > cut:\n",
    "        Fgrt.append(Fsum[i])\n",
    "    if Csum[i] <= cut:\n",
    "        Cless.append(Csum[i])\n",
    "\n",
    "plt.figure(figsize=(15,10))\n",
    "plt.hist(Csum, density=True, histtype='step', bins=50, label='C130')  # density=False would make counts\n",
    "plt.hist(Fsum, density=True, histtype='step', bins=50, label='F170')\n",
    "plt.axvline(cut, c='r', ls='--', label='Cut')\n",
    "plt.ylabel('Frequency')\n",
    "plt.xlabel('Total Intensity')\n",
    "plt.legend()\n",
    "plt.savefig('intensity_hist.png')\n",
    "\n",
    "Acc = (len(Fgrt)+len(Cless))/(len(Fsum)+len(Csum))*100\n",
    "print('\\nAccuracy Possible with Cut of {} on Total Intensity: {}%'.format(cut,Acc))"
   ]
  },
  {
   "cell_type": "markdown",
   "id": "d2ac4124",
   "metadata": {},
   "source": [
    "The above accuracy is a target."
   ]
  },
  {
   "cell_type": "markdown",
   "id": "ded6052e",
   "metadata": {},
   "source": [
    "For a learning algorithm, it will be necesarry to have an input (X data) containing a number of $97\\times97$ matrices for each energy. The output will be a label, either Carbon or Flourine. The model will compare its output with the actual labels and adjust accordingly to minimise loss. \n",
    "\n",
    "In order to quantify each label, the common 'one-hot encoding' method will be used. C elements will have the label `[1, 0]` and F will be `[0, 1]`. Tuples of this form will be the ground truth labels and the model output. I will have to ensure that the model outputs an array of shape `[2]`."
   ]
  },
  {
   "cell_type": "code",
   "execution_count": 55,
   "id": "e8a1b6d7",
   "metadata": {},
   "outputs": [],
   "source": [
    "def dataprep(X,y):\n",
    "    X_train, X_test, y_train, y_test = train_test_split(X, y, test_size=0.2, random_state=42)\n",
    "\n",
    "    xtrain_tensor = torch.from_numpy(np.array(X_train)) #converts numpy array to torch tensor\n",
    "    xtrain_sqz = xtrain_tensor.unsqueeze(1) #adds new dimension along axis 1\n",
    "    print(xtrain_sqz.shape)\n",
    "\n",
    "    ytrain_tensor = torch.from_numpy(np.array(y_train))\n",
    "    ytrain_sqz = ytrain_tensor.unsqueeze(1)\n",
    "    print(ytrain_sqz.shape)\n",
    "\n",
    "    xtest_tensor = torch.from_numpy(np.array(X_test)) #converts numpy array to torch tensor\n",
    "    xtest_sqz = xtest_tensor.unsqueeze(1) #adds new dimension along axis 1\n",
    "    print(xtest_sqz.shape)\n",
    "\n",
    "    ytest_tensor = torch.from_numpy(np.array(y_test))\n",
    "    ytest_sqz = ytest_tensor.unsqueeze(1)\n",
    "    print(ytest_sqz.shape)\n",
    "\n",
    "    train_data = cd.CustomDataset(xtrain_sqz.float(), ytrain_sqz.float())\n",
    "    test_data = cd.CustomDataset(xtest_sqz.float(), ytest_sqz.float())\n",
    "\n",
    "    #defining dataloader class\n",
    "    train_loader = tud.DataLoader(dataset=train_data, batch_size=50, shuffle=True)\n",
    "    train_loader_iter = iter(train_loader)\n",
    "\n",
    "    #same as above but for test data\n",
    "    test_loader = tud.DataLoader(dataset=test_data, batch_size=50, shuffle=True)\n",
    "    test_loader_iter = iter(test_loader)\n",
    "    \n",
    "    return train_loader, test_loader"
   ]
  },
  {
   "cell_type": "code",
   "execution_count": 56,
   "id": "ac2aa1dc",
   "metadata": {},
   "outputs": [],
   "source": [
    "def train(model, device, train_loader, optimizer, epoch):\n",
    "    model.train()\n",
    "    #loop run over data output by loader to train model\n",
    "    for batch_idx, (data, target) in enumerate(train_loader):\n",
    "        data, target = data.to(device), target.to(device)\n",
    "        optimizer.zero_grad()\n",
    "        output = model(data) #applies model to data\n",
    "        target = target.squeeze(1) #removes dimension from target\n",
    "        loss = nn.CrossEntropyLoss()(output, target) #calculates cross entropy loss\n",
    "        loss.backward()\n",
    "        optimizer.step() #new step in optimisation of loss\n",
    "        #printing output of each batch for loss observation while model is training\n",
    "        if batch_idx % batch_size == 0:\n",
    "            print('Train Epoch: {} [{}/{} ({:.0f}%)]\\tLoss: {:.6f}'.format(\n",
    "                epoch, batch_idx * len(data), len(train_loader.dataset),\n",
    "                100 * batch_idx / len(train_loader), loss.item()))\n",
    "\n",
    "def test(model, device, test_loader):\n",
    "    model.eval()\n",
    "    #initialisting parameters and empty lists\n",
    "    test_loss = 0\n",
    "    correct = 0\n",
    "    probs_pred = []\n",
    "    labels_actual = []\n",
    "    labels_pred = []\n",
    "    with torch.no_grad():\n",
    "        for data, target in test_loader:\n",
    "            data, target = data.to(device), target.to(device)\n",
    "            output = model(data)\n",
    "            target=target.squeeze(1)\n",
    "            test_loss += nn.CrossEntropyLoss()(output, target).item()\n",
    "        \n",
    "            pred = output.max(1, keepdim=True)[1] #finds index of maximum in output vector as described below\n",
    "            pred_onehot = F.one_hot(pred).squeeze(1) #converts into one-hot predicted label \n",
    "            pred_bool = torch.eq(pred_onehot,target) #finds values where predicted equals target\n",
    "            correct += int((pred_bool.sum().item())/2) #sums number of correct values\n",
    "            #adds predicted labels, targets and probabilities to lists for later use\n",
    "            \n",
    "            labels_actual.append(target.cpu().numpy())\n",
    "            probs_pred.append(output.cpu().numpy())\n",
    "            labels_pred.append(pred_onehot.cpu().numpy())\n",
    " \n",
    "    #printing accuracy and loss after each epoch for analysis\n",
    "    test_loss /= len(test_loader.dataset)\n",
    "    print('\\nTest set: Average loss: {:.4f}, Accuracy: {}/{} ({:.0f}%)\\n'.format(\n",
    "        test_loss, correct, len(test_loader.dataset),\n",
    "    100 * correct / len(test_loader.dataset)))\n",
    "    \n",
    "    return(labels_actual,probs_pred,labels_pred)"
   ]
  },
  {
   "cell_type": "markdown",
   "id": "8e86df97",
   "metadata": {},
   "source": [
    "### Model "
   ]
  },
  {
   "cell_type": "code",
   "execution_count": 57,
   "id": "d4cae0fa",
   "metadata": {},
   "outputs": [
    {
     "name": "stdout",
     "output_type": "stream",
     "text": [
      "torch.Size([50, 5, 96, 96])\n",
      "torch.Size([50, 10, 95, 95])\n",
      "torch.Size([50, 15, 94, 94])\n",
      "torch.Size([50, 132540])\n",
      "torch.Size([50, 500])\n",
      "torch.Size([50, 2])\n"
     ]
    }
   ],
   "source": [
    "inp = torch.randn(50, 1, 97, 97)\n",
    "m = nn.Conv2d(1, 5, kernel_size=(2,2))\n",
    "o = m(inp)\n",
    "print(np.shape(o))\n",
    "m = nn.Conv2d(5, 10, kernel_size=(2,2))\n",
    "o = m(o)\n",
    "print(np.shape(o))\n",
    "m = nn.Conv2d(10, 15, kernel_size=(2,2))\n",
    "o = m(o)\n",
    "print(np.shape(o))\n",
    "\n",
    "o = o.view(-1, 132540)\n",
    "print(np.shape(o))\n",
    "m = nn.Linear(132540,500)\n",
    "o = m(o)\n",
    "print(np.shape(o))\n",
    "m = nn.Linear(500,2)\n",
    "o = m(o)\n",
    "print(np.shape(o))"
   ]
  },
  {
   "cell_type": "code",
   "execution_count": 58,
   "id": "146f9ba0",
   "metadata": {},
   "outputs": [
    {
     "data": {
      "text/plain": [
       "132540"
      ]
     },
     "execution_count": 58,
     "metadata": {},
     "output_type": "execute_result"
    }
   ],
   "source": [
    "94*94*15"
   ]
  },
  {
   "cell_type": "code",
   "execution_count": 59,
   "id": "9fb91d6e",
   "metadata": {},
   "outputs": [],
   "source": [
    "device = torch.device('cuda')\n",
    "\n",
    "class Net(nn.Module):\n",
    "    def __init__(self):\n",
    "        super(Net, self).__init__()\n",
    "            \n",
    "        self.fc_layers = nn.Sequential(\n",
    "            nn.Linear(9409,2),\n",
    "            nn.Sigmoid(),\n",
    "        )\n",
    "\n",
    "    def forward(self, x):\n",
    "        x = x.view(-1, 9409)\n",
    "        x = self.fc_layers(x)\n",
    "        return x"
   ]
  },
  {
   "cell_type": "code",
   "execution_count": 60,
   "id": "3ce37bf2",
   "metadata": {},
   "outputs": [],
   "source": [
    "model = Net().to(device)\n",
    "optimizer = optim.Adam(model.parameters(), lr=1e-3)"
   ]
  },
  {
   "cell_type": "code",
   "execution_count": 61,
   "id": "edf2d6d9",
   "metadata": {},
   "outputs": [],
   "source": [
    "#outputting variables from initial model\n",
    "initial_model = model\n",
    "numel_list = [p.numel() for p in model.parameters()]"
   ]
  },
  {
   "cell_type": "code",
   "execution_count": 62,
   "id": "1c763a79",
   "metadata": {},
   "outputs": [
    {
     "name": "stdout",
     "output_type": "stream",
     "text": [
      "torch.Size([16000, 1, 97, 97])\n",
      "torch.Size([16000, 1, 2])\n",
      "torch.Size([4000, 1, 97, 97])\n",
      "torch.Size([4000, 1, 2])\n"
     ]
    }
   ],
   "source": [
    "train_loader, test_loader = dataprep(data,labels)"
   ]
  },
  {
   "cell_type": "code",
   "execution_count": 63,
   "id": "45074dc6",
   "metadata": {
    "scrolled": false
   },
   "outputs": [
    {
     "name": "stdout",
     "output_type": "stream",
     "text": [
      "Train Epoch: 1 [0/16000 (0%)]\tLoss: 0.678525\n",
      "Train Epoch: 1 [2500/16000 (16%)]\tLoss: 0.638338\n",
      "Train Epoch: 1 [5000/16000 (31%)]\tLoss: 0.726858\n",
      "Train Epoch: 1 [7500/16000 (47%)]\tLoss: 0.711507\n",
      "Train Epoch: 1 [10000/16000 (62%)]\tLoss: 0.682511\n",
      "Train Epoch: 1 [12500/16000 (78%)]\tLoss: 0.680711\n",
      "Train Epoch: 1 [15000/16000 (94%)]\tLoss: 0.710791\n",
      "\n",
      "Test set: Average loss: 0.0137, Accuracy: 2198/4000 (55%)\n",
      "\n",
      "Train Epoch: 2 [0/16000 (0%)]\tLoss: 0.682677\n",
      "Train Epoch: 2 [2500/16000 (16%)]\tLoss: 0.681026\n",
      "Train Epoch: 2 [5000/16000 (31%)]\tLoss: 0.696584\n",
      "Train Epoch: 2 [7500/16000 (47%)]\tLoss: 0.652466\n",
      "Train Epoch: 2 [10000/16000 (62%)]\tLoss: 0.642440\n",
      "Train Epoch: 2 [12500/16000 (78%)]\tLoss: 0.697816\n",
      "Train Epoch: 2 [15000/16000 (94%)]\tLoss: 0.649101\n",
      "\n",
      "Test set: Average loss: 0.0137, Accuracy: 2183/4000 (55%)\n",
      "\n",
      "Train Epoch: 3 [0/16000 (0%)]\tLoss: 0.640546\n",
      "Train Epoch: 3 [2500/16000 (16%)]\tLoss: 0.649729\n",
      "Train Epoch: 3 [5000/16000 (31%)]\tLoss: 0.686415\n",
      "Train Epoch: 3 [7500/16000 (47%)]\tLoss: 0.767900\n",
      "Train Epoch: 3 [10000/16000 (62%)]\tLoss: 0.631924\n",
      "Train Epoch: 3 [12500/16000 (78%)]\tLoss: 0.685147\n",
      "Train Epoch: 3 [15000/16000 (94%)]\tLoss: 0.680330\n",
      "\n",
      "Test set: Average loss: 0.0138, Accuracy: 2233/4000 (56%)\n",
      "\n",
      "Train Epoch: 4 [0/16000 (0%)]\tLoss: 0.613854\n",
      "Train Epoch: 4 [2500/16000 (16%)]\tLoss: 0.689802\n",
      "Train Epoch: 4 [5000/16000 (31%)]\tLoss: 0.754784\n",
      "Train Epoch: 4 [7500/16000 (47%)]\tLoss: 0.638621\n",
      "Train Epoch: 4 [10000/16000 (62%)]\tLoss: 0.626528\n",
      "Train Epoch: 4 [12500/16000 (78%)]\tLoss: 0.684331\n",
      "Train Epoch: 4 [15000/16000 (94%)]\tLoss: 0.676792\n",
      "\n",
      "Test set: Average loss: 0.0138, Accuracy: 2237/4000 (56%)\n",
      "\n",
      "Train Epoch: 5 [0/16000 (0%)]\tLoss: 0.601743\n",
      "Train Epoch: 5 [2500/16000 (16%)]\tLoss: 0.675953\n",
      "Train Epoch: 5 [5000/16000 (31%)]\tLoss: 0.659833\n",
      "Train Epoch: 5 [7500/16000 (47%)]\tLoss: 0.631388\n",
      "Train Epoch: 5 [10000/16000 (62%)]\tLoss: 0.671489\n",
      "Train Epoch: 5 [12500/16000 (78%)]\tLoss: 0.647455\n",
      "Train Epoch: 5 [15000/16000 (94%)]\tLoss: 0.635028\n",
      "\n",
      "Test set: Average loss: 0.0137, Accuracy: 2231/4000 (56%)\n",
      "\n",
      "Train Epoch: 6 [0/16000 (0%)]\tLoss: 0.616551\n",
      "Train Epoch: 6 [2500/16000 (16%)]\tLoss: 0.687846\n",
      "Train Epoch: 6 [5000/16000 (31%)]\tLoss: 0.681495\n",
      "Train Epoch: 6 [7500/16000 (47%)]\tLoss: 0.642656\n",
      "Train Epoch: 6 [10000/16000 (62%)]\tLoss: 0.593030\n",
      "Train Epoch: 6 [12500/16000 (78%)]\tLoss: 0.663423\n",
      "Train Epoch: 6 [15000/16000 (94%)]\tLoss: 0.574847\n",
      "\n",
      "Test set: Average loss: 0.0137, Accuracy: 2199/4000 (55%)\n",
      "\n",
      "Train Epoch: 7 [0/16000 (0%)]\tLoss: 0.632110\n",
      "Train Epoch: 7 [2500/16000 (16%)]\tLoss: 0.642256\n",
      "Train Epoch: 7 [5000/16000 (31%)]\tLoss: 0.652329\n",
      "Train Epoch: 7 [7500/16000 (47%)]\tLoss: 0.644357\n",
      "Train Epoch: 7 [10000/16000 (62%)]\tLoss: 0.671013\n",
      "Train Epoch: 7 [12500/16000 (78%)]\tLoss: 0.613769\n",
      "Train Epoch: 7 [15000/16000 (94%)]\tLoss: 0.666525\n",
      "\n",
      "Test set: Average loss: 0.0138, Accuracy: 2252/4000 (56%)\n",
      "\n",
      "Train Epoch: 8 [0/16000 (0%)]\tLoss: 0.602370\n",
      "Train Epoch: 8 [2500/16000 (16%)]\tLoss: 0.672164\n",
      "Train Epoch: 8 [5000/16000 (31%)]\tLoss: 0.606397\n",
      "Train Epoch: 8 [7500/16000 (47%)]\tLoss: 0.635494\n",
      "Train Epoch: 8 [10000/16000 (62%)]\tLoss: 0.671157\n",
      "Train Epoch: 8 [12500/16000 (78%)]\tLoss: 0.646313\n",
      "Train Epoch: 8 [15000/16000 (94%)]\tLoss: 0.664645\n",
      "\n",
      "Test set: Average loss: 0.0136, Accuracy: 2273/4000 (57%)\n",
      "\n",
      "Train Epoch: 9 [0/16000 (0%)]\tLoss: 0.658734\n",
      "Train Epoch: 9 [2500/16000 (16%)]\tLoss: 0.672391\n",
      "Train Epoch: 9 [5000/16000 (31%)]\tLoss: 0.650388\n",
      "Train Epoch: 9 [7500/16000 (47%)]\tLoss: 0.623603\n",
      "Train Epoch: 9 [10000/16000 (62%)]\tLoss: 0.638299\n",
      "Train Epoch: 9 [12500/16000 (78%)]\tLoss: 0.602320\n",
      "Train Epoch: 9 [15000/16000 (94%)]\tLoss: 0.736705\n",
      "\n",
      "Test set: Average loss: 0.0137, Accuracy: 2287/4000 (57%)\n",
      "\n",
      "Train Epoch: 10 [0/16000 (0%)]\tLoss: 0.715731\n",
      "Train Epoch: 10 [2500/16000 (16%)]\tLoss: 0.650497\n",
      "Train Epoch: 10 [5000/16000 (31%)]\tLoss: 0.635594\n",
      "Train Epoch: 10 [7500/16000 (47%)]\tLoss: 0.687794\n",
      "Train Epoch: 10 [10000/16000 (62%)]\tLoss: 0.658174\n",
      "Train Epoch: 10 [12500/16000 (78%)]\tLoss: 0.599307\n",
      "Train Epoch: 10 [15000/16000 (94%)]\tLoss: 0.699667\n",
      "\n",
      "Test set: Average loss: 0.0137, Accuracy: 2259/4000 (56%)\n",
      "\n"
     ]
    }
   ],
   "source": [
    "num_epochs = 10 #setting number of epochs for CNN\n",
    "batch_size= 50\n",
    "\n",
    "#running loop training and testing over previously specified number of epochs\n",
    "for epoch in range(1, num_epochs + 1):\n",
    "    train(model, device, train_loader, optimizer, epoch)\n",
    "    act,pred,pred_labs = test(model, device, test_loader)"
   ]
  },
  {
   "cell_type": "code",
   "execution_count": null,
   "id": "f7661f7f",
   "metadata": {},
   "outputs": [],
   "source": []
  },
  {
   "cell_type": "markdown",
   "id": "dc3283e5",
   "metadata": {},
   "source": [
    "### All Models Tested and Observations"
   ]
  },
  {
   "cell_type": "markdown",
   "id": "ce8282a1",
   "metadata": {},
   "source": [
    "#### Model 1"
   ]
  },
  {
   "cell_type": "code",
   "execution_count": null,
   "id": "d2370935",
   "metadata": {},
   "outputs": [],
   "source": [
    "inp = torch.randn(50, 1, 97, 97)\n",
    "m1 = nn.Conv2d(1, 1, kernel_size=(12,12))\n",
    "o1 = m1(inp)\n",
    "print(np.shape(o1))\n",
    "m2 = nn.MaxPool2d(kernel_size=(2,2))\n",
    "o2 = m2(o1)\n",
    "print(np.shape(o2))\n",
    "\n",
    "o3 = o2.view(-1, 1849)\n",
    "print(np.shape(o3))\n",
    "m4 = nn.Linear(1849,500)\n",
    "o4 = m4(o3)\n",
    "print(np.shape(o4))\n",
    "m5 = nn.Linear(500,50)\n",
    "o5 = m5(o4)\n",
    "print(np.shape(o5))\n",
    "m6 = nn.Linear(50,2)\n",
    "o6 = m6(o5)\n",
    "print(np.shape(o6))"
   ]
  },
  {
   "cell_type": "markdown",
   "id": "9c351bcd",
   "metadata": {},
   "source": [
    "Accuracies around 65%\n",
    "\n",
    "Tried Sigmoid, Softmax and ReLU as final activation function. Sigmoid marginally better than Softmax. ReLU doesn't work at all."
   ]
  },
  {
   "cell_type": "markdown",
   "id": "c4ba7af3",
   "metadata": {},
   "source": [
    "#### Model 2"
   ]
  },
  {
   "cell_type": "code",
   "execution_count": null,
   "id": "3d8d326a",
   "metadata": {},
   "outputs": [],
   "source": [
    "inp = torch.randn(50, 1, 97, 97)\n",
    "m = nn.Conv2d(1, 1, kernel_size=(5,5), padding = 2)\n",
    "o = m(inp)\n",
    "print(np.shape(o))\n",
    "m = nn.MaxPool2d(kernel_size=(3,3))\n",
    "o = m(o)\n",
    "print(np.shape(o))\n",
    "m = nn.Conv2d(1, 1, kernel_size=(5,5), padding = 2)\n",
    "o = m(o)\n",
    "print(np.shape(o))\n",
    "m = nn.MaxPool2d(kernel_size=(2,2))\n",
    "o = m(o)\n",
    "print(np.shape(o))\n",
    "m = nn.Conv2d(1, 1, kernel_size=(3,3), padding = 1)\n",
    "o = m(o)\n",
    "print(np.shape(o))\n",
    "m = nn.MaxPool2d(kernel_size=(2,2))\n",
    "o = m(o)\n",
    "print(np.shape(o))\n",
    "\n",
    "\n",
    "o = o.view(-1, 64)\n",
    "print(np.shape(o3))\n",
    "m = nn.Linear(64,20)\n",
    "o = m(o)\n",
    "print(np.shape(o))\n",
    "m = nn.Linear(20,2)\n",
    "o = m(o)\n",
    "print(np.shape(o))"
   ]
  },
  {
   "cell_type": "markdown",
   "id": "24e01d17",
   "metadata": {},
   "source": [
    "Accuracies around 60%. Tried changing the learning rate but to no real effect."
   ]
  },
  {
   "cell_type": "markdown",
   "id": "53a412e2",
   "metadata": {},
   "source": [
    "Get rid of max pooling?\n",
    "\n",
    "Small network, 2/4 channels."
   ]
  },
  {
   "cell_type": "markdown",
   "id": "8b620e52",
   "metadata": {},
   "source": [
    "Try just 1/2 linear layers. Add bias, tanh()."
   ]
  },
  {
   "cell_type": "markdown",
   "id": "d82fd417",
   "metadata": {},
   "source": [
    "#### Model 3"
   ]
  },
  {
   "cell_type": "code",
   "execution_count": null,
   "id": "afd622f1",
   "metadata": {},
   "outputs": [],
   "source": [
    "inp = torch.randn(50, 1, 97, 97)\n",
    "m = nn.Conv2d(1, 3, kernel_size=(5,5), padding = 2)\n",
    "o = m(inp)\n",
    "print(np.shape(o))\n",
    "m = nn.MaxPool2d(kernel_size=(3,3))\n",
    "o = m(o)\n",
    "print(np.shape(o))\n",
    "m = nn.Conv2d(3, 3, kernel_size=(5,5), padding = 2)\n",
    "o = m(o)\n",
    "print(np.shape(o))\n",
    "m = nn.MaxPool2d(kernel_size=(2,2))\n",
    "o = m(o)\n",
    "print(np.shape(o))\n",
    "m = nn.Conv2d(3, 5, kernel_size=(3,3), padding = 1)\n",
    "o = m(o)\n",
    "print(np.shape(o))\n",
    "m = nn.MaxPool2d(kernel_size=(2,2))\n",
    "o = m(o)\n",
    "print(np.shape(o))\n",
    "\n",
    "\n",
    "o = o.view(-1, 320)\n",
    "print(np.shape(o3))\n",
    "m = nn.Linear(320,20)\n",
    "o = m(o)\n",
    "print(np.shape(o))\n",
    "m = nn.Linear(20,2)\n",
    "o = m(o)\n",
    "print(np.shape(o))"
   ]
  },
  {
   "cell_type": "markdown",
   "id": "8a5ffb73",
   "metadata": {},
   "source": [
    "Accuracy of 68%"
   ]
  },
  {
   "cell_type": "markdown",
   "id": "d2bbfaa6",
   "metadata": {},
   "source": [
    "#### Model 4"
   ]
  },
  {
   "cell_type": "code",
   "execution_count": null,
   "id": "afcc3f62",
   "metadata": {},
   "outputs": [],
   "source": [
    "inp = torch.randn(50, 1, 97, 97)\n",
    "m = nn.Conv2d(1, 3, kernel_size=(5,5), padding = 2)\n",
    "o = m(inp)\n",
    "print(np.shape(o))\n",
    "\n",
    "\n",
    "o = o.view(-1, 28227)\n",
    "m = nn.Linear(28227,20)\n",
    "o = m(o)\n",
    "print(np.shape(o))\n",
    "m = nn.Linear(20,2)\n",
    "o = m(o)\n",
    "print(np.shape(o))"
   ]
  },
  {
   "cell_type": "markdown",
   "id": "f0f8d9b6",
   "metadata": {},
   "source": [
    "Accuracy of 60%"
   ]
  },
  {
   "cell_type": "markdown",
   "id": "370b300a",
   "metadata": {},
   "source": [
    "#### Model 5"
   ]
  },
  {
   "cell_type": "code",
   "execution_count": null,
   "id": "dd56bfad",
   "metadata": {},
   "outputs": [],
   "source": [
    "inp = torch.randn(50, 1, 97, 97)\n",
    "\n",
    "o = inp.view(-1, 9409)\n",
    "m = nn.Linear(9409,2)\n",
    "o = m(o)\n",
    "print(np.shape(o))"
   ]
  },
  {
   "cell_type": "markdown",
   "id": "91ec7c7f",
   "metadata": {},
   "source": [
    "Accuracy of 51%"
   ]
  },
  {
   "cell_type": "markdown",
   "id": "57f8355e",
   "metadata": {},
   "source": [
    "Perhaps many channels CNN necessary."
   ]
  },
  {
   "cell_type": "code",
   "execution_count": null,
   "id": "45dfbe53",
   "metadata": {},
   "outputs": [],
   "source": []
  }
 ],
 "metadata": {
  "kernelspec": {
   "display_name": "Python 3 (ipykernel)",
   "language": "python",
   "name": "python3"
  },
  "language_info": {
   "codemirror_mode": {
    "name": "ipython",
    "version": 3
   },
   "file_extension": ".py",
   "mimetype": "text/x-python",
   "name": "python",
   "nbconvert_exporter": "python",
   "pygments_lexer": "ipython3",
   "version": "3.9.7"
  }
 },
 "nbformat": 4,
 "nbformat_minor": 5
}
