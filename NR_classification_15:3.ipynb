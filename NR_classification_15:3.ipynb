{
 "cells": [
  {
   "cell_type": "markdown",
   "id": "3a786de1",
   "metadata": {},
   "source": [
    "# NR Classification"
   ]
  },
  {
   "cell_type": "code",
   "execution_count": 1,
   "id": "2b105f29",
   "metadata": {},
   "outputs": [],
   "source": [
    "import numpy as np\n",
    "import matplotlib.pyplot as plt\n",
    "import matplotlib as mpl\n",
    "%matplotlib inline\n",
    "\n",
    "import sys\n",
    "import random as rd\n",
    "import torch\n",
    "from torch import nn, optim\n",
    "import torch.nn.functional as F\n",
    "import torch.utils.data as tud\n",
    "# from torch.utils.data import Dataset, DataLoader\n",
    "from sklearn.model_selection import train_test_split\n",
    "\n",
    "import CustomDataset as cd"
   ]
  },
  {
   "cell_type": "markdown",
   "id": "8c877965",
   "metadata": {},
   "source": [
    "### Loading Data"
   ]
  },
  {
   "cell_type": "markdown",
   "id": "252704a4",
   "metadata": {},
   "source": [
    "First, I'm going to try to distinguish between Carbon 130keV and Flourine 170keV."
   ]
  },
  {
   "cell_type": "code",
   "execution_count": 2,
   "id": "4e51e7b5",
   "metadata": {},
   "outputs": [],
   "source": [
    "C130_dat, F170_dat = np.load('data/C_130keV_10000.npy'), np.load('data/F_170keV_10000.npy')"
   ]
  },
  {
   "cell_type": "code",
   "execution_count": 3,
   "id": "f3ef51ea",
   "metadata": {},
   "outputs": [],
   "source": [
    "data, labels = [],[]\n",
    "Csum, Fsum = [],[]\n",
    "\n",
    "for i in range(len(C130_dat)):\n",
    "    data.append(C130_dat[i])\n",
    "    labels.append([1,0])\n",
    "    Csum.append(np.sum(C130_dat[i]))\n",
    "\n",
    "for i in range(len(F170_dat)):\n",
    "    data.append(F170_dat[i])\n",
    "    labels.append([0,1])\n",
    "    Fsum.append(np.sum(F170_dat[i]))"
   ]
  },
  {
   "cell_type": "code",
   "execution_count": 4,
   "id": "bbac01c0",
   "metadata": {},
   "outputs": [
    {
     "name": "stdout",
     "output_type": "stream",
     "text": [
      "\n",
      "Accuracy Possible with Cut of 2096 on Total Intensity: 93.67%\n"
     ]
    },
    {
     "data": {
      "image/png": "[encoded data removed]",
      "text/plain": [
       "<Figure size 1080x720 with 1 Axes>"
      ]
     },
     "metadata": {
      "needs_background": "light"
     },
     "output_type": "display_data"
    }
   ],
   "source": [
    "cut = 2096\n",
    "Cless, Fgrt = [],[]\n",
    "for i in range(len(Fsum)):\n",
    "    if Fsum[i] > cut:\n",
    "        Fgrt.append(Fsum[i])\n",
    "    if Csum[i] <= cut:\n",
    "        Cless.append(Csum[i])\n",
    "\n",
    "plt.figure(figsize=(15,10))\n",
    "plt.hist(Csum, density=True, histtype='step', bins=np.arange(2015,2180,1), label='C130')  # density=False would make counts\n",
    "plt.hist(Fsum, density=True, histtype='step', bins=np.arange(2015,2180,1), label='F170')\n",
    "plt.axvline(cut, c='r', ls='--', label='Cut')\n",
    "plt.ylabel('Frequency')\n",
    "plt.xlabel('Total Intensity')\n",
    "plt.legend()\n",
    "plt.savefig('intensity_hist.png')\n",
    "\n",
    "Acc = (len(Fgrt)+len(Cless))/(len(Fsum)+len(Csum))*100\n",
    "print('\\nAccuracy Possible with Cut of {} on Total Intensity: {}%'.format(cut,Acc))"
   ]
  },
  {
   "cell_type": "markdown",
   "id": "d2ac4124",
   "metadata": {},
   "source": [
    "The above accuracy is a target."
   ]
  },
  {
   "cell_type": "code",
   "execution_count": 5,
   "id": "81e2973a",
   "metadata": {},
   "outputs": [
    {
     "data": {
      "text/plain": [
       "754.0"
      ]
     },
     "execution_count": 5,
     "metadata": {},
     "output_type": "execute_result"
    }
   ],
   "source": [
    "np.max(data)"
   ]
  },
  {
   "cell_type": "code",
   "execution_count": 6,
   "id": "70368b9f",
   "metadata": {},
   "outputs": [],
   "source": [
    "data_norm = data/np.max(data)"
   ]
  },
  {
   "cell_type": "code",
   "execution_count": 7,
   "id": "63fa8f34",
   "metadata": {},
   "outputs": [
    {
     "data": {
      "text/plain": [
       "(20000, 97, 97)"
      ]
     },
     "execution_count": 7,
     "metadata": {},
     "output_type": "execute_result"
    }
   ],
   "source": [
    "data_norm.shape"
   ]
  },
  {
   "cell_type": "code",
   "execution_count": 8,
   "id": "6127ee0a",
   "metadata": {},
   "outputs": [],
   "source": [
    "dnormhist=[]\n",
    "for i in range(len(data_norm)):\n",
    "    dnormhist.append(np.sum(data_norm[i]))"
   ]
  },
  {
   "cell_type": "code",
   "execution_count": 9,
   "id": "194b3090",
   "metadata": {},
   "outputs": [
    {
     "data": {
      "image/png": "[encoded data removed]",
      "text/plain": [
       "<Figure size 432x288 with 1 Axes>"
      ]
     },
     "metadata": {
      "needs_background": "light"
     },
     "output_type": "display_data"
    }
   ],
   "source": [
    "plt.hist(dnormhist,150);"
   ]
  },
  {
   "cell_type": "code",
   "execution_count": 10,
   "id": "5b4ad7b2",
   "metadata": {},
   "outputs": [
    {
     "data": {
      "text/plain": [
       "0.2227727494951642"
      ]
     },
     "execution_count": 10,
     "metadata": {},
     "output_type": "execute_result"
    }
   ],
   "source": [
    "np.mean(data)"
   ]
  },
  {
   "cell_type": "code",
   "execution_count": 11,
   "id": "ec0fe25d",
   "metadata": {},
   "outputs": [
    {
     "data": {
      "text/plain": [
       "0.00029545457492726975"
      ]
     },
     "execution_count": 11,
     "metadata": {},
     "output_type": "execute_result"
    }
   ],
   "source": [
    "np.mean(data_norm)"
   ]
  },
  {
   "cell_type": "markdown",
   "id": "ded6052e",
   "metadata": {},
   "source": [
    "For a learning algorithm, it will be necesarry to have an input (X data) containing a number of $97\\times97$ matrices for each energy. The output will be a label, either Carbon or Flourine. The model will compare its output with the actual labels and adjust accordingly to minimise loss. \n",
    "\n",
    "In order to quantify each label, the common 'one-hot encoding' method will be used. C elements will have the label `[1, 0]` and F will be `[0, 1]`. Tuples of this form will be the ground truth labels and the model output. I will have to ensure that the model outputs an array of shape `[2]`."
   ]
  },
  {
   "cell_type": "code",
   "execution_count": 12,
   "id": "e8a1b6d7",
   "metadata": {
    "scrolled": true
   },
   "outputs": [
    {
     "name": "stdout",
     "output_type": "stream",
     "text": [
      "torch.Size([16000, 1, 97, 97])\n",
      "torch.Size([16000, 2])\n",
      "torch.Size([4000, 1, 97, 97])\n",
      "torch.Size([4000, 2])\n"
     ]
    }
   ],
   "source": [
    "X_train, X_test, y_train, y_test = train_test_split(data_norm, labels, test_size=0.2, random_state=42)\n",
    "\n",
    "xtrain_tensor = torch.from_numpy(np.array(X_train)) #converts numpy array to torch tensor\n",
    "xtrain_sqz = xtrain_tensor.unsqueeze(1) #adds new dimension along axis 1\n",
    "print(xtrain_sqz.shape)\n",
    "\n",
    "ytrain_tensor = torch.from_numpy(np.array(y_train))\n",
    "ytrain_sqz = ytrain_tensor.unsqueeze(1)\n",
    "print(ytrain_tensor.shape)\n",
    "\n",
    "xtest_tensor = torch.from_numpy(np.array(X_test)) #converts numpy array to torch tensor\n",
    "xtest_sqz = xtest_tensor.unsqueeze(1) #adds new dimension along axis 1\n",
    "print(xtest_sqz.shape)\n",
    "\n",
    "ytest_tensor = torch.from_numpy(np.array(y_test))\n",
    "ytest_sqz = ytest_tensor.unsqueeze(1)\n",
    "print(ytest_tensor.shape)\n",
    "\n",
    "train_data = cd.CustomDataset(xtrain_sqz.float(), ytrain_sqz.float())\n",
    "test_data = cd.CustomDataset(xtest_sqz.float(), ytest_sqz.float())\n",
    "\n",
    "#defining dataloader class\n",
    "train_loader = tud.DataLoader(dataset=train_data, batch_size=32, shuffle=True)\n",
    "train_loader_iter = iter(train_loader)\n",
    "\n",
    "#same as above but for test data\n",
    "test_loader = tud.DataLoader(dataset=test_data, batch_size=32, shuffle=True)\n",
    "test_loader_iter = iter(test_loader)"
   ]
  },
  {
   "cell_type": "code",
   "execution_count": 13,
   "id": "7acb0a17",
   "metadata": {},
   "outputs": [
    {
     "name": "stdout",
     "output_type": "stream",
     "text": [
      "torch.Size([32, 1, 97, 97])\n",
      "tensor([[0., 0., 0.,  ..., 0., 0., 0.],\n",
      "        [0., 0., 0.,  ..., 0., 0., 0.],\n",
      "        [0., 0., 0.,  ..., 0., 0., 0.],\n",
      "        ...,\n",
      "        [0., 0., 0.,  ..., 0., 0., 0.],\n",
      "        [0., 0., 0.,  ..., 0., 0., 0.],\n",
      "        [0., 0., 0.,  ..., 0., 0., 0.]])\n"
     ]
    },
    {
     "data": {
      "text/plain": [
       "<matplotlib.image.AxesImage at 0x7f86fe9e4ee0>"
      ]
     },
     "execution_count": 13,
     "metadata": {},
     "output_type": "execute_result"
    },
    {
     "data": {
      "image/png": "[encoded data removed]",
      "text/plain": [
       "<Figure size 288x288 with 1 Axes>"
      ]
     },
     "metadata": {
      "needs_background": "light"
     },
     "output_type": "display_data"
    }
   ],
   "source": [
    "ttlod = []\n",
    "for batch_idx, (data2,target2) in enumerate(train_loader):\n",
    "    datap1=data2\n",
    "    targp1=target2\n",
    "print(datap1.shape)\n",
    "print(datap1[0][0])\n",
    "plt.matshow(datap1[0][0],fignum=1)"
   ]
  },
  {
   "cell_type": "code",
   "execution_count": 14,
   "id": "24caa0b1",
   "metadata": {},
   "outputs": [],
   "source": [
    "loadedhist=[]\n",
    "for i in range(datap1.shape[0]):\n",
    "    loadedhist.append(np.sum((datap1[i][0]).numpy()))"
   ]
  },
  {
   "cell_type": "code",
   "execution_count": 15,
   "id": "877b7934",
   "metadata": {},
   "outputs": [
    {
     "data": {
      "image/png": "[encoded data removed]",
      "text/plain": [
       "<Figure size 1080x720 with 1 Axes>"
      ]
     },
     "metadata": {
      "needs_background": "light"
     },
     "output_type": "display_data"
    }
   ],
   "source": [
    "plt.figure(figsize=(15,10))\n",
    "plt.hist(loadedhist, density=True, histtype='step', bins=50); "
   ]
  },
  {
   "cell_type": "code",
   "execution_count": 16,
   "id": "ac2aa1dc",
   "metadata": {},
   "outputs": [],
   "source": [
    "def train(model, device, train_loader, optimizer, epoch):\n",
    "    model.train()\n",
    "    #loop run over data output by loader to train model\n",
    "    for batch_idx, (data, target) in enumerate(train_loader):\n",
    "        data, target = data.to(device), target.to(device)\n",
    "        optimizer.zero_grad()\n",
    "        output = model(data) #applies model to data\n",
    "        target = target.squeeze(1) #removes dimension from target\n",
    "        loss = nn.CrossEntropyLoss()(output, target) #calculates cross entropy loss\n",
    "        loss.backward()\n",
    "        optimizer.step() #new step in optimisation of loss\n",
    "        #printing output of each batch for loss observation while model is training\n",
    "        if batch_idx % rep_step == 0:\n",
    "            print('Train Epoch: {} [{}/{} ({:.0f}%)]\\tLoss: {:.6f}'.format(\n",
    "                epoch, batch_idx * len(data), len(train_loader.dataset),\n",
    "                100 * batch_idx / len(train_loader), loss.item()))\n",
    "\n",
    "def test(model, device, test_loader):\n",
    "    model.eval()\n",
    "    #initialisting parameters and empty lists\n",
    "    test_loss = 0\n",
    "    correct = 0\n",
    "    probs_pred = []\n",
    "    labels_actual = []\n",
    "    labels_pred = []\n",
    "    with torch.no_grad():\n",
    "        for data, target in test_loader:\n",
    "            data, target = data.to(device), target.to(device)\n",
    "            output = model(data)\n",
    "            target=target.squeeze(1)\n",
    "            test_loss += nn.CrossEntropyLoss()(output, target).item()\n",
    "        \n",
    "            pred = output.max(1, keepdim=True)[1] #finds index of maximum in output vector as described below\n",
    "            pred_onehot = F.one_hot(pred).squeeze(1) #converts into one-hot predicted label \n",
    "            pred_bool = torch.eq(pred_onehot,target) #finds values where predicted equals target\n",
    "            correct += int((pred_bool.sum().item())/2) #sums number of correct values\n",
    "            #adds predicted labels, targets and probabilities to lists for later use\n",
    "            \n",
    "            labels_actual.append(target.cpu().numpy())\n",
    "            probs_pred.append(output.cpu().numpy())\n",
    "            labels_pred.append(pred_onehot.cpu().numpy())\n",
    " \n",
    "    #printing accuracy and loss after each epoch for analysis\n",
    "    test_loss /= len(test_loader.dataset)\n",
    "    print('\\nTest set: Average loss: {:.4f}, Accuracy: {}/{} ({:.0f}%)\\n'.format(\n",
    "        test_loss, correct, len(test_loader.dataset),\n",
    "    100 * correct / len(test_loader.dataset)))\n",
    "    \n",
    "    return(labels_actual,probs_pred,labels_pred)"
   ]
  },
  {
   "cell_type": "code",
   "execution_count": 35,
   "id": "fbb8632f",
   "metadata": {
    "scrolled": false
   },
   "outputs": [
    {
     "name": "stdout",
     "output_type": "stream",
     "text": [
      "torch.Size([32, 2])\n",
      "tensor([1.1968e-05, 9.9999e-01], device='cuda:0')\n",
      "\n",
      "torch.Size([32, 2])\n",
      "tensor([0., 1.], device='cuda:0')\n",
      "\n",
      "0.6635875105857849\n",
      "\n",
      "torch.Size([32, 2])\n",
      "tensor([0, 1], device='cuda:0')\n",
      "tensor([True, True], device='cuda:0')\n",
      "20\n",
      "\n",
      "Test set: Average loss: 0.0053, Accuracy: 20/4000 (0%)\n",
      "\n"
     ]
    },
    {
     "data": {
      "image/png": "[encoded data removed]",
      "text/plain": [
       "<Figure size 288x288 with 1 Axes>"
      ]
     },
     "metadata": {
      "needs_background": "light"
     },
     "output_type": "display_data"
    }
   ],
   "source": [
    "model.eval()\n",
    "#initialisting parameters and empty lists\n",
    "test_loss = 0\n",
    "correct = 0\n",
    "probs_pred = []\n",
    "labels_actual = []\n",
    "labels_pred = []\n",
    "with torch.no_grad():\n",
    "    for batch_idx, (data, target) in enumerate(test_loader):\n",
    "        data, target = data.to(device), target.to(device)\n",
    "        \n",
    "#         print(data[0])\n",
    "#         print(data.shape)\n",
    "        plt.matshow(data.cpu()[0][0],fignum=1)\n",
    "        \n",
    "        output = model(data)\n",
    "        \n",
    "        print(output.shape)\n",
    "        print(output[0])\n",
    "        print()\n",
    "        \n",
    "        target=target.squeeze(1)\n",
    "        print(target.shape)\n",
    "        print(target[0])\n",
    "        print()\n",
    "        \n",
    "        test_loss += nn.CrossEntropyLoss()(output, target).item()\n",
    "        print(nn.CrossEntropyLoss()(output, target).item())\n",
    "        print()\n",
    "\n",
    "        pred = output.max(1, keepdim=True)[1] #finds index of maximum in output vector as described below\n",
    "        \n",
    "        pred_onehot = F.one_hot(pred).squeeze(1) #converts into one-hot predicted label \n",
    "        \n",
    "        print(pred_onehot.shape)\n",
    "        print(pred_onehot[0])\n",
    "        \n",
    "        pred_bool = torch.eq(pred_onehot,target) #finds values where predicted equals target\n",
    "        \n",
    "        print(pred_bool[0])\n",
    "        \n",
    "        correct += int((pred_bool.sum().item())/2) #sums number of correct values\n",
    "        \n",
    "        print(correct)\n",
    "        \n",
    "        #adds predicted labels, targets and probabilities to lists for later use\n",
    "\n",
    "        labels_actual.append(target.cpu().numpy())\n",
    "        probs_pred.append(output.cpu().numpy())\n",
    "        labels_pred.append(pred_onehot.cpu().numpy())\n",
    "        break\n",
    "\n",
    "#printing accuracy and loss after each epoch for analysis\n",
    "test_loss /= len(test_loader)\n",
    "print('\\nTest set: Average loss: {:.4f}, Accuracy: {}/{} ({:.0f}%)\\n'.format(\n",
    "    test_loss, correct, len(test_loader.dataset),\n",
    "100 * correct / len(test_loader.dataset)))"
   ]
  },
  {
   "cell_type": "code",
   "execution_count": 36,
   "id": "9b79ca4c",
   "metadata": {},
   "outputs": [
    {
     "name": "stdout",
     "output_type": "stream",
     "text": [
      "Train Epoch: 10 [0/16000 (0%)]\tLoss: 0.474209\n",
      "Train Epoch: 10 [1280/16000 (8%)]\tLoss: 0.474849\n",
      "Train Epoch: 10 [2560/16000 (16%)]\tLoss: 0.402290\n",
      "Train Epoch: 10 [3840/16000 (24%)]\tLoss: 0.382601\n",
      "Train Epoch: 10 [5120/16000 (32%)]\tLoss: 0.346575\n",
      "Train Epoch: 10 [6400/16000 (40%)]\tLoss: 0.409666\n",
      "Train Epoch: 10 [7680/16000 (48%)]\tLoss: 0.429704\n",
      "Train Epoch: 10 [8960/16000 (56%)]\tLoss: 0.469713\n",
      "Train Epoch: 10 [10240/16000 (64%)]\tLoss: 0.411289\n",
      "Train Epoch: 10 [11520/16000 (72%)]\tLoss: 0.393980\n",
      "Train Epoch: 10 [12800/16000 (80%)]\tLoss: 0.358225\n",
      "Train Epoch: 10 [14080/16000 (88%)]\tLoss: 0.347580\n",
      "Train Epoch: 10 [15360/16000 (96%)]\tLoss: 0.440855\n",
      "\n",
      "Test set: Average loss: 0.0204, Accuracy: 2568/4000 (64%)\n",
      "\n"
     ]
    }
   ],
   "source": [
    "train(model, device, train_loader, optimizer, epoch)\n",
    "act,pred,pred_labs = test(model, device, test_loader)"
   ]
  },
  {
   "cell_type": "code",
   "execution_count": 37,
   "id": "01bdffb5",
   "metadata": {},
   "outputs": [
    {
     "data": {
      "text/plain": [
       "(125, 32, 2)"
      ]
     },
     "execution_count": 37,
     "metadata": {},
     "output_type": "execute_result"
    }
   ],
   "source": [
    "np.shape(act)\n",
    "np.shape(pred)\n",
    "np.shape(pred_labs)"
   ]
  },
  {
   "cell_type": "markdown",
   "id": "8e86df97",
   "metadata": {},
   "source": [
    "### Model "
   ]
  },
  {
   "cell_type": "code",
   "execution_count": 38,
   "id": "d4cae0fa",
   "metadata": {},
   "outputs": [
    {
     "name": "stdout",
     "output_type": "stream",
     "text": [
      "torch.Size([50, 3, 96, 96])\n",
      "torch.Size([50, 5, 95, 95])\n"
     ]
    }
   ],
   "source": [
    "inp = torch.randn(50, 1, 97, 97)\n",
    "m = nn.Conv2d(1, 3, kernel_size=(2,2))\n",
    "o = m(inp)\n",
    "print(np.shape(o))\n",
    "m = nn.Conv2d(3, 5, kernel_size=(2,2))\n",
    "o = m(o)\n",
    "print(np.shape(o))\n",
    "# m = nn.Conv2d(10, 15, kernel_size=(2,2))\n",
    "# o = m(o)\n",
    "# print(np.shape(o))\n",
    "\n",
    "# o = o.view(-1, 132540)\n",
    "# print(np.shape(o))\n",
    "# m = nn.Linear(132540,500)\n",
    "# o = m(o)\n",
    "# print(np.shape(o))\n",
    "# m = nn.Linear(500,2)\n",
    "# o = m(o)\n",
    "# print(np.shape(o))"
   ]
  },
  {
   "cell_type": "code",
   "execution_count": 39,
   "id": "146f9ba0",
   "metadata": {},
   "outputs": [
    {
     "data": {
      "text/plain": [
       "132540"
      ]
     },
     "execution_count": 39,
     "metadata": {},
     "output_type": "execute_result"
    }
   ],
   "source": [
    "94*94*15"
   ]
  },
  {
   "cell_type": "code",
   "execution_count": 40,
   "id": "9fb91d6e",
   "metadata": {},
   "outputs": [],
   "source": [
    "device = torch.device('cuda')\n",
    "\n",
    "class Net(nn.Module):\n",
    "    def __init__(self):\n",
    "        super(Net, self).__init__()\n",
    "            \n",
    "        self.fc_layers = nn.Sequential(\n",
    "            nn.Linear(9409,1000),\n",
    "            nn.ReLU(),\n",
    "            nn.Linear(1000,100),\n",
    "            nn.ReLU(),\n",
    "            nn.Linear(100,2),\n",
    "            nn.Softmax(dim=1),\n",
    "        )\n",
    "\n",
    "    def forward(self, x):\n",
    "        x = x.view(-1, 9409)\n",
    "        x = self.fc_layers(x)\n",
    "        return x"
   ]
  },
  {
   "cell_type": "code",
   "execution_count": 41,
   "id": "2060fe10",
   "metadata": {},
   "outputs": [],
   "source": [
    "# class Model2(nn.Module):\n",
    "#     def __init__(self):\n",
    "#         super(Model2, self).__init__()\n",
    "\n",
    "#         self.d1 = nn.Linear(97 * 97, 1024)\n",
    "#         self.d2 = nn.Linear(1024, 1024)\n",
    "#         self.d3 = nn.Linear(1024, 2)\n",
    "\n",
    "#     def forward(self, x):\n",
    "\n",
    "#         x = x.flatten(start_dim = 1)\n",
    "\n",
    "#         x = self.d1(x)\n",
    "#         x = F.relu(x)\n",
    "\n",
    "#         x = self.d2(x)\n",
    "#         x = F.relu(x)\n",
    "\n",
    "#         logits = self.d3(x)\n",
    "\n",
    "#         out = F.softmax(logits, dim=1)\n",
    "\n",
    "#         return out"
   ]
  },
  {
   "cell_type": "code",
   "execution_count": 42,
   "id": "c6f40745",
   "metadata": {},
   "outputs": [],
   "source": [
    "model = Net().to(device)\n",
    "optimizer = optim.Adam(model.parameters(), lr=1e-3)"
   ]
  },
  {
   "cell_type": "code",
   "execution_count": 43,
   "id": "3ce37bf2",
   "metadata": {},
   "outputs": [],
   "source": [
    "# model = Net().to(device)\n",
    "# optimizer = optim.Adam(model.parameters(), lr=1e-1)"
   ]
  },
  {
   "cell_type": "code",
   "execution_count": 44,
   "id": "edf2d6d9",
   "metadata": {},
   "outputs": [],
   "source": [
    "#outputting variables from initial model\n",
    "initial_model = model\n",
    "numel_list = [p.numel() for p in model.parameters()]"
   ]
  },
  {
   "cell_type": "code",
   "execution_count": 45,
   "id": "45074dc6",
   "metadata": {
    "scrolled": false
   },
   "outputs": [
    {
     "name": "stdout",
     "output_type": "stream",
     "text": [
      "Train Epoch: 1 [0/16000 (0%)]\tLoss: 0.693661\n",
      "Train Epoch: 1 [1280/16000 (8%)]\tLoss: 0.683684\n",
      "Train Epoch: 1 [2560/16000 (16%)]\tLoss: 0.684032\n",
      "Train Epoch: 1 [3840/16000 (24%)]\tLoss: 0.671545\n",
      "Train Epoch: 1 [5120/16000 (32%)]\tLoss: 0.672358\n",
      "Train Epoch: 1 [6400/16000 (40%)]\tLoss: 0.701236\n",
      "Train Epoch: 1 [7680/16000 (48%)]\tLoss: 0.651573\n",
      "Train Epoch: 1 [8960/16000 (56%)]\tLoss: 0.672989\n",
      "Train Epoch: 1 [10240/16000 (64%)]\tLoss: 0.649648\n",
      "Train Epoch: 1 [11520/16000 (72%)]\tLoss: 0.703232\n",
      "Train Epoch: 1 [12800/16000 (80%)]\tLoss: 0.713178\n",
      "Train Epoch: 1 [14080/16000 (88%)]\tLoss: 0.714838\n",
      "Train Epoch: 1 [15360/16000 (96%)]\tLoss: 0.706271\n",
      "\n",
      "Test set: Average loss: 0.0211, Accuracy: 2296/4000 (57%)\n",
      "\n",
      "Train Epoch: 2 [0/16000 (0%)]\tLoss: 0.685594\n",
      "Train Epoch: 2 [1280/16000 (8%)]\tLoss: 0.619548\n",
      "Train Epoch: 2 [2560/16000 (16%)]\tLoss: 0.585062\n",
      "Train Epoch: 2 [3840/16000 (24%)]\tLoss: 0.635588\n",
      "Train Epoch: 2 [5120/16000 (32%)]\tLoss: 0.626518\n",
      "Train Epoch: 2 [6400/16000 (40%)]\tLoss: 0.663335\n",
      "Train Epoch: 2 [7680/16000 (48%)]\tLoss: 0.674767\n",
      "Train Epoch: 2 [8960/16000 (56%)]\tLoss: 0.670358\n",
      "Train Epoch: 2 [10240/16000 (64%)]\tLoss: 0.611335\n",
      "Train Epoch: 2 [11520/16000 (72%)]\tLoss: 0.664651\n",
      "Train Epoch: 2 [12800/16000 (80%)]\tLoss: 0.682389\n",
      "Train Epoch: 2 [14080/16000 (88%)]\tLoss: 0.695723\n",
      "Train Epoch: 2 [15360/16000 (96%)]\tLoss: 0.645021\n",
      "\n",
      "Test set: Average loss: 0.0208, Accuracy: 2381/4000 (60%)\n",
      "\n",
      "Train Epoch: 3 [0/16000 (0%)]\tLoss: 0.637325\n",
      "Train Epoch: 3 [1280/16000 (8%)]\tLoss: 0.627824\n",
      "Train Epoch: 3 [2560/16000 (16%)]\tLoss: 0.595613\n",
      "Train Epoch: 3 [3840/16000 (24%)]\tLoss: 0.700718\n",
      "Train Epoch: 3 [5120/16000 (32%)]\tLoss: 0.647510\n",
      "Train Epoch: 3 [6400/16000 (40%)]\tLoss: 0.625530\n",
      "Train Epoch: 3 [7680/16000 (48%)]\tLoss: 0.645628\n",
      "Train Epoch: 3 [8960/16000 (56%)]\tLoss: 0.655776\n",
      "Train Epoch: 3 [10240/16000 (64%)]\tLoss: 0.559929\n",
      "Train Epoch: 3 [11520/16000 (72%)]\tLoss: 0.678802\n",
      "Train Epoch: 3 [12800/16000 (80%)]\tLoss: 0.669224\n",
      "Train Epoch: 3 [14080/16000 (88%)]\tLoss: 0.581464\n",
      "Train Epoch: 3 [15360/16000 (96%)]\tLoss: 0.596420\n",
      "\n",
      "Test set: Average loss: 0.0210, Accuracy: 2355/4000 (59%)\n",
      "\n",
      "Train Epoch: 4 [0/16000 (0%)]\tLoss: 0.576813\n",
      "Train Epoch: 4 [1280/16000 (8%)]\tLoss: 0.615794\n",
      "Train Epoch: 4 [2560/16000 (16%)]\tLoss: 0.622587\n",
      "Train Epoch: 4 [3840/16000 (24%)]\tLoss: 0.536156\n",
      "Train Epoch: 4 [5120/16000 (32%)]\tLoss: 0.583783\n",
      "Train Epoch: 4 [6400/16000 (40%)]\tLoss: 0.648560\n",
      "Train Epoch: 4 [7680/16000 (48%)]\tLoss: 0.581228\n",
      "Train Epoch: 4 [8960/16000 (56%)]\tLoss: 0.619832\n",
      "Train Epoch: 4 [10240/16000 (64%)]\tLoss: 0.582298\n",
      "Train Epoch: 4 [11520/16000 (72%)]\tLoss: 0.568483\n",
      "Train Epoch: 4 [12800/16000 (80%)]\tLoss: 0.615016\n",
      "Train Epoch: 4 [14080/16000 (88%)]\tLoss: 0.576719\n",
      "Train Epoch: 4 [15360/16000 (96%)]\tLoss: 0.559288\n",
      "\n",
      "Test set: Average loss: 0.0207, Accuracy: 2432/4000 (61%)\n",
      "\n",
      "Train Epoch: 5 [0/16000 (0%)]\tLoss: 0.591863\n",
      "Train Epoch: 5 [1280/16000 (8%)]\tLoss: 0.559339\n",
      "Train Epoch: 5 [2560/16000 (16%)]\tLoss: 0.539163\n",
      "Train Epoch: 5 [3840/16000 (24%)]\tLoss: 0.593474\n",
      "Train Epoch: 5 [5120/16000 (32%)]\tLoss: 0.489807\n",
      "Train Epoch: 5 [6400/16000 (40%)]\tLoss: 0.584855\n",
      "Train Epoch: 5 [7680/16000 (48%)]\tLoss: 0.504362\n",
      "Train Epoch: 5 [8960/16000 (56%)]\tLoss: 0.611103\n",
      "Train Epoch: 5 [10240/16000 (64%)]\tLoss: 0.485774\n",
      "Train Epoch: 5 [11520/16000 (72%)]\tLoss: 0.542932\n",
      "Train Epoch: 5 [12800/16000 (80%)]\tLoss: 0.647398\n",
      "Train Epoch: 5 [14080/16000 (88%)]\tLoss: 0.476250\n",
      "Train Epoch: 5 [15360/16000 (96%)]\tLoss: 0.686873\n",
      "\n",
      "Test set: Average loss: 0.0208, Accuracy: 2462/4000 (62%)\n",
      "\n",
      "Train Epoch: 6 [0/16000 (0%)]\tLoss: 0.610874\n",
      "Train Epoch: 6 [1280/16000 (8%)]\tLoss: 0.555098\n",
      "Train Epoch: 6 [2560/16000 (16%)]\tLoss: 0.418638\n",
      "Train Epoch: 6 [3840/16000 (24%)]\tLoss: 0.545853\n",
      "Train Epoch: 6 [5120/16000 (32%)]\tLoss: 0.478286\n",
      "Train Epoch: 6 [6400/16000 (40%)]\tLoss: 0.514118\n",
      "Train Epoch: 6 [7680/16000 (48%)]\tLoss: 0.670342\n",
      "Train Epoch: 6 [8960/16000 (56%)]\tLoss: 0.609097\n",
      "Train Epoch: 6 [10240/16000 (64%)]\tLoss: 0.497353\n",
      "Train Epoch: 6 [11520/16000 (72%)]\tLoss: 0.588667\n",
      "Train Epoch: 6 [12800/16000 (80%)]\tLoss: 0.507874\n",
      "Train Epoch: 6 [14080/16000 (88%)]\tLoss: 0.458983\n",
      "Train Epoch: 6 [15360/16000 (96%)]\tLoss: 0.547264\n",
      "\n",
      "Test set: Average loss: 0.0208, Accuracy: 2454/4000 (61%)\n",
      "\n",
      "Train Epoch: 7 [0/16000 (0%)]\tLoss: 0.519256\n",
      "Train Epoch: 7 [1280/16000 (8%)]\tLoss: 0.412704\n",
      "Train Epoch: 7 [2560/16000 (16%)]\tLoss: 0.487597\n",
      "Train Epoch: 7 [3840/16000 (24%)]\tLoss: 0.445431\n",
      "Train Epoch: 7 [5120/16000 (32%)]\tLoss: 0.496645\n",
      "Train Epoch: 7 [6400/16000 (40%)]\tLoss: 0.447422\n",
      "Train Epoch: 7 [7680/16000 (48%)]\tLoss: 0.542640\n",
      "Train Epoch: 7 [8960/16000 (56%)]\tLoss: 0.551751\n",
      "Train Epoch: 7 [10240/16000 (64%)]\tLoss: 0.388631\n",
      "Train Epoch: 7 [11520/16000 (72%)]\tLoss: 0.495167\n",
      "Train Epoch: 7 [12800/16000 (80%)]\tLoss: 0.447863\n",
      "Train Epoch: 7 [14080/16000 (88%)]\tLoss: 0.450601\n",
      "Train Epoch: 7 [15360/16000 (96%)]\tLoss: 0.559191\n",
      "\n",
      "Test set: Average loss: 0.0204, Accuracy: 2550/4000 (64%)\n",
      "\n",
      "Train Epoch: 8 [0/16000 (0%)]\tLoss: 0.398106\n",
      "Train Epoch: 8 [1280/16000 (8%)]\tLoss: 0.461882\n",
      "Train Epoch: 8 [2560/16000 (16%)]\tLoss: 0.501059\n",
      "Train Epoch: 8 [3840/16000 (24%)]\tLoss: 0.528079\n",
      "Train Epoch: 8 [5120/16000 (32%)]\tLoss: 0.464261\n",
      "Train Epoch: 8 [6400/16000 (40%)]\tLoss: 0.414934\n",
      "Train Epoch: 8 [7680/16000 (48%)]\tLoss: 0.448313\n",
      "Train Epoch: 8 [8960/16000 (56%)]\tLoss: 0.466426\n",
      "Train Epoch: 8 [10240/16000 (64%)]\tLoss: 0.564534\n",
      "Train Epoch: 8 [11520/16000 (72%)]\tLoss: 0.390951\n",
      "Train Epoch: 8 [12800/16000 (80%)]\tLoss: 0.522775\n",
      "Train Epoch: 8 [14080/16000 (88%)]\tLoss: 0.598569\n",
      "Train Epoch: 8 [15360/16000 (96%)]\tLoss: 0.445891\n",
      "\n",
      "Test set: Average loss: 0.0204, Accuracy: 2568/4000 (64%)\n",
      "\n",
      "Train Epoch: 9 [0/16000 (0%)]\tLoss: 0.450033\n",
      "Train Epoch: 9 [1280/16000 (8%)]\tLoss: 0.456439\n",
      "Train Epoch: 9 [2560/16000 (16%)]\tLoss: 0.366535\n",
      "Train Epoch: 9 [3840/16000 (24%)]\tLoss: 0.403651\n",
      "Train Epoch: 9 [5120/16000 (32%)]\tLoss: 0.490308\n",
      "Train Epoch: 9 [6400/16000 (40%)]\tLoss: 0.459151\n",
      "Train Epoch: 9 [7680/16000 (48%)]\tLoss: 0.377093\n",
      "Train Epoch: 9 [8960/16000 (56%)]\tLoss: 0.404326\n",
      "Train Epoch: 9 [10240/16000 (64%)]\tLoss: 0.435121\n",
      "Train Epoch: 9 [11520/16000 (72%)]\tLoss: 0.353669\n",
      "Train Epoch: 9 [12800/16000 (80%)]\tLoss: 0.373098\n",
      "Train Epoch: 9 [14080/16000 (88%)]\tLoss: 0.412167\n",
      "Train Epoch: 9 [15360/16000 (96%)]\tLoss: 0.450799\n",
      "\n",
      "Test set: Average loss: 0.0204, Accuracy: 2577/4000 (64%)\n",
      "\n",
      "Train Epoch: 10 [0/16000 (0%)]\tLoss: 0.428029\n",
      "Train Epoch: 10 [1280/16000 (8%)]\tLoss: 0.318438\n",
      "Train Epoch: 10 [2560/16000 (16%)]\tLoss: 0.381555\n",
      "Train Epoch: 10 [3840/16000 (24%)]\tLoss: 0.323999\n",
      "Train Epoch: 10 [5120/16000 (32%)]\tLoss: 0.379862\n",
      "Train Epoch: 10 [6400/16000 (40%)]\tLoss: 0.385977\n",
      "Train Epoch: 10 [7680/16000 (48%)]\tLoss: 0.348722\n",
      "Train Epoch: 10 [8960/16000 (56%)]\tLoss: 0.461432\n",
      "Train Epoch: 10 [10240/16000 (64%)]\tLoss: 0.362457\n",
      "Train Epoch: 10 [11520/16000 (72%)]\tLoss: 0.415826\n",
      "Train Epoch: 10 [12800/16000 (80%)]\tLoss: 0.420710\n",
      "Train Epoch: 10 [14080/16000 (88%)]\tLoss: 0.369944\n",
      "Train Epoch: 10 [15360/16000 (96%)]\tLoss: 0.389540\n",
      "\n",
      "Test set: Average loss: 0.0204, Accuracy: 2552/4000 (64%)\n",
      "\n"
     ]
    }
   ],
   "source": [
    "num_epochs = 10 #setting number of epochs for CNN\n",
    "rep_step= 40\n",
    "\n",
    "#running loop training and testing over previously specified number of epochs\n",
    "for epoch in range(1, num_epochs + 1):\n",
    "    train(model, device, train_loader, optimizer, epoch)\n",
    "    act,pred,pred_labs = test(model, device, test_loader)"
   ]
  },
  {
   "cell_type": "code",
   "execution_count": 46,
   "id": "668ffc3f",
   "metadata": {},
   "outputs": [],
   "source": [
    "# model(datap1)"
   ]
  },
  {
   "cell_type": "markdown",
   "id": "dc3283e5",
   "metadata": {},
   "source": [
    "### All Models Tested and Observations"
   ]
  },
  {
   "cell_type": "markdown",
   "id": "ce8282a1",
   "metadata": {},
   "source": [
    "#### Model 1"
   ]
  },
  {
   "cell_type": "code",
   "execution_count": 47,
   "id": "d2370935",
   "metadata": {},
   "outputs": [
    {
     "name": "stdout",
     "output_type": "stream",
     "text": [
      "torch.Size([50, 1, 86, 86])\n",
      "torch.Size([50, 1, 43, 43])\n",
      "torch.Size([50, 1849])\n",
      "torch.Size([50, 500])\n",
      "torch.Size([50, 50])\n",
      "torch.Size([50, 2])\n"
     ]
    }
   ],
   "source": [
    "inp = torch.randn(50, 1, 97, 97)\n",
    "m1 = nn.Conv2d(1, 1, kernel_size=(12,12))\n",
    "o1 = m1(inp)\n",
    "print(np.shape(o1))\n",
    "m2 = nn.MaxPool2d(kernel_size=(2,2))\n",
    "o2 = m2(o1)\n",
    "print(np.shape(o2))\n",
    "\n",
    "o3 = o2.view(-1, 1849)\n",
    "print(np.shape(o3))\n",
    "m4 = nn.Linear(1849,500)\n",
    "o4 = m4(o3)\n",
    "print(np.shape(o4))\n",
    "m5 = nn.Linear(500,50)\n",
    "o5 = m5(o4)\n",
    "print(np.shape(o5))\n",
    "m6 = nn.Linear(50,2)\n",
    "o6 = m6(o5)\n",
    "print(np.shape(o6))"
   ]
  },
  {
   "cell_type": "markdown",
   "id": "9c351bcd",
   "metadata": {},
   "source": [
    "Accuracies around 65%\n",
    "\n",
    "Tried Sigmoid, Softmax and ReLU as final activation function. Sigmoid marginally better than Softmax. ReLU doesn't work at all."
   ]
  },
  {
   "cell_type": "markdown",
   "id": "c4ba7af3",
   "metadata": {},
   "source": [
    "#### Model 2"
   ]
  },
  {
   "cell_type": "code",
   "execution_count": 48,
   "id": "3d8d326a",
   "metadata": {},
   "outputs": [
    {
     "name": "stdout",
     "output_type": "stream",
     "text": [
      "torch.Size([50, 1, 97, 97])\n",
      "torch.Size([50, 1, 32, 32])\n",
      "torch.Size([50, 1, 32, 32])\n",
      "torch.Size([50, 1, 16, 16])\n",
      "torch.Size([50, 1, 16, 16])\n",
      "torch.Size([50, 1, 8, 8])\n",
      "torch.Size([50, 1849])\n",
      "torch.Size([50, 20])\n",
      "torch.Size([50, 2])\n"
     ]
    }
   ],
   "source": [
    "inp = torch.randn(50, 1, 97, 97)\n",
    "m = nn.Conv2d(1, 1, kernel_size=(5,5), padding = 2)\n",
    "o = m(inp)\n",
    "print(np.shape(o))\n",
    "m = nn.MaxPool2d(kernel_size=(3,3))\n",
    "o = m(o)\n",
    "print(np.shape(o))\n",
    "m = nn.Conv2d(1, 1, kernel_size=(5,5), padding = 2)\n",
    "o = m(o)\n",
    "print(np.shape(o))\n",
    "m = nn.MaxPool2d(kernel_size=(2,2))\n",
    "o = m(o)\n",
    "print(np.shape(o))\n",
    "m = nn.Conv2d(1, 1, kernel_size=(3,3), padding = 1)\n",
    "o = m(o)\n",
    "print(np.shape(o))\n",
    "m = nn.MaxPool2d(kernel_size=(2,2))\n",
    "o = m(o)\n",
    "print(np.shape(o))\n",
    "\n",
    "\n",
    "o = o.view(-1, 64)\n",
    "print(np.shape(o3))\n",
    "m = nn.Linear(64,20)\n",
    "o = m(o)\n",
    "print(np.shape(o))\n",
    "m = nn.Linear(20,2)\n",
    "o = m(o)\n",
    "print(np.shape(o))"
   ]
  },
  {
   "cell_type": "markdown",
   "id": "24e01d17",
   "metadata": {},
   "source": [
    "Accuracies around 60%. Tried changing the learning rate but to no real effect."
   ]
  },
  {
   "cell_type": "markdown",
   "id": "53a412e2",
   "metadata": {},
   "source": [
    "Get rid of max pooling?\n",
    "\n",
    "Small network, 2/4 channels."
   ]
  },
  {
   "cell_type": "markdown",
   "id": "8b620e52",
   "metadata": {},
   "source": [
    "Try just 1/2 linear layers. Add bias, tanh()."
   ]
  },
  {
   "cell_type": "markdown",
   "id": "d82fd417",
   "metadata": {},
   "source": [
    "#### Model 3"
   ]
  },
  {
   "cell_type": "code",
   "execution_count": 49,
   "id": "afd622f1",
   "metadata": {},
   "outputs": [
    {
     "name": "stdout",
     "output_type": "stream",
     "text": [
      "torch.Size([50, 3, 97, 97])\n",
      "torch.Size([50, 3, 32, 32])\n",
      "torch.Size([50, 3, 32, 32])\n",
      "torch.Size([50, 3, 16, 16])\n",
      "torch.Size([50, 5, 16, 16])\n",
      "torch.Size([50, 5, 8, 8])\n",
      "torch.Size([50, 1849])\n",
      "torch.Size([50, 20])\n",
      "torch.Size([50, 2])\n"
     ]
    }
   ],
   "source": [
    "inp = torch.randn(50, 1, 97, 97)\n",
    "m = nn.Conv2d(1, 3, kernel_size=(5,5), padding = 2)\n",
    "o = m(inp)\n",
    "print(np.shape(o))\n",
    "m = nn.MaxPool2d(kernel_size=(3,3))\n",
    "o = m(o)\n",
    "print(np.shape(o))\n",
    "m = nn.Conv2d(3, 3, kernel_size=(5,5), padding = 2)\n",
    "o = m(o)\n",
    "print(np.shape(o))\n",
    "m = nn.MaxPool2d(kernel_size=(2,2))\n",
    "o = m(o)\n",
    "print(np.shape(o))\n",
    "m = nn.Conv2d(3, 5, kernel_size=(3,3), padding = 1)\n",
    "o = m(o)\n",
    "print(np.shape(o))\n",
    "m = nn.MaxPool2d(kernel_size=(2,2))\n",
    "o = m(o)\n",
    "print(np.shape(o))\n",
    "\n",
    "\n",
    "o = o.view(-1, 320)\n",
    "print(np.shape(o3))\n",
    "m = nn.Linear(320,20)\n",
    "o = m(o)\n",
    "print(np.shape(o))\n",
    "m = nn.Linear(20,2)\n",
    "o = m(o)\n",
    "print(np.shape(o))"
   ]
  },
  {
   "cell_type": "markdown",
   "id": "8a5ffb73",
   "metadata": {},
   "source": [
    "Accuracy of 68%"
   ]
  },
  {
   "cell_type": "markdown",
   "id": "d2bbfaa6",
   "metadata": {},
   "source": [
    "#### Model 4"
   ]
  },
  {
   "cell_type": "code",
   "execution_count": 50,
   "id": "afcc3f62",
   "metadata": {},
   "outputs": [
    {
     "name": "stdout",
     "output_type": "stream",
     "text": [
      "torch.Size([50, 3, 97, 97])\n",
      "torch.Size([50, 20])\n",
      "torch.Size([50, 2])\n"
     ]
    }
   ],
   "source": [
    "inp = torch.randn(50, 1, 97, 97)\n",
    "m = nn.Conv2d(1, 3, kernel_size=(5,5), padding = 2)\n",
    "o = m(inp)\n",
    "print(np.shape(o))\n",
    "\n",
    "\n",
    "o = o.view(-1, 28227)\n",
    "m = nn.Linear(28227,20)\n",
    "o = m(o)\n",
    "print(np.shape(o))\n",
    "m = nn.Linear(20,2)\n",
    "o = m(o)\n",
    "print(np.shape(o))"
   ]
  },
  {
   "cell_type": "markdown",
   "id": "f0f8d9b6",
   "metadata": {},
   "source": [
    "Accuracy of 60%"
   ]
  },
  {
   "cell_type": "markdown",
   "id": "370b300a",
   "metadata": {},
   "source": [
    "#### Model 5"
   ]
  },
  {
   "cell_type": "code",
   "execution_count": 51,
   "id": "dd56bfad",
   "metadata": {},
   "outputs": [
    {
     "name": "stdout",
     "output_type": "stream",
     "text": [
      "torch.Size([50, 2])\n"
     ]
    }
   ],
   "source": [
    "inp = torch.randn(50, 1, 97, 97)\n",
    "\n",
    "o = inp.view(-1, 9409)\n",
    "m = nn.Linear(9409,2)\n",
    "o = m(o)\n",
    "print(np.shape(o))"
   ]
  },
  {
   "cell_type": "markdown",
   "id": "91ec7c7f",
   "metadata": {},
   "source": [
    "Accuracy of 51%"
   ]
  },
  {
   "cell_type": "markdown",
   "id": "57f8355e",
   "metadata": {},
   "source": [
    "Perhaps many channels CNN necessary."
   ]
  },
  {
   "cell_type": "markdown",
   "id": "3be575ed",
   "metadata": {},
   "source": [
    "# Trying From Scratch Again"
   ]
  },
  {
   "cell_type": "code",
   "execution_count": 52,
   "id": "fa550252",
   "metadata": {},
   "outputs": [],
   "source": [
    "C130_dat, F170_dat = np.load('data/C_130keV_10000.npy'), np.load('data/F_170keV_10000.npy')\n"
   ]
  },
  {
   "cell_type": "code",
   "execution_count": 53,
   "id": "a6589d49",
   "metadata": {},
   "outputs": [],
   "source": [
    "data, labels = [],[]\n",
    "Csum, Fsum = [],[]\n",
    "\n",
    "for i in range(len(C130_dat)):\n",
    "    data.append(C130_dat[i])\n",
    "    labels.append(0)\n",
    "    Csum.append(np.sum(C130_dat[i]))\n",
    "\n",
    "for i in range(len(F170_dat)):\n",
    "    data.append(F170_dat[i])\n",
    "    labels.append(1)\n",
    "    Fsum.append(np.sum(F170_dat[i]))"
   ]
  },
  {
   "cell_type": "code",
   "execution_count": 54,
   "id": "24ef538d",
   "metadata": {},
   "outputs": [],
   "source": [
    "np.random.seed(10) #fixes random seed to 10 for reproducible results\n",
    "p = np.random.permutation(len(data)) #performs random permutation to get shuffled indices\n",
    "data = np.array(data)[p] #applies shuffled indices to X data\n",
    "labels = np.array(labels)[p] #applies shuffled indices to y data"
   ]
  },
  {
   "cell_type": "code",
   "execution_count": 55,
   "id": "f73e6804",
   "metadata": {},
   "outputs": [
    {
     "data": {
      "text/plain": [
       "(20000, 97, 97)"
      ]
     },
     "execution_count": 55,
     "metadata": {},
     "output_type": "execute_result"
    }
   ],
   "source": [
    "data.shape"
   ]
  },
  {
   "cell_type": "code",
   "execution_count": 56,
   "id": "864cfc45",
   "metadata": {},
   "outputs": [
    {
     "data": {
      "text/plain": [
       "0.2227727494951642"
      ]
     },
     "execution_count": 56,
     "metadata": {},
     "output_type": "execute_result"
    }
   ],
   "source": [
    "np.mean(data)"
   ]
  },
  {
   "cell_type": "code",
   "execution_count": 57,
   "id": "4ec3c1c8",
   "metadata": {},
   "outputs": [
    {
     "name": "stderr",
     "output_type": "stream",
     "text": [
      "/tmp/ipykernel_27268/2423433199.py:2: RuntimeWarning: invalid value encountered in true_divide\n",
      "  data_norm = (data - np.nanmean(data,axis=0))/np.nanstd(data,axis=0)\n"
     ]
    }
   ],
   "source": [
    "# data_norm = data/np.max(data)\n",
    "data_norm = (data - np.nanmean(data,axis=0))/np.nanstd(data,axis=0)\n",
    "data_norm[data_norm!=data_norm]=0"
   ]
  },
  {
   "cell_type": "code",
   "execution_count": 58,
   "id": "aa1f2359",
   "metadata": {},
   "outputs": [],
   "source": [
    "BATCH_SIZE=100"
   ]
  },
  {
   "cell_type": "code",
   "execution_count": null,
   "id": "b2eccab5",
   "metadata": {},
   "outputs": [],
   "source": []
  },
  {
   "cell_type": "code",
   "execution_count": 59,
   "id": "fcb4bb05",
   "metadata": {},
   "outputs": [
    {
     "name": "stdout",
     "output_type": "stream",
     "text": [
      "torch.Size([14000, 1, 97, 97])\n",
      "torch.Size([14000])\n",
      "torch.Size([6000, 1, 97, 97])\n",
      "torch.Size([6000])\n"
     ]
    }
   ],
   "source": [
    "X_train, X_test, y_train, y_test = train_test_split(data_norm, labels, test_size=0.3, random_state=42)\n",
    "\n",
    "xtrain_tensor = torch.from_numpy(np.array(X_train)) #converts numpy array to torch tensor\n",
    "xtrain_sqz = xtrain_tensor.unsqueeze(1) #adds new dimension along axis 1\n",
    "print(xtrain_sqz.shape)\n",
    "\n",
    "ytrain_tensor = torch.from_numpy(np.array(y_train))\n",
    "print(ytrain_tensor.shape)\n",
    "\n",
    "xtest_tensor = torch.from_numpy(np.array(X_test)) #converts numpy array to torch tensor\n",
    "xtest_sqz = xtest_tensor.unsqueeze(1) #adds new dimension along axis 1\n",
    "print(xtest_sqz.shape)\n",
    "\n",
    "ytest_tensor = torch.from_numpy(np.array(y_test))\n",
    "print(ytest_tensor.shape)\n",
    "\n",
    "train_data = cd.CustomDataset(xtrain_sqz.float(), ytrain_tensor.float())\n",
    "test_data = cd.CustomDataset(xtest_sqz.float(), ytest_tensor.float())\n",
    "\n",
    "#defining dataloader class\n",
    "train_loader = tud.DataLoader(dataset=train_data, batch_size=BATCH_SIZE, shuffle=True)\n",
    "\n",
    "#same as above but for test data\n",
    "test_loader = tud.DataLoader(dataset=test_data, batch_size=BATCH_SIZE, shuffle=True)"
   ]
  },
  {
   "cell_type": "code",
   "execution_count": 61,
   "id": "6d832c63",
   "metadata": {},
   "outputs": [],
   "source": [
    "# for i, (images, labels) in enumerate(test_loader):\n",
    "# #     print(images[0])\n",
    "# #     plt.matshow(images[i].squeeze(0))\n",
    "#     print(labels)\n",
    "#     print(len(labels[labels==0]))\n",
    "#     print(len(labels[labels==1]))"
   ]
  },
  {
   "cell_type": "code",
   "execution_count": 62,
   "id": "a8a60ea6",
   "metadata": {},
   "outputs": [
    {
     "name": "stdout",
     "output_type": "stream",
     "text": [
      "tensor([1., 0., 0., 0., 1., 1., 1., 0., 0., 1., 1., 1., 1., 0., 0., 0., 0., 0.,\n",
      "        1., 0., 0., 1., 0., 0., 1., 0., 0., 1., 1., 1., 0., 0., 1., 0., 0., 0.,\n",
      "        1., 0., 1., 1., 1., 0., 1., 0., 1., 1., 0., 0., 0., 0., 0., 0., 1., 0.,\n",
      "        1., 0., 1., 0., 1., 1., 1., 1., 0., 0., 0., 0., 1., 0., 1., 1., 1., 0.,\n",
      "        1., 1., 0., 1., 0., 0., 1., 0., 1., 0., 0., 0., 0., 0., 0., 1., 0., 0.,\n",
      "        0., 0., 1., 1., 1., 0., 0., 1., 0., 0.])\n"
     ]
    }
   ],
   "source": [
    "for i, (images, labels) in enumerate(test_loader):\n",
    "    print(labels)\n",
    "    break"
   ]
  },
  {
   "cell_type": "code",
   "execution_count": 63,
   "id": "f42c467a",
   "metadata": {},
   "outputs": [],
   "source": [
    "# Model\n",
    "\n",
    "\n",
    "# class Model1(nn.Module):\n",
    "#     def __init__(self):\n",
    "#         super(Model1, self).__init__()\n",
    "\n",
    "#         self.conv1 = nn.Conv2d(in_channels=1, out_channels=32, kernel_size=3)\n",
    "#         self.d1 = nn.Linear(95 * 95 * 32, 128)\n",
    "#         self.d2 = nn.Linear(128, 2)\n",
    "\n",
    "#     def forward(self, x):\n",
    "#         x = self.conv1(x)\n",
    "#         x = F.relu(x)\n",
    "\n",
    "#         x = x.flatten(start_dim = 1)\n",
    "\n",
    "#         x = self.d1(x)\n",
    "#         x = F.relu(x)\n",
    "\n",
    "#         logits = self.d2(x)\n",
    "#         out = F.softmax(logits, dim=1)\n",
    "#         return out\n",
    "\n",
    "\n",
    "class Model2(nn.Module):\n",
    "    def __init__(self):\n",
    "        super(Model2, self).__init__()\n",
    "\n",
    "        self.d1 = nn.Linear(97 * 97, 1024)\n",
    "        self.d2 = nn.Linear(1024, 1024)\n",
    "        self.d3 = nn.Linear(1024, 2)\n",
    "\n",
    "    def forward(self, x):\n",
    "\n",
    "        x = x.flatten(start_dim = 1)\n",
    "\n",
    "        x = self.d1(x)\n",
    "        x = F.relu(x)\n",
    "\n",
    "        x = self.d2(x)\n",
    "        x = F.relu(x)\n",
    "\n",
    "        logits = self.d3(x)\n",
    "\n",
    "        out = F.softmax(logits, dim=1)\n",
    "\n",
    "        return out"
   ]
  },
  {
   "cell_type": "code",
   "execution_count": 64,
   "id": "59e098d9",
   "metadata": {},
   "outputs": [],
   "source": [
    "# Accuracy\n",
    "\n",
    "def get_accuracy(logit, target, BATCH_SIZE):\n",
    "    ''' Obtain accuracy for training round '''\n",
    "    corrects = (torch.max(logit, 1)[1].view(target.size()).data == target.data).sum()\n",
    "    accuracy = 100.0 * corrects/BATCH_SIZE\n",
    "    return accuracy.item()"
   ]
  },
  {
   "cell_type": "code",
   "execution_count": 65,
   "id": "a1e58476",
   "metadata": {},
   "outputs": [],
   "source": [
    "# Training set up\n",
    "\n",
    "learning_rate = 0.0001\n",
    "num_epochs = 10\n",
    "\n",
    "device = torch.device(\"cuda:0\" if torch.cuda.is_available() else \"cpu\")\n",
    "model = Model2() \n",
    "model = model.to(device)\n",
    "criterion = nn.CrossEntropyLoss()\n",
    "optimizer = torch.optim.Adam(model.parameters(), lr=learning_rate)"
   ]
  },
  {
   "cell_type": "code",
   "execution_count": 66,
   "id": "63cb33cf",
   "metadata": {},
   "outputs": [
    {
     "name": "stdout",
     "output_type": "stream",
     "text": [
      "Epoch: 0 | Loss: 0.6818 | Train Accuracy: 57.77\n",
      "Test Accuracy: 62.37\n",
      "Epoch: 1 | Loss: 0.6450 | Train Accuracy: 63.58\n",
      "Test Accuracy: 61.78\n",
      "Epoch: 2 | Loss: 0.6098 | Train Accuracy: 68.62\n",
      "Test Accuracy: 61.08\n",
      "Epoch: 3 | Loss: 0.5678 | Train Accuracy: 74.40\n",
      "Test Accuracy: 60.25\n",
      "Epoch: 4 | Loss: 0.5232 | Train Accuracy: 79.72\n",
      "Test Accuracy: 61.92\n",
      "Epoch: 5 | Loss: 0.4824 | Train Accuracy: 84.28\n",
      "Test Accuracy: 61.88\n",
      "Epoch: 6 | Loss: 0.4408 | Train Accuracy: 88.75\n",
      "Test Accuracy: 63.15\n",
      "Epoch: 7 | Loss: 0.4120 | Train Accuracy: 91.94\n",
      "Test Accuracy: 62.81\n",
      "Epoch: 8 | Loss: 0.3939 | Train Accuracy: 93.62\n",
      "Test Accuracy: 63.73\n",
      "Epoch: 9 | Loss: 0.3832 | Train Accuracy: 94.52\n",
      "Test Accuracy: 65.56\n"
     ]
    }
   ],
   "source": [
    "# Training\n",
    "\n",
    "\n",
    "for epoch in range(num_epochs):\n",
    "    train_running_loss = 0.0\n",
    "    train_acc = 0.0\n",
    "\n",
    "    model = model.train()\n",
    "\n",
    "    ## training step\n",
    "    for i, (images, labels) in enumerate(train_loader):\n",
    "\n",
    "        labels=labels.type(torch.LongTensor)\n",
    "        \n",
    "        images = images.to(device)\n",
    "        labels = labels.to(device)\n",
    "\n",
    "        ## forward + backprop + loss\n",
    "        logits = model(images)\n",
    "        loss = criterion(logits, labels)\n",
    "        optimizer.zero_grad()\n",
    "        loss.backward()\n",
    "\n",
    "        ## update model params\n",
    "        optimizer.step()\n",
    "\n",
    "        train_running_loss += loss.detach().item()\n",
    "        train_acc += get_accuracy(logits, labels, BATCH_SIZE)\n",
    "    \n",
    "    model.eval()\n",
    "    print('Epoch: %d | Loss: %.4f | Train Accuracy: %.2f' \\\n",
    "          %(epoch, train_running_loss / i, train_acc/i))     \n",
    "    \n",
    "    test_acc = 0.0\n",
    "    for i, (images, labels) in enumerate(test_loader, 0):\n",
    "        images = images.to(device)\n",
    "        labels = labels.to(device)\n",
    "        outputs = model(images)\n",
    "        test_acc += get_accuracy(outputs, labels, BATCH_SIZE)\n",
    "    \n",
    "    print('Test Accuracy: %.2f'%( test_acc/i))"
   ]
  },
  {
   "cell_type": "code",
   "execution_count": 67,
   "id": "2e5d90fa",
   "metadata": {},
   "outputs": [
    {
     "name": "stdout",
     "output_type": "stream",
     "text": [
      "Test Accuracy: 65.56\n"
     ]
    }
   ],
   "source": [
    "test_acc = 0.0\n",
    "for i, (images, labels) in enumerate(test_loader, 0):\n",
    "    images = images.to(device)\n",
    "    labels = labels.to(device)\n",
    "    outputs = model(images)\n",
    "    \n",
    "    test_acc += get_accuracy(outputs, labels, BATCH_SIZE)\n",
    "        \n",
    "print('Test Accuracy: %.2f'%( test_acc/i))"
   ]
  },
  {
   "cell_type": "code",
   "execution_count": 69,
   "id": "cbdde0c4",
   "metadata": {},
   "outputs": [],
   "source": [
    "for i, (images, labels) in enumerate(test_loader, 0):\n",
    "    images = images.to(device)\n",
    "    labels = labels.to(device)\n",
    "    outputs = model(images)\n",
    "    \n",
    "pre_cor = (torch.max(outputs, 1)[1].view(labels.size()).data == labels.data)\n",
    "corrects = (torch.max(outputs, 1)[1].view(labels.size()).data == labels.data).sum()\n",
    "accuracy = 100.0 * corrects/BATCH_SIZE"
   ]
  },
  {
   "cell_type": "code",
   "execution_count": 70,
   "id": "4b263602",
   "metadata": {
    "scrolled": true
   },
   "outputs": [
    {
     "data": {
      "text/plain": [
       "tensor([False,  True, False, False, False, False, False,  True,  True,  True,\n",
       "         True, False,  True, False,  True,  True,  True,  True, False,  True,\n",
       "         True,  True, False, False,  True,  True,  True,  True, False,  True,\n",
       "         True,  True,  True,  True,  True, False,  True,  True,  True,  True,\n",
       "         True,  True,  True, False,  True,  True, False, False, False,  True,\n",
       "        False,  True,  True,  True,  True,  True, False,  True, False, False,\n",
       "         True,  True, False,  True,  True,  True, False, False,  True,  True,\n",
       "        False,  True,  True,  True,  True,  True,  True,  True, False, False,\n",
       "        False,  True,  True,  True, False,  True,  True, False,  True,  True,\n",
       "        False, False, False,  True, False,  True,  True,  True,  True,  True],\n",
       "       device='cuda:0')"
      ]
     },
     "execution_count": 70,
     "metadata": {},
     "output_type": "execute_result"
    }
   ],
   "source": [
    "pre_cor"
   ]
  },
  {
   "cell_type": "code",
   "execution_count": 71,
   "id": "dfb777f9",
   "metadata": {},
   "outputs": [
    {
     "data": {
      "text/plain": [
       "tensor(66, device='cuda:0')"
      ]
     },
     "execution_count": 71,
     "metadata": {},
     "output_type": "execute_result"
    }
   ],
   "source": [
    "corrects"
   ]
  },
  {
   "cell_type": "code",
   "execution_count": 72,
   "id": "6890b1b0",
   "metadata": {},
   "outputs": [
    {
     "data": {
      "text/plain": [
       "tensor([0., 1., 1., 0., 1., 0., 0., 1., 1., 0., 0., 0., 0., 0., 0., 0., 0., 0.,\n",
       "        1., 0., 1., 1., 1., 1., 0., 1., 0., 1., 0., 1., 1., 0., 1., 1., 1., 1.,\n",
       "        1., 1., 1., 1., 0., 0., 1., 1., 1., 1., 1., 0., 0., 0., 1., 1., 0., 0.,\n",
       "        1., 1., 1., 1., 1., 1., 1., 1., 0., 1., 0., 0., 1., 1., 1., 0., 1., 0.,\n",
       "        0., 0., 1., 1., 0., 1., 0., 1., 1., 0., 0., 1., 0., 1., 1., 0., 0., 0.,\n",
       "        1., 0., 1., 1., 0., 1., 1., 1., 0., 1.], device='cuda:0')"
      ]
     },
     "execution_count": 72,
     "metadata": {},
     "output_type": "execute_result"
    }
   ],
   "source": [
    "labels"
   ]
  },
  {
   "cell_type": "code",
   "execution_count": 73,
   "id": "93f87a9e",
   "metadata": {},
   "outputs": [
    {
     "data": {
      "text/plain": [
       "tensor([[7.9628e-02, 9.2037e-01],\n",
       "        [2.5742e-02, 9.7426e-01],\n",
       "        [9.6558e-01, 3.4415e-02],\n",
       "        [1.9591e-01, 8.0409e-01],\n",
       "        [9.9821e-01, 1.7863e-03],\n",
       "        [4.9827e-01, 5.0173e-01],\n",
       "        [4.3527e-01, 5.6473e-01],\n",
       "        [9.2946e-03, 9.9071e-01],\n",
       "        [1.8305e-03, 9.9817e-01],\n",
       "        [1.0000e+00, 0.0000e+00],\n",
       "        [9.5563e-01, 4.4370e-02],\n",
       "        [8.7076e-04, 9.9913e-01],\n",
       "        [9.8961e-01, 1.0392e-02],\n",
       "        [1.6473e-01, 8.3527e-01],\n",
       "        [9.6140e-01, 3.8598e-02],\n",
       "        [1.0000e+00, 2.4965e-35],\n",
       "        [1.0000e+00, 7.6161e-13],\n",
       "        [8.4596e-01, 1.5404e-01],\n",
       "        [9.9135e-01, 8.6518e-03],\n",
       "        [8.6069e-01, 1.3931e-01],\n",
       "        [1.1850e-02, 9.8815e-01],\n",
       "        [4.0610e-04, 9.9959e-01],\n",
       "        [9.7864e-01, 2.1357e-02],\n",
       "        [1.0000e+00, 9.3502e-07],\n",
       "        [1.0000e+00, 5.4110e-24],\n",
       "        [4.8130e-04, 9.9952e-01],\n",
       "        [1.0000e+00, 2.8142e-09],\n",
       "        [1.5726e-04, 9.9984e-01],\n",
       "        [3.5309e-02, 9.6469e-01],\n",
       "        [3.5335e-01, 6.4665e-01],\n",
       "        [3.0175e-06, 1.0000e+00],\n",
       "        [9.9976e-01, 2.3712e-04],\n",
       "        [4.0704e-06, 1.0000e+00],\n",
       "        [1.1196e-17, 1.0000e+00],\n",
       "        [2.0266e-01, 7.9734e-01],\n",
       "        [5.1725e-01, 4.8275e-01],\n",
       "        [5.8781e-04, 9.9941e-01],\n",
       "        [4.0221e-03, 9.9598e-01],\n",
       "        [2.0427e-01, 7.9573e-01],\n",
       "        [8.8927e-03, 9.9111e-01],\n",
       "        [9.9992e-01, 8.0711e-05],\n",
       "        [1.0000e+00, 6.4067e-08],\n",
       "        [3.1290e-01, 6.8710e-01],\n",
       "        [9.8333e-01, 1.6666e-02],\n",
       "        [2.7240e-04, 9.9973e-01],\n",
       "        [6.5931e-07, 1.0000e+00],\n",
       "        [9.6986e-01, 3.0139e-02],\n",
       "        [8.8648e-03, 9.9114e-01],\n",
       "        [5.5393e-03, 9.9446e-01],\n",
       "        [9.9405e-01, 5.9523e-03],\n",
       "        [7.1759e-01, 2.8241e-01],\n",
       "        [9.3430e-09, 1.0000e+00],\n",
       "        [1.0000e+00, 1.2321e-40],\n",
       "        [6.7846e-01, 3.2154e-01],\n",
       "        [5.5612e-02, 9.4439e-01],\n",
       "        [5.3550e-02, 9.4645e-01],\n",
       "        [9.9242e-01, 7.5778e-03],\n",
       "        [1.7751e-05, 9.9998e-01],\n",
       "        [8.0321e-01, 1.9679e-01],\n",
       "        [9.9969e-01, 3.0850e-04],\n",
       "        [1.1366e-02, 9.8863e-01],\n",
       "        [7.1319e-03, 9.9287e-01],\n",
       "        [3.7318e-01, 6.2682e-01],\n",
       "        [1.0636e-01, 8.9364e-01],\n",
       "        [1.0000e+00, 1.4343e-11],\n",
       "        [9.8466e-01, 1.5345e-02],\n",
       "        [1.0000e+00, 9.7294e-17],\n",
       "        [5.7884e-01, 4.2116e-01],\n",
       "        [3.0251e-02, 9.6975e-01],\n",
       "        [9.1784e-01, 8.2164e-02],\n",
       "        [7.5858e-01, 2.4142e-01],\n",
       "        [1.0000e+00, 1.3266e-18],\n",
       "        [9.9733e-01, 2.6746e-03],\n",
       "        [8.6670e-01, 1.3330e-01],\n",
       "        [8.6428e-04, 9.9914e-01],\n",
       "        [4.2155e-02, 9.5784e-01],\n",
       "        [8.5020e-01, 1.4980e-01],\n",
       "        [3.6855e-09, 1.0000e+00],\n",
       "        [2.5510e-01, 7.4490e-01],\n",
       "        [9.9990e-01, 9.7284e-05],\n",
       "        [9.9099e-01, 9.0134e-03],\n",
       "        [1.0000e+00, 8.2660e-37],\n",
       "        [9.6132e-01, 3.8684e-02],\n",
       "        [1.6943e-04, 9.9983e-01],\n",
       "        [1.6632e-02, 9.8337e-01],\n",
       "        [4.5199e-05, 9.9995e-01],\n",
       "        [2.8937e-02, 9.7106e-01],\n",
       "        [2.1646e-01, 7.8354e-01],\n",
       "        [1.0000e+00, 1.0526e-09],\n",
       "        [9.2873e-01, 7.1271e-02],\n",
       "        [9.6887e-01, 3.1129e-02],\n",
       "        [5.5479e-03, 9.9445e-01],\n",
       "        [5.3739e-01, 4.6261e-01],\n",
       "        [2.9789e-01, 7.0211e-01],\n",
       "        [7.9971e-05, 9.9992e-01],\n",
       "        [6.7363e-05, 9.9993e-01],\n",
       "        [2.8206e-01, 7.1794e-01],\n",
       "        [5.6329e-02, 9.4367e-01],\n",
       "        [9.9537e-01, 4.6346e-03],\n",
       "        [7.1551e-02, 9.2845e-01]], device='cuda:0', grad_fn=<SoftmaxBackward0>)"
      ]
     },
     "execution_count": 73,
     "metadata": {},
     "output_type": "execute_result"
    }
   ],
   "source": [
    "outputs"
   ]
  },
  {
   "cell_type": "code",
   "execution_count": null,
   "id": "4be1226c",
   "metadata": {},
   "outputs": [],
   "source": []
  }
 ],
 "metadata": {
  "kernelspec": {
   "display_name": "Python 3 (ipykernel)",
   "language": "python",
   "name": "python3"
  },
  "language_info": {
   "codemirror_mode": {
    "name": "ipython",
    "version": 3
   },
   "file_extension": ".py",
   "mimetype": "text/x-python",
   "name": "python",
   "nbconvert_exporter": "python",
   "pygments_lexer": "ipython3",
   "version": "3.9.7"
  }
 },
 "nbformat": 4,
 "nbformat_minor": 5
}
