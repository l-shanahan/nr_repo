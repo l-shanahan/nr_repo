{
 "cells": [
  {
   "cell_type": "markdown",
   "id": "3a786de1",
   "metadata": {},
   "source": [
    "# NR Classification"
   ]
  },
  {
   "cell_type": "code",
   "execution_count": 1,
   "id": "2b105f29",
   "metadata": {},
   "outputs": [],
   "source": [
    "import numpy as np\n",
    "import matplotlib.pyplot as plt\n",
    "import matplotlib as mpl\n",
    "%matplotlib inline\n",
    "\n",
    "import sys\n",
    "import random as rd\n",
    "# import torch\n",
    "# from torch import nn, optim\n",
    "# import torch.nn.functional as F\n",
    "# import torch.utils.data as tud\n",
    "# from torch.utils.data import Dataset, DataLoader\n",
    "from sklearn.model_selection import train_test_split\n",
    "\n",
    "# import CustomDataset as cd"
   ]
  },
  {
   "cell_type": "markdown",
   "id": "07018c3a",
   "metadata": {},
   "source": [
    "### In Tensorflow"
   ]
  },
  {
   "cell_type": "code",
   "execution_count": 2,
   "id": "2b38420d",
   "metadata": {},
   "outputs": [
    {
     "name": "stderr",
     "output_type": "stream",
     "text": [
      "2022-09-01 09:00:58.637547: I tensorflow/stream_executor/platform/default/dso_loader.cc:49] Successfully opened dynamic library libcudart.so.10.1\n"
     ]
    }
   ],
   "source": [
    "from sklearn.model_selection import train_test_split\n",
    "import tensorflow as tf\n",
    "from sklearn.utils import shuffle"
   ]
  },
  {
   "cell_type": "code",
   "execution_count": 3,
   "id": "d9834409",
   "metadata": {},
   "outputs": [],
   "source": [
    "C130_dat, F170_dat = np.load('data_old/C_130keV_10000.npy'), np.load('data_old/F_170keV_10000.npy')"
   ]
  },
  {
   "cell_type": "code",
   "execution_count": 4,
   "id": "848519d0",
   "metadata": {},
   "outputs": [],
   "source": [
    "data, labels = [],[]\n",
    "Csum, Fsum = [],[]\n",
    "\n",
    "for i in range(len(C130_dat)):\n",
    "    data.append(C130_dat[i])\n",
    "    labels.append([1,0])\n",
    "    Csum.append(np.sum(C130_dat[i]))\n",
    "\n",
    "for i in range(len(F170_dat)):\n",
    "    data.append(F170_dat[i])\n",
    "    labels.append([0,1])\n",
    "    Fsum.append(np.sum(F170_dat[i]))"
   ]
  },
  {
   "cell_type": "code",
   "execution_count": 5,
   "id": "93e4b1a9",
   "metadata": {},
   "outputs": [],
   "source": [
    "data -= np.mean(data)\n",
    "data/=np.std(data)"
   ]
  },
  {
   "cell_type": "code",
   "execution_count": 6,
   "id": "b3e80517",
   "metadata": {},
   "outputs": [],
   "source": [
    "train_data, test_data, train_labels, test_labels = train_test_split(data, labels, test_size=0.3, random_state=42)"
   ]
  },
  {
   "cell_type": "code",
   "execution_count": 7,
   "id": "97c8be02",
   "metadata": {},
   "outputs": [],
   "source": [
    "# train_data, train_labels = [],[]\n",
    "# test_data, test_labels = [],[]\n",
    "# Csum, Fsum = [],[]\n",
    "\n",
    "# n_train = int(len(C130_dat) * 0.8)\n",
    "\n",
    "# for i in range(n_train):\n",
    "#     train_data.append(C130_dat[i])\n",
    "#     train_labels.append([1,0])\n",
    "#     Csum.append(np.sum(C130_dat[i]))\n",
    "\n",
    "# for i in range(n_train):\n",
    "#     train_data.append(F170_dat[i])\n",
    "#     train_labels.append([0,1])\n",
    "#     Fsum.append(np.sum(F170_dat[i]))\n",
    "\n",
    "# for i in range(n_train, len(C130_dat)):\n",
    "#     test_data.append(C130_dat[i])\n",
    "#     test_labels.append([1,0])\n",
    "#     Csum.append(np.sum(C130_dat[i]))\n",
    "\n",
    "# for i in range(n_train, len(F170_dat)):\n",
    "#     test_data.append(F170_dat[i])\n",
    "#     test_labels.append([0,1])\n",
    "#     Fsum.append(np.sum(F170_dat[i]))\n",
    "\n",
    "\n",
    "# # Maximum values\n",
    "\n",
    "# C130_max = np.amax(np.amax(C130_dat, axis=(1,2)))\n",
    "# F170_max = np.amax(np.amax(F170_dat, axis=(1,2)))\n",
    "# all_max = max(C130_max, F170_max)\n",
    "\n",
    "\n",
    "# # Normalise to (0,1)\n",
    "\n",
    "# train_data = np.array(train_data) / all_max\n",
    "# train_labels = np.array(train_labels)\n",
    "# test_data = np.array(test_data) / all_max\n",
    "# test_labels = np.array(test_labels)\n",
    "\n",
    "# # Shuffle Data\n",
    "\n",
    "# train_data, train_labels = shuffle(train_data, train_labels)\n",
    "# test_data, test_labels = shuffle(test_data, test_labels)"
   ]
  },
  {
   "cell_type": "code",
   "execution_count": 8,
   "id": "e7217319",
   "metadata": {},
   "outputs": [],
   "source": [
    "# tot_data=[]\n",
    "# for i in range(len(train_data)):\n",
    "#     tot_data.append(train_data[i])\n",
    "# for i in range(len(test_data)):\n",
    "#     tot_data.append(test_data[i])"
   ]
  },
  {
   "cell_type": "code",
   "execution_count": 9,
   "id": "56fab2f1",
   "metadata": {},
   "outputs": [],
   "source": [
    "# train_data -= np.mean(train_data)\n",
    "# train_data/=np.std(train_data)\n",
    "\n",
    "# test_data -= np.mean(test_data)\n",
    "# test_data/=np.std(test_data)"
   ]
  },
  {
   "cell_type": "code",
   "execution_count": 10,
   "id": "03dbfb77",
   "metadata": {},
   "outputs": [
    {
     "data": {
      "text/plain": [
       "2.8451436103516313e-07"
      ]
     },
     "execution_count": 10,
     "metadata": {},
     "output_type": "execute_result"
    }
   ],
   "source": [
    "np.mean(test_data)"
   ]
  },
  {
   "cell_type": "code",
   "execution_count": 11,
   "id": "a337ba93",
   "metadata": {},
   "outputs": [
    {
     "name": "stdout",
     "output_type": "stream",
     "text": [
      "(14000, 97, 97)\n",
      "(6000, 97, 97)\n",
      "(14000, 2)\n",
      "(6000, 2)\n"
     ]
    }
   ],
   "source": [
    "print(np.shape(train_data))\n",
    "print(np.shape(test_data))\n",
    "print(np.shape(train_labels))\n",
    "print(np.shape(test_labels))"
   ]
  },
  {
   "cell_type": "code",
   "execution_count": 12,
   "id": "04a875cb",
   "metadata": {},
   "outputs": [],
   "source": [
    "dat_sum = [np.sum(test_data[i]) for i in range(len(test_data))]"
   ]
  },
  {
   "cell_type": "code",
   "execution_count": 13,
   "id": "36037c47",
   "metadata": {},
   "outputs": [
    {
     "data": {
      "image/png": "[encoded data removed]",
      "text/plain": [
       "<Figure size 432x288 with 1 Axes>"
      ]
     },
     "metadata": {
      "needs_background": "light"
     },
     "output_type": "display_data"
    }
   ],
   "source": [
    "plt.hist(dat_sum,bins=120);"
   ]
  },
  {
   "cell_type": "markdown",
   "id": "d5f0beb9",
   "metadata": {},
   "source": [
    "We have 10,000 1s and 10,000 0s."
   ]
  },
  {
   "cell_type": "code",
   "execution_count": 14,
   "id": "3e902868",
   "metadata": {},
   "outputs": [
    {
     "name": "stderr",
     "output_type": "stream",
     "text": [
      "2022-08-31 11:30:55.968657: I tensorflow/compiler/jit/xla_cpu_device.cc:41] Not creating XLA devices, tf_xla_enable_xla_devices not set\n",
      "2022-08-31 11:30:55.970044: I tensorflow/stream_executor/platform/default/dso_loader.cc:49] Successfully opened dynamic library libcuda.so.1\n",
      "2022-08-31 11:30:56.453689: I tensorflow/stream_executor/cuda/cuda_gpu_executor.cc:941] successful NUMA node read from SysFS had negative value (-1), but there must be at least one NUMA node, so returning NUMA node zero\n",
      "2022-08-31 11:30:56.453972: I tensorflow/core/common_runtime/gpu/gpu_device.cc:1720] Found device 0 with properties: \n",
      "pciBusID: 0000:00:03.0 name: Quadro RTX 4000 computeCapability: 7.5\n",
      "coreClock: 1.545GHz coreCount: 36 deviceMemorySize: 7.79GiB deviceMemoryBandwidth: 387.49GiB/s\n",
      "2022-08-31 11:30:56.454015: I tensorflow/stream_executor/platform/default/dso_loader.cc:49] Successfully opened dynamic library libcudart.so.10.1\n",
      "2022-08-31 11:30:56.457880: I tensorflow/stream_executor/platform/default/dso_loader.cc:49] Successfully opened dynamic library libcublas.so.10\n",
      "2022-08-31 11:30:56.457943: I tensorflow/stream_executor/platform/default/dso_loader.cc:49] Successfully opened dynamic library libcublasLt.so.10\n",
      "2022-08-31 11:30:56.460781: I tensorflow/stream_executor/platform/default/dso_loader.cc:49] Successfully opened dynamic library libcufft.so.10\n",
      "2022-08-31 11:30:56.461594: I tensorflow/stream_executor/platform/default/dso_loader.cc:49] Successfully opened dynamic library libcurand.so.10\n",
      "2022-08-31 11:30:56.464765: I tensorflow/stream_executor/platform/default/dso_loader.cc:49] Successfully opened dynamic library libcusolver.so.10\n",
      "2022-08-31 11:30:56.465943: I tensorflow/stream_executor/platform/default/dso_loader.cc:49] Successfully opened dynamic library libcusparse.so.10\n",
      "2022-08-31 11:30:56.471269: I tensorflow/stream_executor/platform/default/dso_loader.cc:49] Successfully opened dynamic library libcudnn.so.7\n",
      "2022-08-31 11:30:56.471405: I tensorflow/stream_executor/cuda/cuda_gpu_executor.cc:941] successful NUMA node read from SysFS had negative value (-1), but there must be at least one NUMA node, so returning NUMA node zero\n",
      "2022-08-31 11:30:56.471607: I tensorflow/stream_executor/cuda/cuda_gpu_executor.cc:941] successful NUMA node read from SysFS had negative value (-1), but there must be at least one NUMA node, so returning NUMA node zero\n",
      "2022-08-31 11:30:56.471727: I tensorflow/core/common_runtime/gpu/gpu_device.cc:1862] Adding visible gpu devices: 0\n",
      "2022-08-31 11:30:56.472355: I tensorflow/core/platform/cpu_feature_guard.cc:142] This TensorFlow binary is optimized with oneAPI Deep Neural Network Library (oneDNN) to use the following CPU instructions in performance-critical operations:  SSE4.1 SSE4.2 AVX AVX2 AVX512F FMA\n",
      "To enable them in other operations, rebuild TensorFlow with the appropriate compiler flags.\n",
      "2022-08-31 11:30:56.474381: I tensorflow/compiler/jit/xla_gpu_device.cc:99] Not creating XLA devices, tf_xla_enable_xla_devices not set\n",
      "2022-08-31 11:30:56.474529: I tensorflow/stream_executor/cuda/cuda_gpu_executor.cc:941] successful NUMA node read from SysFS had negative value (-1), but there must be at least one NUMA node, so returning NUMA node zero\n",
      "2022-08-31 11:30:56.474756: I tensorflow/core/common_runtime/gpu/gpu_device.cc:1720] Found device 0 with properties: \n",
      "pciBusID: 0000:00:03.0 name: Quadro RTX 4000 computeCapability: 7.5\n",
      "coreClock: 1.545GHz coreCount: 36 deviceMemorySize: 7.79GiB deviceMemoryBandwidth: 387.49GiB/s\n",
      "2022-08-31 11:30:56.474787: I tensorflow/stream_executor/platform/default/dso_loader.cc:49] Successfully opened dynamic library libcudart.so.10.1\n",
      "2022-08-31 11:30:56.474801: I tensorflow/stream_executor/platform/default/dso_loader.cc:49] Successfully opened dynamic library libcublas.so.10\n",
      "2022-08-31 11:30:56.474811: I tensorflow/stream_executor/platform/default/dso_loader.cc:49] Successfully opened dynamic library libcublasLt.so.10\n",
      "2022-08-31 11:30:56.474821: I tensorflow/stream_executor/platform/default/dso_loader.cc:49] Successfully opened dynamic library libcufft.so.10\n",
      "2022-08-31 11:30:56.474831: I tensorflow/stream_executor/platform/default/dso_loader.cc:49] Successfully opened dynamic library libcurand.so.10\n",
      "2022-08-31 11:30:56.474840: I tensorflow/stream_executor/platform/default/dso_loader.cc:49] Successfully opened dynamic library libcusolver.so.10\n",
      "2022-08-31 11:30:56.474851: I tensorflow/stream_executor/platform/default/dso_loader.cc:49] Successfully opened dynamic library libcusparse.so.10\n",
      "2022-08-31 11:30:56.474861: I tensorflow/stream_executor/platform/default/dso_loader.cc:49] Successfully opened dynamic library libcudnn.so.7\n",
      "2022-08-31 11:30:56.474939: I tensorflow/stream_executor/cuda/cuda_gpu_executor.cc:941] successful NUMA node read from SysFS had negative value (-1), but there must be at least one NUMA node, so returning NUMA node zero\n",
      "2022-08-31 11:30:56.475117: I tensorflow/stream_executor/cuda/cuda_gpu_executor.cc:941] successful NUMA node read from SysFS had negative value (-1), but there must be at least one NUMA node, so returning NUMA node zero\n",
      "2022-08-31 11:30:56.475237: I tensorflow/core/common_runtime/gpu/gpu_device.cc:1862] Adding visible gpu devices: 0\n",
      "2022-08-31 11:30:56.475277: I tensorflow/stream_executor/platform/default/dso_loader.cc:49] Successfully opened dynamic library libcudart.so.10.1\n",
      "2022-08-31 11:30:57.044215: I tensorflow/core/common_runtime/gpu/gpu_device.cc:1261] Device interconnect StreamExecutor with strength 1 edge matrix:\n",
      "2022-08-31 11:30:57.044252: I tensorflow/core/common_runtime/gpu/gpu_device.cc:1267]      0 \n",
      "2022-08-31 11:30:57.044262: I tensorflow/core/common_runtime/gpu/gpu_device.cc:1280] 0:   N \n",
      "2022-08-31 11:30:57.044511: I tensorflow/stream_executor/cuda/cuda_gpu_executor.cc:941] successful NUMA node read from SysFS had negative value (-1), but there must be at least one NUMA node, so returning NUMA node zero\n",
      "2022-08-31 11:30:57.044771: I tensorflow/stream_executor/cuda/cuda_gpu_executor.cc:941] successful NUMA node read from SysFS had negative value (-1), but there must be at least one NUMA node, so returning NUMA node zero\n",
      "2022-08-31 11:30:57.044962: I tensorflow/stream_executor/cuda/cuda_gpu_executor.cc:941] successful NUMA node read from SysFS had negative value (-1), but there must be at least one NUMA node, so returning NUMA node zero\n",
      "2022-08-31 11:30:57.045103: I tensorflow/core/common_runtime/gpu/gpu_device.cc:1406] Created TensorFlow device (/job:localhost/replica:0/task:0/device:GPU:0 with 7277 MB memory) -> physical GPU (device: 0, name: Quadro RTX 4000, pci bus id: 0000:00:03.0, compute capability: 7.5)\n"
     ]
    }
   ],
   "source": [
    "from tensorflow.keras.models import Sequential\n",
    "from tensorflow.keras.layers import Flatten, Dense, Conv2D, MaxPooling2D, LeakyReLU, Dropout\n",
    "\n",
    "\n",
    "def nr_model():\n",
    "    nr_model = Sequential([\n",
    "        Conv2D(1, kernel_size=(3,3), input_shape=(97,97,1), activation='relu', padding='same'),\n",
    "        Flatten(),\n",
    "        Dense(1024, activation='relu'),\n",
    "        Dense(2, activation='softmax')\n",
    "    ], name='nr_model')\n",
    "    return nr_model\n",
    "\n",
    "\n",
    "model = nr_model()"
   ]
  },
  {
   "cell_type": "code",
   "execution_count": 15,
   "id": "c4aa0a00",
   "metadata": {
    "scrolled": false
   },
   "outputs": [
    {
     "name": "stdout",
     "output_type": "stream",
     "text": [
      "Model: \"nr_model\"\n",
      "_________________________________________________________________\n",
      "Layer (type)                 Output Shape              Param #   \n",
      "=================================================================\n",
      "conv2d (Conv2D)              (None, 97, 97, 1)         10        \n",
      "_________________________________________________________________\n",
      "flatten (Flatten)            (None, 9409)              0         \n",
      "_________________________________________________________________\n",
      "dense (Dense)                (None, 1024)              9635840   \n",
      "_________________________________________________________________\n",
      "dense_1 (Dense)              (None, 2)                 2050      \n",
      "=================================================================\n",
      "Total params: 9,637,900\n",
      "Trainable params: 9,637,900\n",
      "Non-trainable params: 0\n",
      "_________________________________________________________________\n"
     ]
    }
   ],
   "source": [
    "model.summary()"
   ]
  },
  {
   "cell_type": "code",
   "execution_count": 16,
   "id": "e5c3defb",
   "metadata": {},
   "outputs": [
    {
     "name": "stdout",
     "output_type": "stream",
     "text": [
      "<class 'tensorflow.python.framework.ops.EagerTensor'>\n",
      "<class 'tensorflow.python.framework.ops.EagerTensor'>\n",
      "(97, 97)\n",
      "(2,)\n",
      "<class 'tensorflow.python.framework.ops.EagerTensor'>\n",
      "<class 'tensorflow.python.framework.ops.EagerTensor'>\n",
      "(97, 97)\n",
      "(2,)\n"
     ]
    }
   ],
   "source": [
    "#loading the data into tf.data.Dataset objects\n",
    "train_dataset = tf.data.Dataset.from_tensor_slices((train_data, train_labels)) \n",
    "test_dataset = tf.data.Dataset.from_tensor_slices((test_data, test_labels))\n",
    "train_dataset.element_spec\n",
    "\n",
    "#printing relevant properties\n",
    "for inputs, labels in train_dataset.take(2):\n",
    "    print(type(inputs))\n",
    "    print(type(labels))\n",
    "    print(inputs.shape)\n",
    "    print(labels.shape)"
   ]
  },
  {
   "cell_type": "code",
   "execution_count": 17,
   "id": "de52e2c1",
   "metadata": {},
   "outputs": [],
   "source": [
    "#batching the datasets\n",
    "batch_size = 34\n",
    "train_dataset = train_dataset.batch(batch_size)  # drop_remainder=True\n",
    "test_dataset = test_dataset.batch(batch_size)"
   ]
  },
  {
   "cell_type": "code",
   "execution_count": null,
   "id": "25159313",
   "metadata": {
    "scrolled": false
   },
   "outputs": [],
   "source": [
    "#compiling and fitting the model\n",
    "sgd = tf.keras.optimizers.SGD(learning_rate=0.01)\n",
    "loss_fn = tf.keras.losses.CategoricalCrossentropy()\n",
    "\n",
    "model.compile(optimizer=sgd, loss=loss_fn, metrics=['accuracy'])\n",
    "history = model.fit(train_dataset, epochs=20, validation_data=test_dataset)"
   ]
  },
  {
   "cell_type": "code",
   "execution_count": null,
   "id": "ed4efe45",
   "metadata": {},
   "outputs": [],
   "source": [
    "#plotting loss function and accuracy for training and test sets over all epochs\n",
    "fig, (ax1, ax2) = plt.subplots(1,2,figsize=(15,5))\n",
    "ax1.plot(history.history['loss']),ax1.plot(history.history['val_loss'])\n",
    "ax1.set_title('Convolutional Neural Network Loss over 20 Epochs')\n",
    "ax1.set_ylabel('Loss'),ax1.set_xlabel('Epoch'),ax1.legend(['Training Set', 'Test Set'], loc='best');\n",
    "ax2.plot(history.history['accuracy']),ax2.plot(history.history['val_accuracy'])\n",
    "ax2.set_title('Convolutional Neural Network Accuracy over 20 Epochs')\n",
    "ax2.set_ylabel('Accuracy'),ax2.set_xlabel('Epoch'),ax2.legend(['Training Set', 'Test Set'], loc='best');"
   ]
  },
  {
   "cell_type": "code",
   "execution_count": null,
   "id": "ddacb6b7",
   "metadata": {},
   "outputs": [],
   "source": [
    "image = train_data[43]\n",
    "\n",
    "#initial plotting of chosen image\n",
    "plt.figure(figsize=(6, 10))\n",
    "plt.imshow(image,cmap='Greys')\n",
    "plt.axis('off')\n",
    "plt.show()"
   ]
  },
  {
   "cell_type": "code",
   "execution_count": null,
   "id": "b8df6bff",
   "metadata": {},
   "outputs": [],
   "source": [
    "from tensorflow.keras.models import Model\n",
    "\n",
    "#Model and model are different\n",
    "#getting model inputs, layer names, outputs for visualisation\n",
    "inputs = model.inputs\n",
    "layer_names = [layer.name for layer in model.layers]\n",
    "outputs = [model.get_layer(layer_name).output for layer_name in layer_names]\n",
    "#creating model for extracting features\n",
    "model_features = Model(inputs=inputs, outputs=outputs)"
   ]
  },
  {
   "cell_type": "code",
   "execution_count": null,
   "id": "263dde5c",
   "metadata": {},
   "outputs": [],
   "source": [
    "#re-shaping image and passing through new model to output features\n",
    "input = image.reshape((1,) + image.shape)\n",
    "features = model_features.predict(input)"
   ]
  },
  {
   "cell_type": "code",
   "execution_count": null,
   "id": "502923b8",
   "metadata": {},
   "outputs": [],
   "source": [
    "conv_features = features[0]"
   ]
  },
  {
   "cell_type": "code",
   "execution_count": null,
   "id": "3a15084b",
   "metadata": {},
   "outputs": [],
   "source": [
    "#plotting features from convolutional layers, along with layer names\n",
    "fig, axs = plt.subplots(1,4, figsize=(18,5))\n",
    "fig.subplots_adjust(top=1)\n",
    "fig.suptitle('Visualisation of feature map 1')\n",
    "axs[0].imshow(image, cmap='Greys',label='input')\n",
    "for i in range(len(conv_features)):\n",
    "    feature_map = conv_features[i]\n",
    "    axs[i+1].imshow(feature_map[0, ..., 1],cmap='Greys')\n",
    "    axs[i+1].set_title(layer_names[i]);"
   ]
  },
  {
   "cell_type": "code",
   "execution_count": null,
   "id": "d4be6d6f",
   "metadata": {},
   "outputs": [],
   "source": [
    "np.set_printoptions(threshold=sys.maxsize)\n",
    "print(model.layers[0].weights)\n",
    "print(model.layers[0].bias.numpy())\n",
    "print(model.layers[0].bias_initializer)"
   ]
  },
  {
   "cell_type": "markdown",
   "id": "76d19910",
   "metadata": {},
   "source": [
    "### Linear Model"
   ]
  },
  {
   "cell_type": "code",
   "execution_count": 18,
   "id": "a3033111",
   "metadata": {},
   "outputs": [
    {
     "name": "stdout",
     "output_type": "stream",
     "text": [
      "<class 'tensorflow.python.framework.ops.EagerTensor'>\n",
      "<class 'tensorflow.python.framework.ops.EagerTensor'>\n",
      "(97, 97)\n",
      "(2,)\n",
      "<class 'tensorflow.python.framework.ops.EagerTensor'>\n",
      "<class 'tensorflow.python.framework.ops.EagerTensor'>\n",
      "(97, 97)\n",
      "(2,)\n"
     ]
    }
   ],
   "source": [
    "#loading the data into tf.data.Dataset objects\n",
    "train_dataset = tf.data.Dataset.from_tensor_slices((train_data, train_labels)) \n",
    "test_dataset = tf.data.Dataset.from_tensor_slices((test_data, test_labels))\n",
    "train_dataset.element_spec\n",
    "\n",
    "#printing relevant properties\n",
    "for inputs, labels in train_dataset.take(2):\n",
    "    print(type(inputs))\n",
    "    print(type(labels))\n",
    "    print(inputs.shape)\n",
    "    print(labels.shape)"
   ]
  },
  {
   "cell_type": "code",
   "execution_count": 19,
   "id": "abef1987",
   "metadata": {},
   "outputs": [],
   "source": [
    "#batching the datasets\n",
    "batch_size = 34\n",
    "train_dataset = train_dataset.batch(batch_size)  # drop_remainder=True\n",
    "test_dataset = test_dataset.batch(batch_size)"
   ]
  },
  {
   "cell_type": "code",
   "execution_count": 20,
   "id": "c3da8964",
   "metadata": {},
   "outputs": [],
   "source": [
    "from tensorflow.keras.layers import Flatten, Dense, Conv2D, MaxPooling2D, LeakyReLU, Dropout\n",
    "\n",
    "def lin_model():\n",
    "    lin_model = Sequential([\n",
    "        Flatten(input_shape=(97,97,1)),\n",
    "        Dense(2, activation='softmax')\n",
    "    ], name='lin_model')\n",
    "    return lin_model\n",
    "\n",
    "model = lin_model()"
   ]
  },
  {
   "cell_type": "code",
   "execution_count": 21,
   "id": "bb348687",
   "metadata": {},
   "outputs": [
    {
     "name": "stdout",
     "output_type": "stream",
     "text": [
      "Model: \"lin_model\"\n",
      "_________________________________________________________________\n",
      "Layer (type)                 Output Shape              Param #   \n",
      "=================================================================\n",
      "flatten_1 (Flatten)          (None, 9409)              0         \n",
      "_________________________________________________________________\n",
      "dense_2 (Dense)              (None, 2)                 18820     \n",
      "=================================================================\n",
      "Total params: 18,820\n",
      "Trainable params: 18,820\n",
      "Non-trainable params: 0\n",
      "_________________________________________________________________\n"
     ]
    }
   ],
   "source": [
    "model.summary()"
   ]
  },
  {
   "cell_type": "code",
   "execution_count": 22,
   "id": "4072c97f",
   "metadata": {
    "scrolled": true
   },
   "outputs": [
    {
     "name": "stdout",
     "output_type": "stream",
     "text": [
      "Epoch 1/250\n"
     ]
    },
    {
     "name": "stderr",
     "output_type": "stream",
     "text": [
      "2022-08-31 11:30:59.798025: I tensorflow/compiler/mlir/mlir_graph_optimization_pass.cc:116] None of the MLIR optimization passes are enabled (registered 2)\n",
      "2022-08-31 11:30:59.800507: I tensorflow/core/platform/profile_utils/cpu_utils.cc:112] CPU Frequency: 2099995000 Hz\n",
      "2022-08-31 11:30:59.833800: I tensorflow/stream_executor/platform/default/dso_loader.cc:49] Successfully opened dynamic library libcublas.so.10\n"
     ]
    },
    {
     "name": "stdout",
     "output_type": "stream",
     "text": [
      "412/412 [==============================] - 3s 6ms/step - loss: 0.8640 - accuracy: 0.5232 - val_loss: 0.8203 - val_accuracy: 0.5413\n",
      "Epoch 2/250\n",
      "412/412 [==============================] - 2s 4ms/step - loss: 0.7460 - accuracy: 0.5629 - val_loss: 0.8062 - val_accuracy: 0.5577\n",
      "Epoch 3/250\n",
      "412/412 [==============================] - 2s 4ms/step - loss: 0.7192 - accuracy: 0.5889 - val_loss: 0.7945 - val_accuracy: 0.5718\n",
      "Epoch 4/250\n",
      "412/412 [==============================] - 2s 4ms/step - loss: 0.6981 - accuracy: 0.6058 - val_loss: 0.7829 - val_accuracy: 0.5852\n",
      "Epoch 5/250\n",
      "412/412 [==============================] - 2s 4ms/step - loss: 0.6792 - accuracy: 0.6174 - val_loss: 0.7711 - val_accuracy: 0.5950\n",
      "Epoch 6/250\n",
      "412/412 [==============================] - 2s 4ms/step - loss: 0.6619 - accuracy: 0.6281 - val_loss: 0.7593 - val_accuracy: 0.6048\n",
      "Epoch 7/250\n",
      "412/412 [==============================] - 2s 4ms/step - loss: 0.6455 - accuracy: 0.6379 - val_loss: 0.7476 - val_accuracy: 0.6157\n",
      "Epoch 8/250\n",
      "412/412 [==============================] - 2s 4ms/step - loss: 0.6301 - accuracy: 0.6478 - val_loss: 0.7361 - val_accuracy: 0.6258\n",
      "Epoch 9/250\n",
      "412/412 [==============================] - 2s 4ms/step - loss: 0.6153 - accuracy: 0.6596 - val_loss: 0.7248 - val_accuracy: 0.6352\n",
      "Epoch 10/250\n",
      "412/412 [==============================] - 2s 4ms/step - loss: 0.6012 - accuracy: 0.6704 - val_loss: 0.7137 - val_accuracy: 0.6432\n",
      "Epoch 11/250\n",
      "412/412 [==============================] - 2s 4ms/step - loss: 0.5877 - accuracy: 0.6820 - val_loss: 0.7028 - val_accuracy: 0.6532\n",
      "Epoch 12/250\n",
      "412/412 [==============================] - 2s 4ms/step - loss: 0.5747 - accuracy: 0.6920 - val_loss: 0.6922 - val_accuracy: 0.6617\n",
      "Epoch 13/250\n",
      "412/412 [==============================] - 2s 4ms/step - loss: 0.5623 - accuracy: 0.7005 - val_loss: 0.6818 - val_accuracy: 0.6697\n",
      "Epoch 14/250\n",
      "412/412 [==============================] - 2s 4ms/step - loss: 0.5503 - accuracy: 0.7079 - val_loss: 0.6717 - val_accuracy: 0.6793\n",
      "Epoch 15/250\n",
      "412/412 [==============================] - 2s 4ms/step - loss: 0.5389 - accuracy: 0.7145 - val_loss: 0.6618 - val_accuracy: 0.6888\n",
      "Epoch 16/250\n",
      "412/412 [==============================] - 2s 4ms/step - loss: 0.5278 - accuracy: 0.7213 - val_loss: 0.6523 - val_accuracy: 0.6945\n",
      "Epoch 17/250\n",
      "412/412 [==============================] - 2s 4ms/step - loss: 0.5172 - accuracy: 0.7295 - val_loss: 0.6430 - val_accuracy: 0.7023\n",
      "Epoch 18/250\n",
      "412/412 [==============================] - 2s 4ms/step - loss: 0.5071 - accuracy: 0.7394 - val_loss: 0.6339 - val_accuracy: 0.7092\n",
      "Epoch 19/250\n",
      "412/412 [==============================] - 2s 4ms/step - loss: 0.4973 - accuracy: 0.7466 - val_loss: 0.6252 - val_accuracy: 0.7168\n",
      "Epoch 20/250\n",
      "412/412 [==============================] - 2s 4ms/step - loss: 0.4879 - accuracy: 0.7528 - val_loss: 0.6167 - val_accuracy: 0.7215\n",
      "Epoch 21/250\n",
      "412/412 [==============================] - 2s 4ms/step - loss: 0.4789 - accuracy: 0.7605 - val_loss: 0.6085 - val_accuracy: 0.7277\n",
      "Epoch 22/250\n",
      "412/412 [==============================] - 2s 4ms/step - loss: 0.4702 - accuracy: 0.7685 - val_loss: 0.6006 - val_accuracy: 0.7317\n",
      "Epoch 23/250\n",
      "412/412 [==============================] - 2s 4ms/step - loss: 0.4619 - accuracy: 0.7742 - val_loss: 0.5930 - val_accuracy: 0.7373\n",
      "Epoch 24/250\n",
      "412/412 [==============================] - 2s 4ms/step - loss: 0.4539 - accuracy: 0.7817 - val_loss: 0.5857 - val_accuracy: 0.7423\n",
      "Epoch 25/250\n",
      "412/412 [==============================] - 2s 4ms/step - loss: 0.4462 - accuracy: 0.7884 - val_loss: 0.5786 - val_accuracy: 0.7478\n",
      "Epoch 26/250\n",
      "412/412 [==============================] - 2s 4ms/step - loss: 0.4387 - accuracy: 0.7959 - val_loss: 0.5717 - val_accuracy: 0.7522\n",
      "Epoch 27/250\n",
      "412/412 [==============================] - 2s 4ms/step - loss: 0.4316 - accuracy: 0.8014 - val_loss: 0.5652 - val_accuracy: 0.7575\n",
      "Epoch 28/250\n",
      "412/412 [==============================] - 2s 4ms/step - loss: 0.4248 - accuracy: 0.8058 - val_loss: 0.5588 - val_accuracy: 0.7617\n",
      "Epoch 29/250\n",
      "412/412 [==============================] - 2s 4ms/step - loss: 0.4182 - accuracy: 0.8107 - val_loss: 0.5527 - val_accuracy: 0.7667\n",
      "Epoch 30/250\n",
      "412/412 [==============================] - 2s 4ms/step - loss: 0.4118 - accuracy: 0.8150 - val_loss: 0.5468 - val_accuracy: 0.7715\n",
      "Epoch 31/250\n",
      "412/412 [==============================] - 2s 4ms/step - loss: 0.4057 - accuracy: 0.8179 - val_loss: 0.5411 - val_accuracy: 0.7763\n",
      "Epoch 32/250\n",
      "412/412 [==============================] - 2s 4ms/step - loss: 0.3998 - accuracy: 0.8205 - val_loss: 0.5357 - val_accuracy: 0.7812\n",
      "Epoch 33/250\n",
      "412/412 [==============================] - 2s 4ms/step - loss: 0.3941 - accuracy: 0.8235 - val_loss: 0.5304 - val_accuracy: 0.7850\n",
      "Epoch 34/250\n",
      "412/412 [==============================] - 2s 4ms/step - loss: 0.3887 - accuracy: 0.8274 - val_loss: 0.5253 - val_accuracy: 0.7893\n",
      "Epoch 35/250\n",
      "412/412 [==============================] - 2s 4ms/step - loss: 0.3834 - accuracy: 0.8306 - val_loss: 0.5204 - val_accuracy: 0.7933\n",
      "Epoch 36/250\n",
      "412/412 [==============================] - 2s 4ms/step - loss: 0.3783 - accuracy: 0.8332 - val_loss: 0.5156 - val_accuracy: 0.7940\n",
      "Epoch 37/250\n",
      "412/412 [==============================] - 2s 4ms/step - loss: 0.3734 - accuracy: 0.8365 - val_loss: 0.5110 - val_accuracy: 0.7973\n",
      "Epoch 38/250\n",
      "412/412 [==============================] - 2s 4ms/step - loss: 0.3687 - accuracy: 0.8390 - val_loss: 0.5066 - val_accuracy: 0.8010\n",
      "Epoch 39/250\n",
      "412/412 [==============================] - 2s 4ms/step - loss: 0.3642 - accuracy: 0.8416 - val_loss: 0.5023 - val_accuracy: 0.8033\n",
      "Epoch 40/250\n",
      "412/412 [==============================] - 2s 4ms/step - loss: 0.3598 - accuracy: 0.8437 - val_loss: 0.4982 - val_accuracy: 0.8065\n",
      "Epoch 41/250\n",
      "412/412 [==============================] - 2s 4ms/step - loss: 0.3555 - accuracy: 0.8473 - val_loss: 0.4942 - val_accuracy: 0.8082\n",
      "Epoch 42/250\n",
      "412/412 [==============================] - 2s 4ms/step - loss: 0.3514 - accuracy: 0.8501 - val_loss: 0.4904 - val_accuracy: 0.8103\n",
      "Epoch 43/250\n",
      "412/412 [==============================] - 2s 4ms/step - loss: 0.3474 - accuracy: 0.8516 - val_loss: 0.4866 - val_accuracy: 0.8123\n",
      "Epoch 44/250\n",
      "412/412 [==============================] - 2s 4ms/step - loss: 0.3436 - accuracy: 0.8541 - val_loss: 0.4830 - val_accuracy: 0.8153\n",
      "Epoch 45/250\n",
      "412/412 [==============================] - 2s 4ms/step - loss: 0.3398 - accuracy: 0.8563 - val_loss: 0.4796 - val_accuracy: 0.8180\n",
      "Epoch 46/250\n",
      "412/412 [==============================] - 2s 4ms/step - loss: 0.3362 - accuracy: 0.8583 - val_loss: 0.4762 - val_accuracy: 0.8197\n",
      "Epoch 47/250\n",
      "412/412 [==============================] - 2s 4ms/step - loss: 0.3328 - accuracy: 0.8610 - val_loss: 0.4729 - val_accuracy: 0.8218\n",
      "Epoch 48/250\n",
      "412/412 [==============================] - 2s 4ms/step - loss: 0.3294 - accuracy: 0.8625 - val_loss: 0.4697 - val_accuracy: 0.8237\n",
      "Epoch 49/250\n",
      "412/412 [==============================] - 2s 4ms/step - loss: 0.3261 - accuracy: 0.8644 - val_loss: 0.4667 - val_accuracy: 0.8255\n",
      "Epoch 50/250\n",
      "412/412 [==============================] - 2s 4ms/step - loss: 0.3230 - accuracy: 0.8658 - val_loss: 0.4637 - val_accuracy: 0.8282\n",
      "Epoch 51/250\n",
      "412/412 [==============================] - 2s 4ms/step - loss: 0.3199 - accuracy: 0.8667 - val_loss: 0.4609 - val_accuracy: 0.8292\n",
      "Epoch 52/250\n",
      "412/412 [==============================] - 2s 4ms/step - loss: 0.3169 - accuracy: 0.8684 - val_loss: 0.4581 - val_accuracy: 0.8317\n",
      "Epoch 53/250\n",
      "412/412 [==============================] - 2s 4ms/step - loss: 0.3140 - accuracy: 0.8705 - val_loss: 0.4554 - val_accuracy: 0.8330\n",
      "Epoch 54/250\n",
      "412/412 [==============================] - 2s 4ms/step - loss: 0.3112 - accuracy: 0.8714 - val_loss: 0.4528 - val_accuracy: 0.8340\n",
      "Epoch 55/250\n",
      "412/412 [==============================] - 2s 4ms/step - loss: 0.3085 - accuracy: 0.8734 - val_loss: 0.4502 - val_accuracy: 0.8353\n",
      "Epoch 56/250\n",
      "412/412 [==============================] - 2s 4ms/step - loss: 0.3058 - accuracy: 0.8757 - val_loss: 0.4478 - val_accuracy: 0.8365\n",
      "Epoch 57/250\n",
      "412/412 [==============================] - 2s 4ms/step - loss: 0.3033 - accuracy: 0.8775 - val_loss: 0.4454 - val_accuracy: 0.8368\n",
      "Epoch 58/250\n"
     ]
    },
    {
     "name": "stdout",
     "output_type": "stream",
     "text": [
      "412/412 [==============================] - 2s 4ms/step - loss: 0.3008 - accuracy: 0.8784 - val_loss: 0.4431 - val_accuracy: 0.8373\n",
      "Epoch 59/250\n",
      "412/412 [==============================] - 2s 4ms/step - loss: 0.2983 - accuracy: 0.8800 - val_loss: 0.4409 - val_accuracy: 0.8390\n",
      "Epoch 60/250\n",
      "412/412 [==============================] - 2s 4ms/step - loss: 0.2960 - accuracy: 0.8805 - val_loss: 0.4388 - val_accuracy: 0.8397\n",
      "Epoch 61/250\n",
      "412/412 [==============================] - 2s 5ms/step - loss: 0.2937 - accuracy: 0.8813 - val_loss: 0.4367 - val_accuracy: 0.8410\n",
      "Epoch 62/250\n",
      "412/412 [==============================] - 2s 4ms/step - loss: 0.2914 - accuracy: 0.8825 - val_loss: 0.4346 - val_accuracy: 0.8415\n",
      "Epoch 63/250\n",
      "412/412 [==============================] - 2s 4ms/step - loss: 0.2893 - accuracy: 0.8835 - val_loss: 0.4327 - val_accuracy: 0.8418\n",
      "Epoch 64/250\n",
      "412/412 [==============================] - 2s 4ms/step - loss: 0.2872 - accuracy: 0.8841 - val_loss: 0.4308 - val_accuracy: 0.8427\n",
      "Epoch 65/250\n",
      "412/412 [==============================] - 2s 4ms/step - loss: 0.2851 - accuracy: 0.8849 - val_loss: 0.4290 - val_accuracy: 0.8438\n",
      "Epoch 66/250\n",
      "412/412 [==============================] - 2s 4ms/step - loss: 0.2831 - accuracy: 0.8860 - val_loss: 0.4272 - val_accuracy: 0.8450\n",
      "Epoch 67/250\n",
      "412/412 [==============================] - 2s 4ms/step - loss: 0.2812 - accuracy: 0.8879 - val_loss: 0.4255 - val_accuracy: 0.8462\n",
      "Epoch 68/250\n",
      "412/412 [==============================] - 2s 4ms/step - loss: 0.2792 - accuracy: 0.8886 - val_loss: 0.4238 - val_accuracy: 0.8472\n",
      "Epoch 69/250\n",
      "412/412 [==============================] - 2s 4ms/step - loss: 0.2774 - accuracy: 0.8893 - val_loss: 0.4222 - val_accuracy: 0.8473\n",
      "Epoch 70/250\n",
      "412/412 [==============================] - 2s 4ms/step - loss: 0.2756 - accuracy: 0.8903 - val_loss: 0.4206 - val_accuracy: 0.8485\n",
      "Epoch 71/250\n",
      "412/412 [==============================] - 2s 4ms/step - loss: 0.2738 - accuracy: 0.8912 - val_loss: 0.4191 - val_accuracy: 0.8492\n",
      "Epoch 72/250\n",
      "412/412 [==============================] - 2s 4ms/step - loss: 0.2721 - accuracy: 0.8920 - val_loss: 0.4177 - val_accuracy: 0.8503\n",
      "Epoch 73/250\n",
      "412/412 [==============================] - 2s 4ms/step - loss: 0.2704 - accuracy: 0.8935 - val_loss: 0.4162 - val_accuracy: 0.8513\n",
      "Epoch 74/250\n",
      "412/412 [==============================] - 2s 4ms/step - loss: 0.2688 - accuracy: 0.8942 - val_loss: 0.4149 - val_accuracy: 0.8522\n",
      "Epoch 75/250\n",
      "412/412 [==============================] - 2s 4ms/step - loss: 0.2672 - accuracy: 0.8946 - val_loss: 0.4135 - val_accuracy: 0.8537\n",
      "Epoch 76/250\n",
      "412/412 [==============================] - 2s 4ms/step - loss: 0.2657 - accuracy: 0.8952 - val_loss: 0.4122 - val_accuracy: 0.8537\n",
      "Epoch 77/250\n",
      "412/412 [==============================] - 2s 4ms/step - loss: 0.2641 - accuracy: 0.8958 - val_loss: 0.4110 - val_accuracy: 0.8545\n",
      "Epoch 78/250\n",
      "412/412 [==============================] - 2s 4ms/step - loss: 0.2627 - accuracy: 0.8964 - val_loss: 0.4098 - val_accuracy: 0.8552\n",
      "Epoch 79/250\n",
      "412/412 [==============================] - 2s 4ms/step - loss: 0.2612 - accuracy: 0.8969 - val_loss: 0.4086 - val_accuracy: 0.8562\n",
      "Epoch 80/250\n",
      "412/412 [==============================] - 2s 4ms/step - loss: 0.2598 - accuracy: 0.8974 - val_loss: 0.4075 - val_accuracy: 0.8568\n",
      "Epoch 81/250\n",
      "412/412 [==============================] - 2s 4ms/step - loss: 0.2584 - accuracy: 0.8980 - val_loss: 0.4064 - val_accuracy: 0.8572\n",
      "Epoch 82/250\n",
      "412/412 [==============================] - 2s 4ms/step - loss: 0.2571 - accuracy: 0.8987 - val_loss: 0.4054 - val_accuracy: 0.8577\n",
      "Epoch 83/250\n",
      "412/412 [==============================] - 2s 4ms/step - loss: 0.2557 - accuracy: 0.8987 - val_loss: 0.4043 - val_accuracy: 0.8578\n",
      "Epoch 84/250\n",
      "412/412 [==============================] - 2s 4ms/step - loss: 0.2544 - accuracy: 0.8993 - val_loss: 0.4034 - val_accuracy: 0.8587\n",
      "Epoch 85/250\n",
      "412/412 [==============================] - 2s 4ms/step - loss: 0.2532 - accuracy: 0.8999 - val_loss: 0.4024 - val_accuracy: 0.8592\n",
      "Epoch 86/250\n",
      "412/412 [==============================] - 2s 4ms/step - loss: 0.2519 - accuracy: 0.9006 - val_loss: 0.4015 - val_accuracy: 0.8602\n",
      "Epoch 87/250\n",
      "412/412 [==============================] - 2s 4ms/step - loss: 0.2507 - accuracy: 0.9012 - val_loss: 0.4006 - val_accuracy: 0.8612\n",
      "Epoch 88/250\n",
      "412/412 [==============================] - 2s 4ms/step - loss: 0.2495 - accuracy: 0.9020 - val_loss: 0.3997 - val_accuracy: 0.8610\n",
      "Epoch 89/250\n",
      "412/412 [==============================] - 2s 4ms/step - loss: 0.2484 - accuracy: 0.9025 - val_loss: 0.3989 - val_accuracy: 0.8610\n",
      "Epoch 90/250\n",
      "412/412 [==============================] - 2s 4ms/step - loss: 0.2473 - accuracy: 0.9022 - val_loss: 0.3981 - val_accuracy: 0.8617\n",
      "Epoch 91/250\n",
      "412/412 [==============================] - 2s 4ms/step - loss: 0.2461 - accuracy: 0.9030 - val_loss: 0.3973 - val_accuracy: 0.8623\n",
      "Epoch 92/250\n",
      "412/412 [==============================] - 2s 4ms/step - loss: 0.2451 - accuracy: 0.9033 - val_loss: 0.3966 - val_accuracy: 0.8625\n",
      "Epoch 93/250\n",
      "412/412 [==============================] - 2s 4ms/step - loss: 0.2440 - accuracy: 0.9034 - val_loss: 0.3958 - val_accuracy: 0.8637\n",
      "Epoch 94/250\n",
      "412/412 [==============================] - 2s 4ms/step - loss: 0.2430 - accuracy: 0.9033 - val_loss: 0.3951 - val_accuracy: 0.8638\n",
      "Epoch 95/250\n",
      "412/412 [==============================] - 2s 4ms/step - loss: 0.2419 - accuracy: 0.9037 - val_loss: 0.3944 - val_accuracy: 0.8648\n",
      "Epoch 96/250\n",
      "412/412 [==============================] - 2s 4ms/step - loss: 0.2409 - accuracy: 0.9044 - val_loss: 0.3937 - val_accuracy: 0.8658\n",
      "Epoch 97/250\n",
      "412/412 [==============================] - 2s 4ms/step - loss: 0.2399 - accuracy: 0.9045 - val_loss: 0.3931 - val_accuracy: 0.8667\n",
      "Epoch 98/250\n",
      "412/412 [==============================] - 2s 4ms/step - loss: 0.2390 - accuracy: 0.9052 - val_loss: 0.3925 - val_accuracy: 0.8673\n",
      "Epoch 99/250\n",
      "412/412 [==============================] - 2s 4ms/step - loss: 0.2380 - accuracy: 0.9057 - val_loss: 0.3918 - val_accuracy: 0.8670\n",
      "Epoch 100/250\n",
      "412/412 [==============================] - 2s 4ms/step - loss: 0.2371 - accuracy: 0.9059 - val_loss: 0.3912 - val_accuracy: 0.8673\n",
      "Epoch 101/250\n",
      "412/412 [==============================] - 2s 4ms/step - loss: 0.2362 - accuracy: 0.9061 - val_loss: 0.3906 - val_accuracy: 0.8682\n",
      "Epoch 102/250\n",
      "412/412 [==============================] - 2s 4ms/step - loss: 0.2353 - accuracy: 0.9066 - val_loss: 0.3900 - val_accuracy: 0.8687\n",
      "Epoch 103/250\n",
      "412/412 [==============================] - 2s 4ms/step - loss: 0.2344 - accuracy: 0.9074 - val_loss: 0.3895 - val_accuracy: 0.8690\n",
      "Epoch 104/250\n",
      "412/412 [==============================] - 2s 4ms/step - loss: 0.2336 - accuracy: 0.9077 - val_loss: 0.3889 - val_accuracy: 0.8688\n",
      "Epoch 105/250\n",
      "412/412 [==============================] - 2s 4ms/step - loss: 0.2327 - accuracy: 0.9081 - val_loss: 0.3884 - val_accuracy: 0.8690\n",
      "Epoch 106/250\n",
      "412/412 [==============================] - 2s 4ms/step - loss: 0.2319 - accuracy: 0.9084 - val_loss: 0.3878 - val_accuracy: 0.8685\n",
      "Epoch 107/250\n",
      "412/412 [==============================] - 2s 4ms/step - loss: 0.2311 - accuracy: 0.9088 - val_loss: 0.3873 - val_accuracy: 0.8687\n",
      "Epoch 108/250\n",
      "412/412 [==============================] - 2s 4ms/step - loss: 0.2303 - accuracy: 0.9086 - val_loss: 0.3868 - val_accuracy: 0.8693\n",
      "Epoch 109/250\n",
      "412/412 [==============================] - 2s 4ms/step - loss: 0.2295 - accuracy: 0.9088 - val_loss: 0.3863 - val_accuracy: 0.8693\n",
      "Epoch 110/250\n",
      "412/412 [==============================] - 2s 4ms/step - loss: 0.2287 - accuracy: 0.9090 - val_loss: 0.3858 - val_accuracy: 0.8693\n",
      "Epoch 111/250\n",
      "412/412 [==============================] - 2s 4ms/step - loss: 0.2280 - accuracy: 0.9094 - val_loss: 0.3853 - val_accuracy: 0.8700\n",
      "Epoch 112/250\n",
      "412/412 [==============================] - 2s 4ms/step - loss: 0.2272 - accuracy: 0.9102 - val_loss: 0.3849 - val_accuracy: 0.8700\n",
      "Epoch 113/250\n",
      "412/412 [==============================] - 2s 5ms/step - loss: 0.2265 - accuracy: 0.9104 - val_loss: 0.3844 - val_accuracy: 0.8705\n",
      "Epoch 114/250\n",
      "412/412 [==============================] - 2s 5ms/step - loss: 0.2258 - accuracy: 0.9107 - val_loss: 0.3839 - val_accuracy: 0.8703\n"
     ]
    },
    {
     "name": "stdout",
     "output_type": "stream",
     "text": [
      "Epoch 115/250\n",
      "412/412 [==============================] - 2s 4ms/step - loss: 0.2251 - accuracy: 0.9114 - val_loss: 0.3835 - val_accuracy: 0.8708\n",
      "Epoch 116/250\n",
      "412/412 [==============================] - 2s 4ms/step - loss: 0.2244 - accuracy: 0.9116 - val_loss: 0.3830 - val_accuracy: 0.8715\n",
      "Epoch 117/250\n",
      "412/412 [==============================] - 2s 4ms/step - loss: 0.2237 - accuracy: 0.9116 - val_loss: 0.3826 - val_accuracy: 0.8722\n",
      "Epoch 118/250\n",
      "412/412 [==============================] - 2s 4ms/step - loss: 0.2230 - accuracy: 0.9117 - val_loss: 0.3821 - val_accuracy: 0.8725\n",
      "Epoch 119/250\n",
      "412/412 [==============================] - 2s 4ms/step - loss: 0.2223 - accuracy: 0.9119 - val_loss: 0.3817 - val_accuracy: 0.8732\n",
      "Epoch 120/250\n",
      "412/412 [==============================] - 2s 4ms/step - loss: 0.2217 - accuracy: 0.9134 - val_loss: 0.3813 - val_accuracy: 0.8732\n",
      "Epoch 121/250\n",
      "412/412 [==============================] - 2s 4ms/step - loss: 0.2210 - accuracy: 0.9142 - val_loss: 0.3809 - val_accuracy: 0.8732\n",
      "Epoch 122/250\n",
      "412/412 [==============================] - 2s 4ms/step - loss: 0.2204 - accuracy: 0.9144 - val_loss: 0.3805 - val_accuracy: 0.8743\n",
      "Epoch 123/250\n",
      "412/412 [==============================] - 2s 4ms/step - loss: 0.2198 - accuracy: 0.9150 - val_loss: 0.3801 - val_accuracy: 0.8748\n",
      "Epoch 124/250\n",
      "412/412 [==============================] - 2s 4ms/step - loss: 0.2192 - accuracy: 0.9151 - val_loss: 0.3797 - val_accuracy: 0.8752\n",
      "Epoch 125/250\n",
      "412/412 [==============================] - 2s 4ms/step - loss: 0.2186 - accuracy: 0.9154 - val_loss: 0.3793 - val_accuracy: 0.8758\n",
      "Epoch 126/250\n",
      "412/412 [==============================] - 2s 4ms/step - loss: 0.2180 - accuracy: 0.9152 - val_loss: 0.3789 - val_accuracy: 0.8760\n",
      "Epoch 127/250\n",
      "412/412 [==============================] - 2s 4ms/step - loss: 0.2174 - accuracy: 0.9154 - val_loss: 0.3785 - val_accuracy: 0.8763\n",
      "Epoch 128/250\n",
      "412/412 [==============================] - 2s 4ms/step - loss: 0.2168 - accuracy: 0.9162 - val_loss: 0.3781 - val_accuracy: 0.8762\n",
      "Epoch 129/250\n",
      "412/412 [==============================] - 2s 4ms/step - loss: 0.2162 - accuracy: 0.9163 - val_loss: 0.3778 - val_accuracy: 0.8762\n",
      "Epoch 130/250\n",
      "412/412 [==============================] - 2s 4ms/step - loss: 0.2157 - accuracy: 0.9165 - val_loss: 0.3774 - val_accuracy: 0.8763\n",
      "Epoch 131/250\n",
      "412/412 [==============================] - 2s 4ms/step - loss: 0.2151 - accuracy: 0.9168 - val_loss: 0.3771 - val_accuracy: 0.8767\n",
      "Epoch 132/250\n",
      "412/412 [==============================] - 2s 4ms/step - loss: 0.2146 - accuracy: 0.9167 - val_loss: 0.3767 - val_accuracy: 0.8773\n",
      "Epoch 133/250\n",
      "412/412 [==============================] - 2s 4ms/step - loss: 0.2140 - accuracy: 0.9171 - val_loss: 0.3764 - val_accuracy: 0.8778\n",
      "Epoch 134/250\n",
      "412/412 [==============================] - 2s 4ms/step - loss: 0.2135 - accuracy: 0.9174 - val_loss: 0.3760 - val_accuracy: 0.8783\n",
      "Epoch 135/250\n",
      "412/412 [==============================] - 2s 4ms/step - loss: 0.2130 - accuracy: 0.9175 - val_loss: 0.3757 - val_accuracy: 0.8793\n",
      "Epoch 136/250\n",
      "412/412 [==============================] - 2s 4ms/step - loss: 0.2124 - accuracy: 0.9175 - val_loss: 0.3754 - val_accuracy: 0.8800\n",
      "Epoch 137/250\n",
      "412/412 [==============================] - 2s 4ms/step - loss: 0.2119 - accuracy: 0.9178 - val_loss: 0.3751 - val_accuracy: 0.8805\n",
      "Epoch 138/250\n",
      "412/412 [==============================] - 2s 4ms/step - loss: 0.2114 - accuracy: 0.9178 - val_loss: 0.3747 - val_accuracy: 0.8808\n",
      "Epoch 139/250\n",
      "412/412 [==============================] - 2s 4ms/step - loss: 0.2109 - accuracy: 0.9180 - val_loss: 0.3744 - val_accuracy: 0.8817\n",
      "Epoch 140/250\n",
      "412/412 [==============================] - 2s 4ms/step - loss: 0.2104 - accuracy: 0.9182 - val_loss: 0.3741 - val_accuracy: 0.8820\n",
      "Epoch 141/250\n",
      "412/412 [==============================] - 2s 4ms/step - loss: 0.2099 - accuracy: 0.9184 - val_loss: 0.3738 - val_accuracy: 0.8822\n",
      "Epoch 142/250\n",
      "412/412 [==============================] - 2s 4ms/step - loss: 0.2095 - accuracy: 0.9184 - val_loss: 0.3736 - val_accuracy: 0.8827\n",
      "Epoch 143/250\n",
      "412/412 [==============================] - 2s 4ms/step - loss: 0.2090 - accuracy: 0.9184 - val_loss: 0.3733 - val_accuracy: 0.8832\n",
      "Epoch 144/250\n",
      "412/412 [==============================] - 2s 4ms/step - loss: 0.2085 - accuracy: 0.9189 - val_loss: 0.3730 - val_accuracy: 0.8837\n",
      "Epoch 145/250\n",
      "412/412 [==============================] - 2s 4ms/step - loss: 0.2081 - accuracy: 0.9193 - val_loss: 0.3727 - val_accuracy: 0.8842\n",
      "Epoch 146/250\n",
      "412/412 [==============================] - 2s 4ms/step - loss: 0.2076 - accuracy: 0.9195 - val_loss: 0.3725 - val_accuracy: 0.8842\n",
      "Epoch 147/250\n",
      "412/412 [==============================] - 2s 4ms/step - loss: 0.2072 - accuracy: 0.9194 - val_loss: 0.3722 - val_accuracy: 0.8847\n",
      "Epoch 148/250\n",
      "412/412 [==============================] - 2s 4ms/step - loss: 0.2067 - accuracy: 0.9195 - val_loss: 0.3719 - val_accuracy: 0.8855\n",
      "Epoch 149/250\n",
      "412/412 [==============================] - 2s 4ms/step - loss: 0.2063 - accuracy: 0.9196 - val_loss: 0.3717 - val_accuracy: 0.8862\n",
      "Epoch 150/250\n",
      "412/412 [==============================] - 2s 4ms/step - loss: 0.2058 - accuracy: 0.9197 - val_loss: 0.3715 - val_accuracy: 0.8865\n",
      "Epoch 151/250\n",
      "412/412 [==============================] - 2s 4ms/step - loss: 0.2054 - accuracy: 0.9196 - val_loss: 0.3712 - val_accuracy: 0.8872\n",
      "Epoch 152/250\n",
      "412/412 [==============================] - 2s 4ms/step - loss: 0.2050 - accuracy: 0.9197 - val_loss: 0.3710 - val_accuracy: 0.8873\n",
      "Epoch 153/250\n",
      "412/412 [==============================] - 2s 4ms/step - loss: 0.2046 - accuracy: 0.9198 - val_loss: 0.3708 - val_accuracy: 0.8872\n",
      "Epoch 154/250\n",
      "412/412 [==============================] - 2s 4ms/step - loss: 0.2042 - accuracy: 0.9198 - val_loss: 0.3706 - val_accuracy: 0.8875\n",
      "Epoch 155/250\n",
      "412/412 [==============================] - 2s 4ms/step - loss: 0.2038 - accuracy: 0.9197 - val_loss: 0.3704 - val_accuracy: 0.8877\n",
      "Epoch 156/250\n",
      "412/412 [==============================] - 2s 4ms/step - loss: 0.2034 - accuracy: 0.9201 - val_loss: 0.3702 - val_accuracy: 0.8873\n",
      "Epoch 157/250\n",
      "412/412 [==============================] - 2s 4ms/step - loss: 0.2030 - accuracy: 0.9200 - val_loss: 0.3700 - val_accuracy: 0.8875\n",
      "Epoch 158/250\n",
      "412/412 [==============================] - 2s 4ms/step - loss: 0.2026 - accuracy: 0.9207 - val_loss: 0.3698 - val_accuracy: 0.8875\n",
      "Epoch 159/250\n",
      "412/412 [==============================] - 2s 4ms/step - loss: 0.2022 - accuracy: 0.9208 - val_loss: 0.3696 - val_accuracy: 0.8877\n",
      "Epoch 160/250\n",
      "412/412 [==============================] - 2s 4ms/step - loss: 0.2018 - accuracy: 0.9211 - val_loss: 0.3694 - val_accuracy: 0.8877\n",
      "Epoch 161/250\n",
      "412/412 [==============================] - 2s 4ms/step - loss: 0.2014 - accuracy: 0.9211 - val_loss: 0.3692 - val_accuracy: 0.8875\n",
      "Epoch 162/250\n",
      "412/412 [==============================] - 2s 4ms/step - loss: 0.2011 - accuracy: 0.9212 - val_loss: 0.3691 - val_accuracy: 0.8877\n",
      "Epoch 163/250\n",
      "412/412 [==============================] - 2s 4ms/step - loss: 0.2007 - accuracy: 0.9213 - val_loss: 0.3689 - val_accuracy: 0.8878\n",
      "Epoch 164/250\n",
      "412/412 [==============================] - 2s 4ms/step - loss: 0.2003 - accuracy: 0.9217 - val_loss: 0.3688 - val_accuracy: 0.8878\n",
      "Epoch 165/250\n",
      "412/412 [==============================] - 2s 4ms/step - loss: 0.2000 - accuracy: 0.9220 - val_loss: 0.3686 - val_accuracy: 0.8880\n",
      "Epoch 166/250\n",
      "412/412 [==============================] - 2s 4ms/step - loss: 0.1996 - accuracy: 0.9223 - val_loss: 0.3685 - val_accuracy: 0.8883\n",
      "Epoch 167/250\n",
      "412/412 [==============================] - 2s 4ms/step - loss: 0.1993 - accuracy: 0.9225 - val_loss: 0.3683 - val_accuracy: 0.8887\n",
      "Epoch 168/250\n",
      "412/412 [==============================] - 2s 4ms/step - loss: 0.1989 - accuracy: 0.9225 - val_loss: 0.3682 - val_accuracy: 0.8887\n",
      "Epoch 169/250\n",
      "412/412 [==============================] - 2s 4ms/step - loss: 0.1986 - accuracy: 0.9227 - val_loss: 0.3681 - val_accuracy: 0.8887\n",
      "Epoch 170/250\n",
      "412/412 [==============================] - 2s 4ms/step - loss: 0.1982 - accuracy: 0.9232 - val_loss: 0.3680 - val_accuracy: 0.8888\n",
      "Epoch 171/250\n",
      "412/412 [==============================] - 2s 4ms/step - loss: 0.1979 - accuracy: 0.9231 - val_loss: 0.3679 - val_accuracy: 0.8892\n",
      "Epoch 172/250\n",
      "412/412 [==============================] - 2s 4ms/step - loss: 0.1976 - accuracy: 0.9233 - val_loss: 0.3677 - val_accuracy: 0.8890\n",
      "Epoch 173/250\n",
      "412/412 [==============================] - 2s 4ms/step - loss: 0.1972 - accuracy: 0.9234 - val_loss: 0.3676 - val_accuracy: 0.8893\n",
      "Epoch 174/250\n",
      "412/412 [==============================] - 2s 4ms/step - loss: 0.1969 - accuracy: 0.9235 - val_loss: 0.3676 - val_accuracy: 0.8897\n",
      "Epoch 175/250\n",
      "412/412 [==============================] - 2s 4ms/step - loss: 0.1966 - accuracy: 0.9233 - val_loss: 0.3675 - val_accuracy: 0.8898\n",
      "Epoch 176/250\n",
      "412/412 [==============================] - 2s 4ms/step - loss: 0.1963 - accuracy: 0.9232 - val_loss: 0.3674 - val_accuracy: 0.8900\n",
      "Epoch 177/250\n",
      "412/412 [==============================] - 2s 4ms/step - loss: 0.1960 - accuracy: 0.9233 - val_loss: 0.3673 - val_accuracy: 0.8900\n",
      "Epoch 178/250\n",
      "412/412 [==============================] - 2s 4ms/step - loss: 0.1957 - accuracy: 0.9234 - val_loss: 0.3672 - val_accuracy: 0.8902\n",
      "Epoch 179/250\n",
      "412/412 [==============================] - 2s 4ms/step - loss: 0.1954 - accuracy: 0.9237 - val_loss: 0.3672 - val_accuracy: 0.8905\n",
      "Epoch 180/250\n",
      "412/412 [==============================] - 2s 4ms/step - loss: 0.1951 - accuracy: 0.9238 - val_loss: 0.3671 - val_accuracy: 0.8905\n",
      "Epoch 181/250\n",
      "412/412 [==============================] - 2s 4ms/step - loss: 0.1948 - accuracy: 0.9242 - val_loss: 0.3670 - val_accuracy: 0.8902\n",
      "Epoch 182/250\n",
      "412/412 [==============================] - 2s 4ms/step - loss: 0.1945 - accuracy: 0.9241 - val_loss: 0.3670 - val_accuracy: 0.8902\n",
      "Epoch 183/250\n",
      "412/412 [==============================] - 2s 4ms/step - loss: 0.1942 - accuracy: 0.9247 - val_loss: 0.3669 - val_accuracy: 0.8908\n",
      "Epoch 184/250\n",
      "412/412 [==============================] - 2s 4ms/step - loss: 0.1939 - accuracy: 0.9245 - val_loss: 0.3669 - val_accuracy: 0.8913\n",
      "Epoch 185/250\n",
      "412/412 [==============================] - 2s 4ms/step - loss: 0.1936 - accuracy: 0.9244 - val_loss: 0.3668 - val_accuracy: 0.8915\n",
      "Epoch 186/250\n",
      "412/412 [==============================] - 2s 4ms/step - loss: 0.1933 - accuracy: 0.9244 - val_loss: 0.3668 - val_accuracy: 0.8917\n",
      "Epoch 187/250\n",
      "412/412 [==============================] - 2s 4ms/step - loss: 0.1930 - accuracy: 0.9244 - val_loss: 0.3668 - val_accuracy: 0.8918\n",
      "Epoch 188/250\n",
      "412/412 [==============================] - 2s 4ms/step - loss: 0.1928 - accuracy: 0.9243 - val_loss: 0.3667 - val_accuracy: 0.8917\n",
      "Epoch 189/250\n",
      "412/412 [==============================] - 2s 4ms/step - loss: 0.1925 - accuracy: 0.9243 - val_loss: 0.3667 - val_accuracy: 0.8922\n",
      "Epoch 190/250\n",
      "412/412 [==============================] - 2s 4ms/step - loss: 0.1922 - accuracy: 0.9243 - val_loss: 0.3667 - val_accuracy: 0.8923\n",
      "Epoch 191/250\n",
      "412/412 [==============================] - 2s 4ms/step - loss: 0.1920 - accuracy: 0.9245 - val_loss: 0.3667 - val_accuracy: 0.8925\n",
      "Epoch 192/250\n",
      "412/412 [==============================] - 2s 4ms/step - loss: 0.1917 - accuracy: 0.9245 - val_loss: 0.3667 - val_accuracy: 0.8923\n",
      "Epoch 193/250\n",
      "412/412 [==============================] - 2s 4ms/step - loss: 0.1914 - accuracy: 0.9246 - val_loss: 0.3667 - val_accuracy: 0.8928\n",
      "Epoch 194/250\n",
      "412/412 [==============================] - 2s 4ms/step - loss: 0.1912 - accuracy: 0.9246 - val_loss: 0.3667 - val_accuracy: 0.8933\n",
      "Epoch 195/250\n",
      "412/412 [==============================] - 2s 4ms/step - loss: 0.1909 - accuracy: 0.9245 - val_loss: 0.3667 - val_accuracy: 0.8933\n",
      "Epoch 196/250\n",
      "412/412 [==============================] - 2s 4ms/step - loss: 0.1907 - accuracy: 0.9247 - val_loss: 0.3667 - val_accuracy: 0.8937\n",
      "Epoch 197/250\n",
      "412/412 [==============================] - 2s 4ms/step - loss: 0.1904 - accuracy: 0.9246 - val_loss: 0.3667 - val_accuracy: 0.8938\n",
      "Epoch 198/250\n",
      "412/412 [==============================] - 2s 4ms/step - loss: 0.1902 - accuracy: 0.9248 - val_loss: 0.3667 - val_accuracy: 0.8937\n",
      "Epoch 199/250\n",
      "412/412 [==============================] - 2s 4ms/step - loss: 0.1899 - accuracy: 0.9250 - val_loss: 0.3668 - val_accuracy: 0.8938\n",
      "Epoch 200/250\n",
      "412/412 [==============================] - 2s 4ms/step - loss: 0.1897 - accuracy: 0.9250 - val_loss: 0.3668 - val_accuracy: 0.8938\n",
      "Epoch 201/250\n",
      "412/412 [==============================] - 2s 4ms/step - loss: 0.1895 - accuracy: 0.9250 - val_loss: 0.3668 - val_accuracy: 0.8938\n",
      "Epoch 202/250\n",
      "412/412 [==============================] - 2s 4ms/step - loss: 0.1892 - accuracy: 0.9253 - val_loss: 0.3669 - val_accuracy: 0.8938\n",
      "Epoch 203/250\n",
      "412/412 [==============================] - 2s 4ms/step - loss: 0.1890 - accuracy: 0.9254 - val_loss: 0.3669 - val_accuracy: 0.8938\n",
      "Epoch 204/250\n",
      "412/412 [==============================] - 2s 4ms/step - loss: 0.1888 - accuracy: 0.9254 - val_loss: 0.3669 - val_accuracy: 0.8940\n",
      "Epoch 205/250\n",
      "412/412 [==============================] - 2s 4ms/step - loss: 0.1885 - accuracy: 0.9255 - val_loss: 0.3670 - val_accuracy: 0.8947\n",
      "Epoch 206/250\n",
      "412/412 [==============================] - 2s 4ms/step - loss: 0.1883 - accuracy: 0.9255 - val_loss: 0.3670 - val_accuracy: 0.8945\n",
      "Epoch 207/250\n",
      "412/412 [==============================] - 2s 4ms/step - loss: 0.1881 - accuracy: 0.9256 - val_loss: 0.3671 - val_accuracy: 0.8942\n",
      "Epoch 208/250\n",
      "412/412 [==============================] - 2s 4ms/step - loss: 0.1878 - accuracy: 0.9258 - val_loss: 0.3671 - val_accuracy: 0.8943\n",
      "Epoch 209/250\n",
      "412/412 [==============================] - 2s 4ms/step - loss: 0.1876 - accuracy: 0.9256 - val_loss: 0.3672 - val_accuracy: 0.8942\n",
      "Epoch 210/250\n",
      "412/412 [==============================] - 2s 4ms/step - loss: 0.1874 - accuracy: 0.9256 - val_loss: 0.3673 - val_accuracy: 0.8940\n",
      "Epoch 211/250\n",
      "412/412 [==============================] - 2s 4ms/step - loss: 0.1872 - accuracy: 0.9257 - val_loss: 0.3673 - val_accuracy: 0.8942\n",
      "Epoch 212/250\n",
      "412/412 [==============================] - 2s 4ms/step - loss: 0.1870 - accuracy: 0.9256 - val_loss: 0.3674 - val_accuracy: 0.8942\n",
      "Epoch 213/250\n",
      "412/412 [==============================] - 2s 4ms/step - loss: 0.1868 - accuracy: 0.9256 - val_loss: 0.3675 - val_accuracy: 0.8945\n",
      "Epoch 214/250\n",
      "412/412 [==============================] - 2s 4ms/step - loss: 0.1866 - accuracy: 0.9257 - val_loss: 0.3675 - val_accuracy: 0.8945\n",
      "Epoch 215/250\n",
      "412/412 [==============================] - 2s 4ms/step - loss: 0.1864 - accuracy: 0.9251 - val_loss: 0.3676 - val_accuracy: 0.8948\n",
      "Epoch 216/250\n",
      "412/412 [==============================] - 2s 4ms/step - loss: 0.1862 - accuracy: 0.9249 - val_loss: 0.3677 - val_accuracy: 0.8950\n",
      "Epoch 217/250\n",
      "412/412 [==============================] - 2s 4ms/step - loss: 0.1860 - accuracy: 0.9249 - val_loss: 0.3678 - val_accuracy: 0.8952\n",
      "Epoch 218/250\n",
      "412/412 [==============================] - 2s 4ms/step - loss: 0.1858 - accuracy: 0.9251 - val_loss: 0.3679 - val_accuracy: 0.8963\n",
      "Epoch 219/250\n",
      "412/412 [==============================] - 2s 4ms/step - loss: 0.1856 - accuracy: 0.9252 - val_loss: 0.3680 - val_accuracy: 0.8965\n",
      "Epoch 220/250\n",
      "412/412 [==============================] - 2s 4ms/step - loss: 0.1854 - accuracy: 0.9255 - val_loss: 0.3681 - val_accuracy: 0.8962\n",
      "Epoch 221/250\n",
      "412/412 [==============================] - 2s 4ms/step - loss: 0.1852 - accuracy: 0.9258 - val_loss: 0.3681 - val_accuracy: 0.8963\n",
      "Epoch 222/250\n",
      "412/412 [==============================] - 2s 4ms/step - loss: 0.1850 - accuracy: 0.9257 - val_loss: 0.3682 - val_accuracy: 0.8967\n",
      "Epoch 223/250\n",
      "412/412 [==============================] - 2s 4ms/step - loss: 0.1848 - accuracy: 0.9258 - val_loss: 0.3683 - val_accuracy: 0.8970\n",
      "Epoch 224/250\n",
      "412/412 [==============================] - 2s 4ms/step - loss: 0.1846 - accuracy: 0.9257 - val_loss: 0.3685 - val_accuracy: 0.8970\n",
      "Epoch 225/250\n",
      "412/412 [==============================] - 2s 4ms/step - loss: 0.1844 - accuracy: 0.9257 - val_loss: 0.3686 - val_accuracy: 0.8968\n",
      "Epoch 226/250\n",
      "412/412 [==============================] - 2s 4ms/step - loss: 0.1842 - accuracy: 0.9260 - val_loss: 0.3687 - val_accuracy: 0.8967\n",
      "Epoch 227/250\n"
     ]
    },
    {
     "name": "stdout",
     "output_type": "stream",
     "text": [
      "412/412 [==============================] - 2s 4ms/step - loss: 0.1840 - accuracy: 0.9260 - val_loss: 0.3688 - val_accuracy: 0.8970\n",
      "Epoch 228/250\n",
      "412/412 [==============================] - 2s 4ms/step - loss: 0.1839 - accuracy: 0.9260 - val_loss: 0.3689 - val_accuracy: 0.8972\n",
      "Epoch 229/250\n",
      "412/412 [==============================] - 2s 4ms/step - loss: 0.1837 - accuracy: 0.9259 - val_loss: 0.3690 - val_accuracy: 0.8972\n",
      "Epoch 230/250\n",
      "412/412 [==============================] - 2s 4ms/step - loss: 0.1835 - accuracy: 0.9261 - val_loss: 0.3691 - val_accuracy: 0.8972\n",
      "Epoch 231/250\n",
      "412/412 [==============================] - 2s 4ms/step - loss: 0.1833 - accuracy: 0.9261 - val_loss: 0.3693 - val_accuracy: 0.8970\n",
      "Epoch 232/250\n",
      "412/412 [==============================] - 2s 4ms/step - loss: 0.1832 - accuracy: 0.9261 - val_loss: 0.3694 - val_accuracy: 0.8972\n",
      "Epoch 233/250\n",
      "412/412 [==============================] - 2s 4ms/step - loss: 0.1830 - accuracy: 0.9262 - val_loss: 0.3695 - val_accuracy: 0.8972\n",
      "Epoch 234/250\n",
      "412/412 [==============================] - 2s 4ms/step - loss: 0.1828 - accuracy: 0.9263 - val_loss: 0.3696 - val_accuracy: 0.8975\n",
      "Epoch 235/250\n",
      "412/412 [==============================] - 2s 4ms/step - loss: 0.1826 - accuracy: 0.9265 - val_loss: 0.3698 - val_accuracy: 0.8978\n",
      "Epoch 236/250\n",
      "412/412 [==============================] - 2s 4ms/step - loss: 0.1825 - accuracy: 0.9266 - val_loss: 0.3699 - val_accuracy: 0.8977\n",
      "Epoch 237/250\n",
      "412/412 [==============================] - 2s 4ms/step - loss: 0.1823 - accuracy: 0.9267 - val_loss: 0.3700 - val_accuracy: 0.8977\n",
      "Epoch 238/250\n",
      "412/412 [==============================] - 2s 4ms/step - loss: 0.1821 - accuracy: 0.9266 - val_loss: 0.3702 - val_accuracy: 0.8977\n",
      "Epoch 239/250\n",
      "412/412 [==============================] - 2s 4ms/step - loss: 0.1820 - accuracy: 0.9268 - val_loss: 0.3703 - val_accuracy: 0.8978\n",
      "Epoch 240/250\n",
      "412/412 [==============================] - 2s 4ms/step - loss: 0.1818 - accuracy: 0.9268 - val_loss: 0.3704 - val_accuracy: 0.8978\n",
      "Epoch 241/250\n",
      "412/412 [==============================] - 2s 4ms/step - loss: 0.1817 - accuracy: 0.9268 - val_loss: 0.3706 - val_accuracy: 0.8978\n",
      "Epoch 242/250\n",
      "412/412 [==============================] - 2s 4ms/step - loss: 0.1815 - accuracy: 0.9268 - val_loss: 0.3707 - val_accuracy: 0.8980\n",
      "Epoch 243/250\n",
      "412/412 [==============================] - 2s 4ms/step - loss: 0.1813 - accuracy: 0.9269 - val_loss: 0.3709 - val_accuracy: 0.8980\n",
      "Epoch 244/250\n",
      "412/412 [==============================] - 2s 4ms/step - loss: 0.1812 - accuracy: 0.9269 - val_loss: 0.3710 - val_accuracy: 0.8982\n",
      "Epoch 245/250\n",
      "412/412 [==============================] - 2s 4ms/step - loss: 0.1810 - accuracy: 0.9273 - val_loss: 0.3712 - val_accuracy: 0.8977\n",
      "Epoch 246/250\n",
      "412/412 [==============================] - 2s 4ms/step - loss: 0.1809 - accuracy: 0.9276 - val_loss: 0.3713 - val_accuracy: 0.8980\n",
      "Epoch 247/250\n",
      "412/412 [==============================] - 2s 4ms/step - loss: 0.1807 - accuracy: 0.9280 - val_loss: 0.3715 - val_accuracy: 0.8980\n",
      "Epoch 248/250\n",
      "412/412 [==============================] - 2s 4ms/step - loss: 0.1806 - accuracy: 0.9280 - val_loss: 0.3716 - val_accuracy: 0.8980\n",
      "Epoch 249/250\n",
      "412/412 [==============================] - 2s 4ms/step - loss: 0.1804 - accuracy: 0.9279 - val_loss: 0.3718 - val_accuracy: 0.8978\n",
      "Epoch 250/250\n",
      "412/412 [==============================] - 2s 4ms/step - loss: 0.1803 - accuracy: 0.9278 - val_loss: 0.3720 - val_accuracy: 0.8978\n"
     ]
    }
   ],
   "source": [
    "#compiling and fitting the model\n",
    "opt = tf.keras.optimizers.Adam(learning_rate=0.001)\n",
    "loss_fn = tf.keras.losses.CategoricalCrossentropy()\n",
    "\n",
    "model.compile(optimizer=opt, loss=loss_fn, metrics=['accuracy'])\n",
    "history = model.fit(train_dataset, epochs=250, validation_data=test_dataset)"
   ]
  },
  {
   "cell_type": "code",
   "execution_count": 30,
   "id": "81620c8e",
   "metadata": {},
   "outputs": [
    {
     "data": {
      "image/png": "[encoded data removed]",
      "text/plain": [
       "<Figure size 1296x360 with 2 Axes>"
      ]
     },
     "metadata": {
      "needs_background": "light"
     },
     "output_type": "display_data"
    }
   ],
   "source": [
    "#plotting loss function and accuracy for training and test sets over all epochs\n",
    "fig, (ax1, ax2) = plt.subplots(1,2,figsize=(18,5))\n",
    "ax1.plot(history.history['loss'],c='b'),ax1.plot(history.history['val_loss'],c='r')\n",
    "ax1.set_title('CNN Loss over 150 Epochs for \\n C130keV and F170keV Classification')\n",
    "ax1.set_ylabel('Loss'),ax1.set_xlabel('Epoch'),ax1.legend(['Training Set', 'Test Set'], loc='best');\n",
    "ax2.plot(history.history['accuracy'],c='b'),ax2.plot(history.history['val_accuracy'],c='r')\n",
    "ax2.set_title('CNN Accuracy over 150 Epochs for \\n C130keV and F170keV Classification')\n",
    "ax2.set_ylabel('Accuracy'),ax2.set_xlabel('Epoch'),ax2.legend(['Training Set', 'Test Set'], loc='best');"
   ]
  },
  {
   "cell_type": "code",
   "execution_count": 31,
   "id": "0cca2017",
   "metadata": {},
   "outputs": [],
   "source": [
    "np.save('Figure_Data/fig1_acc1.npy', history.history['accuracy'])\n",
    "np.save('Figure_Data/fig1_valacc1.npy', history.history['val_accuracy'])"
   ]
  },
  {
   "cell_type": "code",
   "execution_count": 25,
   "id": "2918cb34",
   "metadata": {
    "scrolled": true
   },
   "outputs": [
    {
     "name": "stdout",
     "output_type": "stream",
     "text": [
      "[<tf.Variable 'dense_2/kernel:0' shape=(9409, 2) dtype=float32, numpy=\n",
      "array([[-0.35055187,  0.35074154],\n",
      "       [-0.36183766,  0.36403218],\n",
      "       [-0.32976142,  0.34616092],\n",
      "       ...,\n",
      "       [-0.32295737,  0.33877525],\n",
      "       [-0.35256788,  0.36782888],\n",
      "       [-0.35011622,  0.3332486 ]], dtype=float32)>, <tf.Variable 'dense_2/bias:0' shape=(2,) dtype=float32, numpy=array([ 0.3452362, -0.345236 ], dtype=float32)>]\n",
      "[ 0.3452362 -0.345236 ]\n",
      "<tensorflow.python.keras.initializers.initializers_v2.Zeros object at 0x7f50a401e100>\n"
     ]
    }
   ],
   "source": [
    "print(model.layers[1].weights)\n",
    "print(model.layers[1].bias.numpy())\n",
    "print(model.layers[1].bias_initializer)"
   ]
  },
  {
   "cell_type": "code",
   "execution_count": 26,
   "id": "38f5ac5a",
   "metadata": {},
   "outputs": [],
   "source": [
    "weights_arr = model.layers[1].weights[0]"
   ]
  },
  {
   "cell_type": "code",
   "execution_count": 27,
   "id": "ae9c5239",
   "metadata": {},
   "outputs": [],
   "source": [
    "weights_array = weights_arr.numpy()"
   ]
  },
  {
   "cell_type": "code",
   "execution_count": 28,
   "id": "b366133d",
   "metadata": {},
   "outputs": [
    {
     "data": {
      "text/plain": [
       "(9409, 2)"
      ]
     },
     "execution_count": 28,
     "metadata": {},
     "output_type": "execute_result"
    }
   ],
   "source": [
    "weights_array.shape"
   ]
  },
  {
   "cell_type": "code",
   "execution_count": 29,
   "id": "5024d0fc",
   "metadata": {},
   "outputs": [
    {
     "name": "stdout",
     "output_type": "stream",
     "text": [
      "0.35074154\n",
      "-0.35055187\n",
      "9.483099e-05\n",
      "0.3506467\n"
     ]
    }
   ],
   "source": [
    "print(np.max(weights_array[0]))\n",
    "print(np.min(weights_array[0]))\n",
    "print(np.mean(weights_array[0]))\n",
    "print(np.std(weights_array[0]))"
   ]
  },
  {
   "cell_type": "markdown",
   "id": "677a32fb",
   "metadata": {},
   "source": [
    "Low standard deviation, as we would expect."
   ]
  },
  {
   "cell_type": "markdown",
   "id": "e685e414",
   "metadata": {},
   "source": [
    "## Setting Intensities as Equal"
   ]
  },
  {
   "cell_type": "code",
   "execution_count": 41,
   "id": "c2e8c58b",
   "metadata": {},
   "outputs": [],
   "source": [
    "from sklearn.model_selection import train_test_split\n",
    "import tensorflow as tf\n",
    "from sklearn.utils import shuffle"
   ]
  },
  {
   "cell_type": "code",
   "execution_count": 42,
   "id": "454420d5",
   "metadata": {},
   "outputs": [],
   "source": [
    "C130_dat, F170_dat = np.load('data_old/C_130keV_10000.npy'), np.load('data_old/F_170keV_10000.npy')"
   ]
  },
  {
   "cell_type": "code",
   "execution_count": 43,
   "id": "fa618c51",
   "metadata": {},
   "outputs": [],
   "source": [
    "C130_dat -= np.mean(C130_dat) # the -= means can be read as x = x- np.mean(x)\n",
    "C130_dat/=np.std(C130_dat)\n",
    "\n",
    "F170_dat -= np.mean(F170_dat) # the -= means can be read as x = x- np.mean(x)\n",
    "F170_dat/=np.std(F170_dat)"
   ]
  },
  {
   "cell_type": "code",
   "execution_count": 44,
   "id": "bb1f9d6a",
   "metadata": {},
   "outputs": [],
   "source": [
    "train_data, train_labels = [],[]\n",
    "test_data, test_labels = [],[]\n",
    "Csum, Fsum = [],[]\n",
    "\n",
    "n_train = int(len(C130_dat) * 0.8)\n",
    "\n",
    "for i in range(n_train):\n",
    "    train_data.append(C130_dat[i])\n",
    "    train_labels.append([1,0])\n",
    "    Csum.append(np.sum(C130_dat[i]))\n",
    "\n",
    "for i in range(n_train):\n",
    "    train_data.append(F170_dat[i])\n",
    "    train_labels.append([0,1])\n",
    "    Fsum.append(np.sum(F170_dat[i]))\n",
    "\n",
    "for i in range(n_train, len(C130_dat)):\n",
    "    test_data.append(C130_dat[i])\n",
    "    test_labels.append([1,0])\n",
    "    Csum.append(np.sum(C130_dat[i]))\n",
    "\n",
    "for i in range(n_train, len(F170_dat)):\n",
    "    test_data.append(F170_dat[i])\n",
    "    test_labels.append([0,1])\n",
    "    Fsum.append(np.sum(F170_dat[i]))\n",
    "\n",
    "\n",
    "# Maximum values\n",
    "\n",
    "C130_max = np.amax(np.amax(C130_dat, axis=(1,2)))\n",
    "F170_max = np.amax(np.amax(F170_dat, axis=(1,2)))\n",
    "all_max = max(C130_max, F170_max)\n",
    "\n",
    "\n",
    "# Normalise to (0,1)\n",
    "\n",
    "train_data = np.array(train_data) / all_max\n",
    "train_labels = np.array(train_labels)\n",
    "test_data = np.array(test_data) / all_max\n",
    "test_labels = np.array(test_labels)\n",
    "\n",
    "# Shuffle Data\n",
    "\n",
    "train_data, train_labels = shuffle(train_data, train_labels)\n",
    "test_data, test_labels = shuffle(test_data, test_labels)"
   ]
  },
  {
   "cell_type": "code",
   "execution_count": 45,
   "id": "874d3ff1",
   "metadata": {
    "scrolled": false
   },
   "outputs": [
    {
     "name": "stdout",
     "output_type": "stream",
     "text": [
      "\n",
      "Accuracy Possible with Cut of 0 on Total Intensity: 51.345%\n"
     ]
    },
    {
     "data": {
      "image/png": "[encoded data removed]",
      "text/plain": [
       "<Figure size 1080x720 with 1 Axes>"
      ]
     },
     "metadata": {
      "needs_background": "light"
     },
     "output_type": "display_data"
    }
   ],
   "source": [
    "cut = 0\n",
    "Cless, Fgrt = [],[]\n",
    "for i in range(len(Fsum)):\n",
    "    if Fsum[i] > cut:\n",
    "        Fgrt.append(Fsum[i])\n",
    "    if Csum[i] <= cut:\n",
    "        Cless.append(Csum[i])\n",
    "\n",
    "plt.figure(figsize=(15,10))\n",
    "plt.hist(Csum, density=True, histtype='step', bins=np.arange(-10,10,0.11), label='C130')  # density=False would make counts\n",
    "plt.hist(Fsum, density=True, histtype='step', bins=np.arange(-10,10,0.11), label='F170')\n",
    "plt.axvline(cut, c='r', ls='--', label='Cut')\n",
    "plt.ylabel('Frequency')\n",
    "plt.xlabel('Total Intensity')\n",
    "plt.legend()\n",
    "plt.savefig('intensity_hist.png')\n",
    "\n",
    "Acc = (len(Fgrt)+len(Cless))/(len(Fsum)+len(Csum))*100\n",
    "print('\\nAccuracy Possible with Cut of {} on Total Intensity: {}%'.format(cut,Acc))"
   ]
  },
  {
   "cell_type": "markdown",
   "id": "e300d828",
   "metadata": {},
   "source": [
    "angle\n",
    "dE/dx\n",
    "(Length and intensity)\n",
    "probability of secondary recoil (different for different energies)\n",
    "\n",
    "\n",
    "Before histogram of electrons at gem\n",
    "clipping for flourine vs carbon - maybe why overfitting?\n",
    "\n",
    "\n",
    "Explain what each node is - it's not that each node represents 'whether it's orange' - it represents some value and the combination of the values of all nodes means its an orange."
   ]
  },
  {
   "cell_type": "code",
   "execution_count": 46,
   "id": "f43007a2",
   "metadata": {},
   "outputs": [],
   "source": [
    "# from tensorflow.keras.models import Sequential\n",
    "# from tensorflow.keras.layers import Flatten, Dense, Conv2D, MaxPooling2D, LeakyReLU, Dropout\n",
    "\n",
    "\n",
    "# def nr_model():\n",
    "#     nr_model = Sequential([\n",
    "#         Conv2D(8, kernel_size=(3,3), input_shape=(97,97,1)),\n",
    "#         LeakyReLU(alpha=0.01),\n",
    "#         Conv2D(8, kernel_size=(3,3)),\n",
    "#         LeakyReLU(alpha=0.01),\n",
    "#         Flatten(),\n",
    "#         Dense(2, activation='softmax')\n",
    "#     ], name='nr_model')\n",
    "#     return nr_model\n",
    "\n",
    "\n",
    "# model = nr_model()"
   ]
  },
  {
   "cell_type": "code",
   "execution_count": 47,
   "id": "52f5cbf1",
   "metadata": {},
   "outputs": [],
   "source": [
    "from tensorflow.keras.models import Sequential\n",
    "from tensorflow.keras.layers import Flatten, Dense, Conv2D, MaxPooling2D, LeakyReLU, Dropout\n",
    "\n",
    "\n",
    "def nr_model():\n",
    "    nr_model = Sequential([\n",
    "        Conv2D(4, kernel_size=(3,3), input_shape=(97,97,1)),\n",
    "        LeakyReLU(alpha=0.01),\n",
    "        Conv2D(8, kernel_size=(3,3)),\n",
    "        LeakyReLU(alpha=0.01),\n",
    "        Flatten(),\n",
    "        Dense(2, activation='softmax')\n",
    "    ], name='nr_model')\n",
    "    return nr_model\n",
    "\n",
    "\n",
    "model = nr_model()"
   ]
  },
  {
   "cell_type": "code",
   "execution_count": 48,
   "id": "2f152f92",
   "metadata": {},
   "outputs": [
    {
     "data": {
      "text/plain": [
       "(4000, 2)"
      ]
     },
     "execution_count": 48,
     "metadata": {},
     "output_type": "execute_result"
    }
   ],
   "source": [
    "np.shape(test_labels)"
   ]
  },
  {
   "cell_type": "code",
   "execution_count": 49,
   "id": "75fc7220",
   "metadata": {},
   "outputs": [
    {
     "data": {
      "text/plain": [
       "(16000, 2)"
      ]
     },
     "execution_count": 49,
     "metadata": {},
     "output_type": "execute_result"
    }
   ],
   "source": [
    "np.shape(train_labels)"
   ]
  },
  {
   "cell_type": "code",
   "execution_count": 50,
   "id": "cda95b0c",
   "metadata": {},
   "outputs": [
    {
     "data": {
      "text/plain": [
       "(16000, 97, 97)"
      ]
     },
     "execution_count": 50,
     "metadata": {},
     "output_type": "execute_result"
    }
   ],
   "source": [
    "np.shape(train_data)"
   ]
  },
  {
   "cell_type": "code",
   "execution_count": 51,
   "id": "940e9b61",
   "metadata": {},
   "outputs": [
    {
     "data": {
      "text/plain": [
       "(16000, 97, 97, 1)"
      ]
     },
     "execution_count": 51,
     "metadata": {},
     "output_type": "execute_result"
    }
   ],
   "source": [
    "np.shape(np.expand_dims(train_data, axis=-1))"
   ]
  },
  {
   "cell_type": "code",
   "execution_count": 52,
   "id": "3a37e58b",
   "metadata": {},
   "outputs": [
    {
     "name": "stdout",
     "output_type": "stream",
     "text": [
      "Model: \"nr_model\"\n",
      "_________________________________________________________________\n",
      "Layer (type)                 Output Shape              Param #   \n",
      "=================================================================\n",
      "conv2d_2 (Conv2D)            (None, 95, 95, 4)         40        \n",
      "_________________________________________________________________\n",
      "leaky_re_lu_2 (LeakyReLU)    (None, 95, 95, 4)         0         \n",
      "_________________________________________________________________\n",
      "conv2d_3 (Conv2D)            (None, 93, 93, 8)         296       \n",
      "_________________________________________________________________\n",
      "leaky_re_lu_3 (LeakyReLU)    (None, 93, 93, 8)         0         \n",
      "_________________________________________________________________\n",
      "flatten_1 (Flatten)          (None, 69192)             0         \n",
      "_________________________________________________________________\n",
      "dense_1 (Dense)              (None, 2)                 138386    \n",
      "=================================================================\n",
      "Total params: 138,722\n",
      "Trainable params: 138,722\n",
      "Non-trainable params: 0\n",
      "_________________________________________________________________\n"
     ]
    }
   ],
   "source": [
    "model.summary()"
   ]
  },
  {
   "cell_type": "code",
   "execution_count": 53,
   "id": "40ef7d9d",
   "metadata": {},
   "outputs": [
    {
     "name": "stdout",
     "output_type": "stream",
     "text": [
      "<class 'tensorflow.python.framework.ops.EagerTensor'>\n",
      "<class 'tensorflow.python.framework.ops.EagerTensor'>\n",
      "(97, 97, 1)\n",
      "(2,)\n",
      "<class 'tensorflow.python.framework.ops.EagerTensor'>\n",
      "<class 'tensorflow.python.framework.ops.EagerTensor'>\n",
      "(97, 97, 1)\n",
      "(2,)\n"
     ]
    }
   ],
   "source": [
    "#loading the data into tf.data.Dataset objects\n",
    "train_dataset = tf.data.Dataset.from_tensor_slices((np.expand_dims(train_data, axis=-1), train_labels)) \n",
    "test_dataset = tf.data.Dataset.from_tensor_slices((np.expand_dims(test_data, axis=-1), test_labels))\n",
    "train_dataset.element_spec\n",
    "\n",
    "#printing relevant properties\n",
    "for inputs, labels in train_dataset.take(2):\n",
    "    print(type(inputs))\n",
    "    print(type(labels))\n",
    "    print(inputs.shape)\n",
    "    print(labels.shape)"
   ]
  },
  {
   "cell_type": "code",
   "execution_count": 54,
   "id": "5e599d58",
   "metadata": {},
   "outputs": [],
   "source": [
    "#batching the datasets\n",
    "batch_size = 50\n",
    "train_dataset = train_dataset.batch(batch_size)  # drop_remainder=True\n",
    "test_dataset = test_dataset.batch(batch_size)"
   ]
  },
  {
   "cell_type": "code",
   "execution_count": 55,
   "id": "297d666a",
   "metadata": {
    "scrolled": true
   },
   "outputs": [
    {
     "name": "stdout",
     "output_type": "stream",
     "text": [
      "Epoch 1/120\n",
      "320/320 [==============================] - 3s 8ms/step - loss: 0.6879 - accuracy: 0.5452 - val_loss: 0.6757 - val_accuracy: 0.5778\n",
      "Epoch 2/120\n",
      "320/320 [==============================] - 2s 8ms/step - loss: 0.6770 - accuracy: 0.5775 - val_loss: 0.6715 - val_accuracy: 0.5825\n",
      "Epoch 3/120\n",
      "320/320 [==============================] - 2s 7ms/step - loss: 0.6671 - accuracy: 0.5917 - val_loss: 0.6732 - val_accuracy: 0.5885\n",
      "Epoch 4/120\n",
      "320/320 [==============================] - 2s 7ms/step - loss: 0.6564 - accuracy: 0.6054 - val_loss: 0.6709 - val_accuracy: 0.5915\n",
      "Epoch 5/120\n",
      "320/320 [==============================] - 2s 7ms/step - loss: 0.6464 - accuracy: 0.6214 - val_loss: 0.6702 - val_accuracy: 0.5838\n",
      "Epoch 6/120\n",
      "320/320 [==============================] - 2s 7ms/step - loss: 0.6401 - accuracy: 0.6318 - val_loss: 0.6595 - val_accuracy: 0.5985\n",
      "Epoch 7/120\n",
      "320/320 [==============================] - 2s 7ms/step - loss: 0.6261 - accuracy: 0.6401 - val_loss: 0.6534 - val_accuracy: 0.6102\n",
      "Epoch 8/120\n",
      "320/320 [==============================] - 2s 7ms/step - loss: 0.6145 - accuracy: 0.6569 - val_loss: 0.6536 - val_accuracy: 0.6105\n",
      "Epoch 9/120\n",
      "320/320 [==============================] - 2s 8ms/step - loss: 0.6038 - accuracy: 0.6666 - val_loss: 0.6512 - val_accuracy: 0.6140\n",
      "Epoch 10/120\n",
      "320/320 [==============================] - 2s 8ms/step - loss: 0.5932 - accuracy: 0.6802 - val_loss: 0.6462 - val_accuracy: 0.6210\n",
      "Epoch 11/120\n",
      "320/320 [==============================] - 2s 8ms/step - loss: 0.5829 - accuracy: 0.6889 - val_loss: 0.6389 - val_accuracy: 0.6290\n",
      "Epoch 12/120\n",
      "320/320 [==============================] - 2s 8ms/step - loss: 0.5726 - accuracy: 0.7000 - val_loss: 0.6302 - val_accuracy: 0.6403\n",
      "Epoch 13/120\n",
      "320/320 [==============================] - 2s 8ms/step - loss: 0.5627 - accuracy: 0.7062 - val_loss: 0.6232 - val_accuracy: 0.6495\n",
      "Epoch 14/120\n",
      "320/320 [==============================] - 2s 8ms/step - loss: 0.5525 - accuracy: 0.7156 - val_loss: 0.6176 - val_accuracy: 0.6575\n",
      "Epoch 15/120\n",
      "320/320 [==============================] - 2s 8ms/step - loss: 0.5430 - accuracy: 0.7240 - val_loss: 0.6112 - val_accuracy: 0.6655\n",
      "Epoch 16/120\n",
      "320/320 [==============================] - 2s 8ms/step - loss: 0.5332 - accuracy: 0.7325 - val_loss: 0.6041 - val_accuracy: 0.6752\n",
      "Epoch 17/120\n",
      "320/320 [==============================] - 2s 8ms/step - loss: 0.5238 - accuracy: 0.7375 - val_loss: 0.5946 - val_accuracy: 0.6902\n",
      "Epoch 18/120\n",
      "320/320 [==============================] - 2s 8ms/step - loss: 0.5127 - accuracy: 0.7494 - val_loss: 0.5858 - val_accuracy: 0.6975\n",
      "Epoch 19/120\n",
      "320/320 [==============================] - 2s 8ms/step - loss: 0.5027 - accuracy: 0.7591 - val_loss: 0.5801 - val_accuracy: 0.7038\n",
      "Epoch 20/120\n",
      "320/320 [==============================] - 2s 8ms/step - loss: 0.4928 - accuracy: 0.7667 - val_loss: 0.5692 - val_accuracy: 0.7160\n",
      "Epoch 21/120\n",
      "320/320 [==============================] - 2s 8ms/step - loss: 0.4811 - accuracy: 0.7755 - val_loss: 0.5565 - val_accuracy: 0.7278\n",
      "Epoch 22/120\n",
      "320/320 [==============================] - 2s 7ms/step - loss: 0.4708 - accuracy: 0.7837 - val_loss: 0.5560 - val_accuracy: 0.7325\n",
      "Epoch 23/120\n",
      "320/320 [==============================] - 2s 8ms/step - loss: 0.4609 - accuracy: 0.7927 - val_loss: 0.5366 - val_accuracy: 0.7485\n",
      "Epoch 24/120\n",
      "320/320 [==============================] - 2s 8ms/step - loss: 0.4476 - accuracy: 0.8046 - val_loss: 0.5233 - val_accuracy: 0.7588\n",
      "Epoch 25/120\n",
      "320/320 [==============================] - 2s 7ms/step - loss: 0.4357 - accuracy: 0.8157 - val_loss: 0.5172 - val_accuracy: 0.7565\n",
      "Epoch 26/120\n",
      "320/320 [==============================] - 2s 7ms/step - loss: 0.4507 - accuracy: 0.7946 - val_loss: 0.5153 - val_accuracy: 0.7665\n",
      "Epoch 27/120\n",
      "320/320 [==============================] - 2s 8ms/step - loss: 0.4149 - accuracy: 0.8307 - val_loss: 0.4930 - val_accuracy: 0.7853\n",
      "Epoch 28/120\n",
      "320/320 [==============================] - 2s 8ms/step - loss: 0.4011 - accuracy: 0.8429 - val_loss: 0.4856 - val_accuracy: 0.7845\n",
      "Epoch 29/120\n",
      "320/320 [==============================] - 2s 8ms/step - loss: 0.3901 - accuracy: 0.8491 - val_loss: 0.4704 - val_accuracy: 0.8000\n",
      "Epoch 30/120\n",
      "320/320 [==============================] - 2s 8ms/step - loss: 0.3748 - accuracy: 0.8602 - val_loss: 0.4519 - val_accuracy: 0.8135\n",
      "Epoch 31/120\n",
      "320/320 [==============================] - 2s 8ms/step - loss: 0.3644 - accuracy: 0.8659 - val_loss: 0.4407 - val_accuracy: 0.8195\n",
      "Epoch 32/120\n",
      "320/320 [==============================] - 2s 7ms/step - loss: 0.3496 - accuracy: 0.8765 - val_loss: 0.4277 - val_accuracy: 0.8273\n",
      "Epoch 33/120\n",
      "320/320 [==============================] - 2s 7ms/step - loss: 0.3704 - accuracy: 0.8571 - val_loss: 0.4546 - val_accuracy: 0.7977\n",
      "Epoch 34/120\n",
      "320/320 [==============================] - 2s 7ms/step - loss: 0.3431 - accuracy: 0.8754 - val_loss: 0.4142 - val_accuracy: 0.8375\n",
      "Epoch 35/120\n",
      "320/320 [==============================] - 2s 8ms/step - loss: 0.3243 - accuracy: 0.8876 - val_loss: 0.4000 - val_accuracy: 0.8450\n",
      "Epoch 36/120\n",
      "320/320 [==============================] - 2s 8ms/step - loss: 0.3108 - accuracy: 0.8960 - val_loss: 0.3819 - val_accuracy: 0.8597\n",
      "Epoch 37/120\n",
      "320/320 [==============================] - 2s 8ms/step - loss: 0.2927 - accuracy: 0.9098 - val_loss: 0.3676 - val_accuracy: 0.8662\n",
      "Epoch 38/120\n",
      "320/320 [==============================] - 2s 8ms/step - loss: 0.2828 - accuracy: 0.9156 - val_loss: 0.3574 - val_accuracy: 0.8735\n",
      "Epoch 39/120\n",
      "320/320 [==============================] - 2s 7ms/step - loss: 0.2683 - accuracy: 0.9241 - val_loss: 0.4025 - val_accuracy: 0.8248\n",
      "Epoch 40/120\n",
      "320/320 [==============================] - 2s 8ms/step - loss: 0.2776 - accuracy: 0.9124 - val_loss: 0.3754 - val_accuracy: 0.8395\n",
      "Epoch 41/120\n",
      "320/320 [==============================] - 2s 8ms/step - loss: 0.2491 - accuracy: 0.9304 - val_loss: 0.3620 - val_accuracy: 0.8462\n",
      "Epoch 42/120\n",
      "320/320 [==============================] - 2s 8ms/step - loss: 0.2362 - accuracy: 0.9376 - val_loss: 0.3417 - val_accuracy: 0.8627\n",
      "Epoch 43/120\n",
      "320/320 [==============================] - 2s 8ms/step - loss: 0.2208 - accuracy: 0.9476 - val_loss: 0.2956 - val_accuracy: 0.9038\n",
      "Epoch 44/120\n",
      "320/320 [==============================] - 2s 8ms/step - loss: 0.3104 - accuracy: 0.9098 - val_loss: 0.4071 - val_accuracy: 0.8270\n",
      "Epoch 45/120\n",
      "320/320 [==============================] - 2s 8ms/step - loss: 0.2716 - accuracy: 0.8994 - val_loss: 0.3504 - val_accuracy: 0.8565\n",
      "Epoch 46/120\n",
      "320/320 [==============================] - 2s 8ms/step - loss: 0.2277 - accuracy: 0.9358 - val_loss: 0.3089 - val_accuracy: 0.8880\n",
      "Epoch 47/120\n",
      "320/320 [==============================] - 2s 8ms/step - loss: 0.1979 - accuracy: 0.9537 - val_loss: 0.2766 - val_accuracy: 0.9103\n",
      "Epoch 48/120\n",
      "320/320 [==============================] - 2s 7ms/step - loss: 0.1819 - accuracy: 0.9605 - val_loss: 0.2697 - val_accuracy: 0.9068\n",
      "Epoch 49/120\n",
      "320/320 [==============================] - 2s 8ms/step - loss: 0.1707 - accuracy: 0.9631 - val_loss: 0.2566 - val_accuracy: 0.9128\n",
      "Epoch 50/120\n",
      "320/320 [==============================] - 2s 8ms/step - loss: 0.1572 - accuracy: 0.9677 - val_loss: 0.2473 - val_accuracy: 0.9165\n",
      "Epoch 51/120\n",
      "320/320 [==============================] - 2s 8ms/step - loss: 0.1485 - accuracy: 0.9705 - val_loss: 0.2392 - val_accuracy: 0.9205\n",
      "Epoch 52/120\n",
      "320/320 [==============================] - 2s 8ms/step - loss: 0.1419 - accuracy: 0.9725 - val_loss: 0.2313 - val_accuracy: 0.9220\n",
      "Epoch 53/120\n",
      "320/320 [==============================] - 2s 8ms/step - loss: 0.1347 - accuracy: 0.9742 - val_loss: 0.2212 - val_accuracy: 0.9273\n",
      "Epoch 54/120\n",
      "320/320 [==============================] - 2s 7ms/step - loss: 0.1282 - accuracy: 0.9754 - val_loss: 0.2131 - val_accuracy: 0.9312\n",
      "Epoch 55/120\n",
      "320/320 [==============================] - 2s 8ms/step - loss: 0.1239 - accuracy: 0.9755 - val_loss: 0.2029 - val_accuracy: 0.9345\n",
      "Epoch 56/120\n",
      "320/320 [==============================] - 2s 8ms/step - loss: 0.1565 - accuracy: 0.9592 - val_loss: 0.2914 - val_accuracy: 0.8830\n",
      "Epoch 57/120\n",
      "320/320 [==============================] - 2s 7ms/step - loss: 0.1619 - accuracy: 0.9537 - val_loss: 0.2114 - val_accuracy: 0.9348\n"
     ]
    },
    {
     "name": "stdout",
     "output_type": "stream",
     "text": [
      "Epoch 58/120\n",
      "320/320 [==============================] - 2s 7ms/step - loss: 0.1324 - accuracy: 0.9742 - val_loss: 0.1973 - val_accuracy: 0.9408\n",
      "Epoch 59/120\n",
      "320/320 [==============================] - 2s 7ms/step - loss: 0.1209 - accuracy: 0.9773 - val_loss: 0.1895 - val_accuracy: 0.9433\n",
      "Epoch 60/120\n",
      "320/320 [==============================] - 2s 7ms/step - loss: 0.1122 - accuracy: 0.9797 - val_loss: 0.1912 - val_accuracy: 0.9373\n",
      "Epoch 61/120\n",
      "320/320 [==============================] - 2s 7ms/step - loss: 0.0996 - accuracy: 0.9846 - val_loss: 0.1792 - val_accuracy: 0.9430\n",
      "Epoch 62/120\n",
      "320/320 [==============================] - 2s 7ms/step - loss: 0.0958 - accuracy: 0.9851 - val_loss: 0.1729 - val_accuracy: 0.9460\n",
      "Epoch 63/120\n",
      "320/320 [==============================] - 2s 7ms/step - loss: 0.0924 - accuracy: 0.9850 - val_loss: 0.1725 - val_accuracy: 0.9445\n",
      "Epoch 64/120\n",
      "320/320 [==============================] - 2s 7ms/step - loss: 0.0945 - accuracy: 0.9820 - val_loss: 0.1552 - val_accuracy: 0.9532\n",
      "Epoch 65/120\n",
      "320/320 [==============================] - 2s 7ms/step - loss: 0.0836 - accuracy: 0.9867 - val_loss: 0.1737 - val_accuracy: 0.9405\n",
      "Epoch 66/120\n",
      "320/320 [==============================] - 2s 7ms/step - loss: 0.0814 - accuracy: 0.9873 - val_loss: 0.1716 - val_accuracy: 0.9420\n",
      "Epoch 67/120\n",
      "320/320 [==============================] - 2s 7ms/step - loss: 0.1440 - accuracy: 0.9553 - val_loss: 0.2042 - val_accuracy: 0.9285\n",
      "Epoch 68/120\n",
      "320/320 [==============================] - 2s 7ms/step - loss: 0.1145 - accuracy: 0.9703 - val_loss: 0.1690 - val_accuracy: 0.9495\n",
      "Epoch 69/120\n",
      "320/320 [==============================] - 2s 7ms/step - loss: 0.1043 - accuracy: 0.9755 - val_loss: 0.2002 - val_accuracy: 0.9265\n",
      "Epoch 70/120\n",
      "320/320 [==============================] - 2s 7ms/step - loss: 0.0937 - accuracy: 0.9807 - val_loss: 0.1593 - val_accuracy: 0.9455\n",
      "Epoch 71/120\n",
      "320/320 [==============================] - 2s 7ms/step - loss: 0.0795 - accuracy: 0.9855 - val_loss: 0.1616 - val_accuracy: 0.9452\n",
      "Epoch 72/120\n",
      "320/320 [==============================] - 2s 7ms/step - loss: 0.0780 - accuracy: 0.9857 - val_loss: 0.1607 - val_accuracy: 0.9452\n",
      "Epoch 73/120\n",
      "320/320 [==============================] - 2s 7ms/step - loss: 0.0746 - accuracy: 0.9871 - val_loss: 0.1535 - val_accuracy: 0.9495\n",
      "Epoch 74/120\n",
      "320/320 [==============================] - 2s 7ms/step - loss: 0.0712 - accuracy: 0.9882 - val_loss: 0.1589 - val_accuracy: 0.9445\n",
      "Epoch 75/120\n",
      "320/320 [==============================] - 2s 7ms/step - loss: 0.0690 - accuracy: 0.9892 - val_loss: 0.1615 - val_accuracy: 0.9433\n",
      "Epoch 76/120\n",
      "320/320 [==============================] - 2s 7ms/step - loss: 0.0667 - accuracy: 0.9897 - val_loss: 0.1615 - val_accuracy: 0.9435\n",
      "Epoch 77/120\n",
      "320/320 [==============================] - 2s 7ms/step - loss: 0.0640 - accuracy: 0.9901 - val_loss: 0.1618 - val_accuracy: 0.9433\n",
      "Epoch 78/120\n",
      "320/320 [==============================] - 2s 7ms/step - loss: 0.0619 - accuracy: 0.9912 - val_loss: 0.1451 - val_accuracy: 0.9517\n",
      "Epoch 79/120\n",
      "320/320 [==============================] - 2s 8ms/step - loss: 0.0602 - accuracy: 0.9903 - val_loss: 0.1528 - val_accuracy: 0.9455\n",
      "Epoch 80/120\n",
      "320/320 [==============================] - 2s 8ms/step - loss: 0.0580 - accuracy: 0.9912 - val_loss: 0.1593 - val_accuracy: 0.9438\n",
      "Epoch 81/120\n",
      "320/320 [==============================] - 2s 8ms/step - loss: 0.0574 - accuracy: 0.9911 - val_loss: 0.1642 - val_accuracy: 0.9420\n",
      "Epoch 82/120\n",
      "320/320 [==============================] - 2s 8ms/step - loss: 0.0564 - accuracy: 0.9909 - val_loss: 0.1665 - val_accuracy: 0.9405\n",
      "Epoch 83/120\n",
      "320/320 [==============================] - 2s 7ms/step - loss: 0.0559 - accuracy: 0.9909 - val_loss: 0.1616 - val_accuracy: 0.9420\n",
      "Epoch 84/120\n",
      "320/320 [==============================] - 2s 8ms/step - loss: 0.0563 - accuracy: 0.9903 - val_loss: 0.1476 - val_accuracy: 0.9520\n",
      "Epoch 85/120\n",
      "320/320 [==============================] - 2s 8ms/step - loss: 0.0579 - accuracy: 0.9893 - val_loss: 0.2002 - val_accuracy: 0.9235\n",
      "Epoch 86/120\n",
      "320/320 [==============================] - 2s 8ms/step - loss: 0.0664 - accuracy: 0.9840 - val_loss: 0.1354 - val_accuracy: 0.9567\n",
      "Epoch 87/120\n",
      "320/320 [==============================] - 2s 8ms/step - loss: 0.1529 - accuracy: 0.9606 - val_loss: 0.1674 - val_accuracy: 0.9425\n",
      "Epoch 88/120\n",
      "320/320 [==============================] - 2s 8ms/step - loss: 0.0923 - accuracy: 0.9710 - val_loss: 0.1516 - val_accuracy: 0.9482\n",
      "Epoch 89/120\n",
      "320/320 [==============================] - 2s 8ms/step - loss: 0.0743 - accuracy: 0.9795 - val_loss: 0.1656 - val_accuracy: 0.9408\n",
      "Epoch 90/120\n",
      "320/320 [==============================] - 2s 7ms/step - loss: 0.0571 - accuracy: 0.9901 - val_loss: 0.1549 - val_accuracy: 0.9430\n",
      "Epoch 91/120\n",
      "320/320 [==============================] - 2s 7ms/step - loss: 0.0545 - accuracy: 0.9901 - val_loss: 0.1286 - val_accuracy: 0.9578\n",
      "Epoch 92/120\n",
      "320/320 [==============================] - 2s 8ms/step - loss: 0.0579 - accuracy: 0.9870 - val_loss: 0.1305 - val_accuracy: 0.9550\n",
      "Epoch 93/120\n",
      "320/320 [==============================] - 2s 8ms/step - loss: 0.0552 - accuracy: 0.9882 - val_loss: 0.1310 - val_accuracy: 0.9545\n",
      "Epoch 94/120\n",
      "320/320 [==============================] - 2s 8ms/step - loss: 0.0544 - accuracy: 0.9882 - val_loss: 0.1469 - val_accuracy: 0.9480\n",
      "Epoch 95/120\n",
      "320/320 [==============================] - 2s 8ms/step - loss: 0.0528 - accuracy: 0.9892 - val_loss: 0.1666 - val_accuracy: 0.9392\n",
      "Epoch 96/120\n",
      "320/320 [==============================] - 2s 8ms/step - loss: 0.0503 - accuracy: 0.9898 - val_loss: 0.1779 - val_accuracy: 0.9330\n",
      "Epoch 97/120\n",
      "320/320 [==============================] - 2s 8ms/step - loss: 0.0476 - accuracy: 0.9918 - val_loss: 0.1726 - val_accuracy: 0.9345\n",
      "Epoch 98/120\n",
      "320/320 [==============================] - 2s 7ms/step - loss: 0.0451 - accuracy: 0.9925 - val_loss: 0.1659 - val_accuracy: 0.9392\n",
      "Epoch 99/120\n",
      "320/320 [==============================] - 2s 8ms/step - loss: 0.0443 - accuracy: 0.9931 - val_loss: 0.1663 - val_accuracy: 0.9392\n",
      "Epoch 100/120\n",
      "320/320 [==============================] - 2s 8ms/step - loss: 0.0445 - accuracy: 0.9926 - val_loss: 0.1608 - val_accuracy: 0.9420\n",
      "Epoch 101/120\n",
      "320/320 [==============================] - 2s 7ms/step - loss: 0.0450 - accuracy: 0.9922 - val_loss: 0.1617 - val_accuracy: 0.9417\n",
      "Epoch 102/120\n",
      "320/320 [==============================] - 2s 8ms/step - loss: 0.0457 - accuracy: 0.9912 - val_loss: 0.1651 - val_accuracy: 0.9395\n",
      "Epoch 103/120\n",
      "320/320 [==============================] - 2s 7ms/step - loss: 0.0504 - accuracy: 0.9885 - val_loss: 0.2068 - val_accuracy: 0.9225\n",
      "Epoch 104/120\n",
      "320/320 [==============================] - 2s 7ms/step - loss: 0.0609 - accuracy: 0.9817 - val_loss: 0.1991 - val_accuracy: 0.9245\n",
      "Epoch 105/120\n",
      "320/320 [==============================] - 2s 7ms/step - loss: 0.0484 - accuracy: 0.9895 - val_loss: 0.2432 - val_accuracy: 0.9045\n",
      "Epoch 106/120\n",
      "320/320 [==============================] - 2s 8ms/step - loss: 0.0476 - accuracy: 0.9902 - val_loss: 0.1779 - val_accuracy: 0.9342\n",
      "Epoch 107/120\n",
      "320/320 [==============================] - 2s 8ms/step - loss: 0.0433 - accuracy: 0.9914 - val_loss: 0.1353 - val_accuracy: 0.9498\n",
      "Epoch 108/120\n",
      "320/320 [==============================] - 2s 8ms/step - loss: 0.0409 - accuracy: 0.9926 - val_loss: 0.1392 - val_accuracy: 0.9473\n",
      "Epoch 109/120\n",
      "320/320 [==============================] - 2s 8ms/step - loss: 0.0396 - accuracy: 0.9928 - val_loss: 0.1307 - val_accuracy: 0.9530\n",
      "Epoch 110/120\n",
      "320/320 [==============================] - 2s 7ms/step - loss: 0.0402 - accuracy: 0.9925 - val_loss: 0.1298 - val_accuracy: 0.9540\n",
      "Epoch 111/120\n",
      "320/320 [==============================] - 2s 7ms/step - loss: 0.0404 - accuracy: 0.9921 - val_loss: 0.2606 - val_accuracy: 0.8950\n",
      "Epoch 112/120\n",
      "320/320 [==============================] - 2s 7ms/step - loss: 0.0801 - accuracy: 0.9888 - val_loss: 0.6012 - val_accuracy: 0.8180\n",
      "Epoch 113/120\n",
      "320/320 [==============================] - 2s 7ms/step - loss: 0.2926 - accuracy: 0.8895 - val_loss: 0.2441 - val_accuracy: 0.9130\n",
      "Epoch 114/120\n",
      "320/320 [==============================] - 2s 7ms/step - loss: 0.1356 - accuracy: 0.9467 - val_loss: 0.2077 - val_accuracy: 0.9285\n"
     ]
    },
    {
     "name": "stdout",
     "output_type": "stream",
     "text": [
      "Epoch 115/120\n",
      "320/320 [==============================] - 2s 7ms/step - loss: 0.0959 - accuracy: 0.9687 - val_loss: 0.1925 - val_accuracy: 0.9283\n",
      "Epoch 116/120\n",
      "320/320 [==============================] - 2s 7ms/step - loss: 0.0763 - accuracy: 0.9778 - val_loss: 0.1887 - val_accuracy: 0.9305\n",
      "Epoch 117/120\n",
      "320/320 [==============================] - 2s 7ms/step - loss: 0.0693 - accuracy: 0.9823 - val_loss: 0.1937 - val_accuracy: 0.9285\n",
      "Epoch 118/120\n",
      "320/320 [==============================] - 2s 8ms/step - loss: 0.0621 - accuracy: 0.9861 - val_loss: 0.2000 - val_accuracy: 0.9285\n",
      "Epoch 119/120\n",
      "320/320 [==============================] - 2s 7ms/step - loss: 0.0554 - accuracy: 0.9887 - val_loss: 0.2043 - val_accuracy: 0.9250\n",
      "Epoch 120/120\n",
      "320/320 [==============================] - 2s 7ms/step - loss: 0.0491 - accuracy: 0.9919 - val_loss: 0.2011 - val_accuracy: 0.9247\n"
     ]
    }
   ],
   "source": [
    "#compiling and fitting the model\n",
    "sgd = tf.keras.optimizers.Adam(learning_rate=0.001)\n",
    "loss_fn = tf.keras.losses.CategoricalCrossentropy()\n",
    "\n",
    "model.compile(optimizer=sgd, loss=loss_fn, metrics=['accuracy'])\n",
    "history = model.fit(train_dataset, epochs=120, validation_data=test_dataset)"
   ]
  },
  {
   "cell_type": "code",
   "execution_count": 56,
   "id": "51785bf1",
   "metadata": {
    "scrolled": true
   },
   "outputs": [
    {
     "data": {
      "image/png": "[encoded data removed]",
      "text/plain": [
       "<Figure size 1080x360 with 2 Axes>"
      ]
     },
     "metadata": {
      "needs_background": "light"
     },
     "output_type": "display_data"
    }
   ],
   "source": [
    "#plotting loss function and accuracy for training and test sets over all epochs\n",
    "fig, (ax1, ax2) = plt.subplots(1,2,figsize=(15,5))\n",
    "ax1.plot(history.history['loss'],c='b'),ax1.plot(history.history['val_loss'],c='r')\n",
    "ax1.set_title('CNN Loss over 120 Epochs for C130keV and \\n F170keV Classification with Standardised Intensities')\n",
    "ax1.set_ylabel('Loss'),ax1.set_xlabel('Epoch'),ax1.legend(['Training Set', 'Test Set'], loc='best');\n",
    "ax2.plot(history.history['accuracy'],c='b'),ax2.plot(history.history['val_accuracy'],c='r')\n",
    "ax2.set_title('CNN Accuracy over 120 Epochs for C130keV and \\n F170keV Classification with Standardised Intensities')\n",
    "ax2.set_ylabel('Accuracy'),ax2.set_xlabel('Epoch'),ax2.legend(['Training Set', 'Test Set'], loc='best');"
   ]
  },
  {
   "cell_type": "code",
   "execution_count": 57,
   "id": "fabf65aa",
   "metadata": {},
   "outputs": [],
   "source": [
    "np.save('Figure_Data/fig1_acc2.npy', history.history['accuracy'])\n",
    "np.save('Figure_Data/fig1_valacc2.npy', history.history['val_accuracy'])"
   ]
  },
  {
   "cell_type": "code",
   "execution_count": 58,
   "id": "281aec2b",
   "metadata": {},
   "outputs": [
    {
     "data": {
      "image/png": "[encoded data removed]",
      "text/plain": [
       "<Figure size 432x720 with 1 Axes>"
      ]
     },
     "metadata": {
      "needs_background": "light"
     },
     "output_type": "display_data"
    }
   ],
   "source": [
    "image = train_data[43]\n",
    "\n",
    "#initial plotting of chosen image\n",
    "plt.figure(figsize=(6, 10))\n",
    "plt.imshow(image,cmap='Greys')\n",
    "plt.axis('off')\n",
    "plt.show()"
   ]
  },
  {
   "cell_type": "code",
   "execution_count": 68,
   "id": "0ea6deb4",
   "metadata": {},
   "outputs": [],
   "source": [
    "from tensorflow.keras.models import Model\n",
    "\n",
    "#Model and model are different\n",
    "#getting model inputs, layer names, outputs for visualisation\n",
    "inputs = model.inputs\n",
    "layer_names = [layer.name for layer in model.layers]\n",
    "outputs = [model.get_layer(layer_name).output for layer_name in layer_names]\n",
    "#creating model for extracting features\n",
    "model_features = Model(inputs=inputs, outputs=outputs)"
   ]
  },
  {
   "cell_type": "code",
   "execution_count": 69,
   "id": "9515ca11",
   "metadata": {},
   "outputs": [],
   "source": [
    "#testing model_features\n",
    "model_features.inputs\n",
    "model_features.outputs;"
   ]
  },
  {
   "cell_type": "code",
   "execution_count": 70,
   "id": "c9b52b71",
   "metadata": {},
   "outputs": [],
   "source": [
    "#re-shaping image and passing through new model to output features\n",
    "input = image.reshape((1,) + image.shape)\n",
    "features = model_features.predict(input)"
   ]
  },
  {
   "cell_type": "code",
   "execution_count": 71,
   "id": "950c0a4b",
   "metadata": {},
   "outputs": [
    {
     "data": {
      "text/plain": [
       "6"
      ]
     },
     "execution_count": 71,
     "metadata": {},
     "output_type": "execute_result"
    }
   ],
   "source": [
    "#the length of features should match the number of layers\n",
    "len(features)"
   ]
  },
  {
   "cell_type": "code",
   "execution_count": 72,
   "id": "2cefeb84",
   "metadata": {},
   "outputs": [
    {
     "name": "stdout",
     "output_type": "stream",
     "text": [
      "The shape of the conv2d_2 is: (1, 95, 95, 4)\n",
      "The shape of the leaky_re_lu_2 is: (1, 95, 95, 4)\n",
      "The shape of the conv2d_3 is: (1, 93, 93, 8)\n",
      "The shape of the leaky_re_lu_3 is: (1, 93, 93, 8)\n",
      "The shape of the flatten_1 is: (1, 69192)\n",
      "The shape of the dense_1 is: (1, 2)\n"
     ]
    }
   ],
   "source": [
    "#printing all layers from CNN\n",
    "for layer_name, feature_map in zip(layer_names, features):\n",
    "    print(f\"The shape of the {layer_name} is: {feature_map.shape}\")"
   ]
  },
  {
   "cell_type": "code",
   "execution_count": 73,
   "id": "40164f6d",
   "metadata": {},
   "outputs": [],
   "source": [
    "#selecting features from convolutional layers\n",
    "conv_features = features[0], features[2]"
   ]
  },
  {
   "cell_type": "code",
   "execution_count": 74,
   "id": "1b84410a",
   "metadata": {
    "scrolled": false
   },
   "outputs": [
    {
     "data": {
      "image/png": "[encoded data removed]",
      "text/plain": [
       "<Figure size 1296x360 with 3 Axes>"
      ]
     },
     "metadata": {
      "needs_background": "light"
     },
     "output_type": "display_data"
    }
   ],
   "source": [
    "#plotting features from convolutional layers, along with layer names\n",
    "fig, axs = plt.subplots(1,3, figsize=(18,5))\n",
    "fig.subplots_adjust(top=0.89)\n",
    "fig.suptitle('Visualisation of feature map 4')\n",
    "axs[0].imshow(image)\n",
    "axs[0].set_title('input image')\n",
    "for i in range(len(conv_features)):\n",
    "      feature_map = conv_features[i]\n",
    "      axs[i+1].imshow(feature_map[0, ..., 3])\n",
    "      axs[i+1].set_title(layer_names[i*2]);"
   ]
  },
  {
   "cell_type": "code",
   "execution_count": 87,
   "id": "d083ced9",
   "metadata": {},
   "outputs": [
    {
     "data": {
      "text/plain": [
       "1"
      ]
     },
     "execution_count": 87,
     "metadata": {},
     "output_type": "execute_result"
    }
   ],
   "source": [
    "len(conv_features[0])"
   ]
  },
  {
   "cell_type": "code",
   "execution_count": 92,
   "id": "ec4a3e1e",
   "metadata": {},
   "outputs": [
    {
     "data": {
      "text/plain": [
       "<matplotlib.image.AxesImage at 0x7f014ec01850>"
      ]
     },
     "execution_count": 92,
     "metadata": {},
     "output_type": "execute_result"
    },
    {
     "data": {
      "image/png": "[encoded data removed]",
      "text/plain": [
       "<Figure size 432x288 with 1 Axes>"
      ]
     },
     "metadata": {
      "needs_background": "light"
     },
     "output_type": "display_data"
    }
   ],
   "source": [
    "plt.imshow(conv_features[0][0, ..., 3])"
   ]
  },
  {
   "cell_type": "code",
   "execution_count": 93,
   "id": "cc10cf67",
   "metadata": {},
   "outputs": [
    {
     "data": {
      "text/plain": [
       "<matplotlib.image.AxesImage at 0x7f014ebcfc40>"
      ]
     },
     "execution_count": 93,
     "metadata": {},
     "output_type": "execute_result"
    },
    {
     "data": {
      "image/png": "[encoded data removed]",
      "text/plain": [
       "<Figure size 432x288 with 1 Axes>"
      ]
     },
     "metadata": {
      "needs_background": "light"
     },
     "output_type": "display_data"
    }
   ],
   "source": [
    "plt.imshow(conv_features[1][0, ..., 3])"
   ]
  },
  {
   "cell_type": "code",
   "execution_count": 94,
   "id": "212ba0b6",
   "metadata": {},
   "outputs": [],
   "source": [
    "np.save('Figure_Data/fig0_img.npy', image)\n",
    "np.save('Figure_Data/fig0_featuremap1.npy', conv_features[0])\n",
    "np.save('Figure_Data/fig0_featuremap2.npy', conv_features[1])"
   ]
  },
  {
   "cell_type": "code",
   "execution_count": 66,
   "id": "352ce1db",
   "metadata": {},
   "outputs": [
    {
     "data": {
      "image/png": "[encoded data removed]",
      "text/plain": [
       "<Figure size 864x864 with 1 Axes>"
      ]
     },
     "metadata": {
      "needs_background": "light"
     },
     "output_type": "display_data"
    }
   ],
   "source": [
    "plt.figure(figsize=(12,12))\n",
    "plt.matshow(F170_dat[135],fignum=1);"
   ]
  },
  {
   "cell_type": "code",
   "execution_count": 67,
   "id": "7b9ba4b6",
   "metadata": {},
   "outputs": [
    {
     "data": {
      "image/png": "[encoded data removed]",
      "text/plain": [
       "<Figure size 720x720 with 1 Axes>"
      ]
     },
     "metadata": {
      "needs_background": "light"
     },
     "output_type": "display_data"
    }
   ],
   "source": [
    "plt.figure(figsize=(10,10))\n",
    "plt.matshow(F170_dat[17],fignum=1);"
   ]
  },
  {
   "cell_type": "markdown",
   "id": "0b8e1be4",
   "metadata": {},
   "source": [
    "## Doing both same energy again"
   ]
  },
  {
   "cell_type": "code",
   "execution_count": 77,
   "id": "6bf0bb57",
   "metadata": {},
   "outputs": [],
   "source": [
    "from sklearn.model_selection import train_test_split\n",
    "import tensorflow as tf\n",
    "from sklearn.utils import shuffle"
   ]
  },
  {
   "cell_type": "code",
   "execution_count": 78,
   "id": "1b8a5471",
   "metadata": {},
   "outputs": [],
   "source": [
    "C170_dat, F170_dat = np.load('data_old/C_170keV.npy'), np.load('data_old/F_170keV.npy')"
   ]
  },
  {
   "cell_type": "code",
   "execution_count": 79,
   "id": "951695b7",
   "metadata": {},
   "outputs": [],
   "source": [
    "data, labels = [],[]\n",
    "Csum, Fsum = [],[]\n",
    "\n",
    "for i in range(len(C170_dat)):\n",
    "    data.append(C170_dat[i])\n",
    "    labels.append([1,0])\n",
    "    Csum.append(np.sum(C170_dat[i]))\n",
    "\n",
    "for i in range(len(F170_dat)):\n",
    "    data.append(F170_dat[i])\n",
    "    labels.append([0,1])\n",
    "    Fsum.append(np.sum(F170_dat[i]))"
   ]
  },
  {
   "cell_type": "code",
   "execution_count": 80,
   "id": "0bc7ea5d",
   "metadata": {},
   "outputs": [],
   "source": [
    "data -= np.mean(data)\n",
    "data/=np.std(data)"
   ]
  },
  {
   "cell_type": "code",
   "execution_count": 81,
   "id": "6e2cc1db",
   "metadata": {},
   "outputs": [],
   "source": [
    "train_data, test_data, train_labels, test_labels = train_test_split(data, labels, test_size=0.3, random_state=42)"
   ]
  },
  {
   "cell_type": "code",
   "execution_count": 82,
   "id": "4d368b78",
   "metadata": {},
   "outputs": [],
   "source": [
    "from tensorflow.keras.models import Sequential\n",
    "from tensorflow.keras.layers import Flatten, Dense, Conv2D, MaxPooling2D, LeakyReLU, Dropout\n",
    "\n",
    "\n",
    "def nr_model():\n",
    "    nr_model = Sequential([\n",
    "        Conv2D(2, kernel_size=(3,3), input_shape=(97,97,1), activation='relu'),\n",
    "        Flatten(),\n",
    "        Dense(2, activation='softmax')\n",
    "    ], name='nr_model')\n",
    "    return nr_model\n",
    "\n",
    "\n",
    "model = nr_model()"
   ]
  },
  {
   "cell_type": "code",
   "execution_count": 83,
   "id": "c34fd0bd",
   "metadata": {},
   "outputs": [
    {
     "name": "stdout",
     "output_type": "stream",
     "text": [
      "Model: \"nr_model\"\n",
      "_________________________________________________________________\n",
      "Layer (type)                 Output Shape              Param #   \n",
      "=================================================================\n",
      "conv2d_5 (Conv2D)            (None, 95, 95, 2)         20        \n",
      "_________________________________________________________________\n",
      "flatten_5 (Flatten)          (None, 18050)             0         \n",
      "_________________________________________________________________\n",
      "dense_6 (Dense)              (None, 2)                 36102     \n",
      "=================================================================\n",
      "Total params: 36,122\n",
      "Trainable params: 36,122\n",
      "Non-trainable params: 0\n",
      "_________________________________________________________________\n"
     ]
    }
   ],
   "source": [
    "model.summary()"
   ]
  },
  {
   "cell_type": "code",
   "execution_count": 84,
   "id": "20ed2f04",
   "metadata": {},
   "outputs": [
    {
     "name": "stdout",
     "output_type": "stream",
     "text": [
      "<class 'tensorflow.python.framework.ops.EagerTensor'>\n",
      "<class 'tensorflow.python.framework.ops.EagerTensor'>\n",
      "(97, 97, 1)\n",
      "(2,)\n",
      "<class 'tensorflow.python.framework.ops.EagerTensor'>\n",
      "<class 'tensorflow.python.framework.ops.EagerTensor'>\n",
      "(97, 97, 1)\n",
      "(2,)\n"
     ]
    }
   ],
   "source": [
    "#loading the data into tf.data.Dataset objects\n",
    "train_dataset = tf.data.Dataset.from_tensor_slices((np.expand_dims(train_data, axis=-1), train_labels)) \n",
    "test_dataset = tf.data.Dataset.from_tensor_slices((np.expand_dims(test_data, axis=-1), test_labels))\n",
    "train_dataset.element_spec\n",
    "\n",
    "#printing relevant properties\n",
    "for inputs, labels in train_dataset.take(2):\n",
    "    print(type(inputs))\n",
    "    print(type(labels))\n",
    "    print(inputs.shape)\n",
    "    print(labels.shape)"
   ]
  },
  {
   "cell_type": "code",
   "execution_count": 85,
   "id": "f68becbd",
   "metadata": {},
   "outputs": [],
   "source": [
    "#batching the datasets\n",
    "batch_size = 50\n",
    "train_dataset = train_dataset.batch(batch_size)  # drop_remainder=True\n",
    "test_dataset = test_dataset.batch(batch_size)"
   ]
  },
  {
   "cell_type": "code",
   "execution_count": 86,
   "id": "ff61606d",
   "metadata": {
    "scrolled": true
   },
   "outputs": [
    {
     "name": "stdout",
     "output_type": "stream",
     "text": [
      "Epoch 1/40\n",
      "140/140 [==============================] - 1s 7ms/step - loss: 0.6920 - accuracy: 0.6093 - val_loss: 0.5616 - val_accuracy: 0.6960\n",
      "Epoch 2/40\n",
      "140/140 [==============================] - 1s 6ms/step - loss: 0.5013 - accuracy: 0.7328 - val_loss: 0.4711 - val_accuracy: 0.7733\n",
      "Epoch 3/40\n",
      "140/140 [==============================] - 1s 6ms/step - loss: 0.3500 - accuracy: 0.8622 - val_loss: 0.2149 - val_accuracy: 0.9547\n",
      "Epoch 4/40\n",
      "140/140 [==============================] - 1s 6ms/step - loss: 0.1362 - accuracy: 0.9831 - val_loss: 0.0832 - val_accuracy: 0.9937\n",
      "Epoch 5/40\n",
      "140/140 [==============================] - 1s 6ms/step - loss: 0.0487 - accuracy: 1.0000 - val_loss: 0.0393 - val_accuracy: 0.9977\n",
      "Epoch 6/40\n",
      "140/140 [==============================] - 1s 6ms/step - loss: 0.0228 - accuracy: 1.0000 - val_loss: 0.0229 - val_accuracy: 0.9987\n",
      "Epoch 7/40\n",
      "140/140 [==============================] - 1s 6ms/step - loss: 0.0130 - accuracy: 1.0000 - val_loss: 0.0145 - val_accuracy: 0.9990\n",
      "Epoch 8/40\n",
      "140/140 [==============================] - 1s 6ms/step - loss: 0.0084 - accuracy: 1.0000 - val_loss: 0.0101 - val_accuracy: 0.9997\n",
      "Epoch 9/40\n",
      "140/140 [==============================] - 1s 6ms/step - loss: 0.0059 - accuracy: 1.0000 - val_loss: 0.0075 - val_accuracy: 1.0000\n",
      "Epoch 10/40\n",
      "140/140 [==============================] - 1s 6ms/step - loss: 0.0043 - accuracy: 1.0000 - val_loss: 0.0058 - val_accuracy: 1.0000\n",
      "Epoch 11/40\n",
      "140/140 [==============================] - 1s 6ms/step - loss: 0.0033 - accuracy: 1.0000 - val_loss: 0.0046 - val_accuracy: 1.0000\n",
      "Epoch 12/40\n",
      "140/140 [==============================] - 1s 6ms/step - loss: 0.0026 - accuracy: 1.0000 - val_loss: 0.0038 - val_accuracy: 1.0000\n",
      "Epoch 13/40\n",
      "140/140 [==============================] - 1s 6ms/step - loss: 0.0021 - accuracy: 1.0000 - val_loss: 0.0031 - val_accuracy: 1.0000\n",
      "Epoch 14/40\n",
      "140/140 [==============================] - 1s 6ms/step - loss: 0.0017 - accuracy: 1.0000 - val_loss: 0.0026 - val_accuracy: 1.0000\n",
      "Epoch 15/40\n",
      "140/140 [==============================] - 1s 6ms/step - loss: 0.0014 - accuracy: 1.0000 - val_loss: 0.0022 - val_accuracy: 1.0000\n",
      "Epoch 16/40\n",
      "140/140 [==============================] - 1s 6ms/step - loss: 0.0012 - accuracy: 1.0000 - val_loss: 0.0019 - val_accuracy: 1.0000\n",
      "Epoch 17/40\n",
      "140/140 [==============================] - 1s 6ms/step - loss: 0.0010 - accuracy: 1.0000 - val_loss: 0.0017 - val_accuracy: 1.0000\n",
      "Epoch 18/40\n",
      "140/140 [==============================] - 1s 6ms/step - loss: 8.8362e-04 - accuracy: 1.0000 - val_loss: 0.0014 - val_accuracy: 1.0000\n",
      "Epoch 19/40\n",
      "140/140 [==============================] - 1s 6ms/step - loss: 7.6431e-04 - accuracy: 1.0000 - val_loss: 0.0013 - val_accuracy: 1.0000\n",
      "Epoch 20/40\n",
      "140/140 [==============================] - 1s 6ms/step - loss: 6.6531e-04 - accuracy: 1.0000 - val_loss: 0.0011 - val_accuracy: 1.0000\n",
      "Epoch 21/40\n",
      "140/140 [==============================] - 1s 6ms/step - loss: 5.8240e-04 - accuracy: 1.0000 - val_loss: 9.9647e-04 - val_accuracy: 1.0000\n",
      "Epoch 22/40\n",
      "140/140 [==============================] - 1s 6ms/step - loss: 5.1235e-04 - accuracy: 1.0000 - val_loss: 8.8970e-04 - val_accuracy: 1.0000\n",
      "Epoch 23/40\n",
      "140/140 [==============================] - 1s 6ms/step - loss: 4.5270e-04 - accuracy: 1.0000 - val_loss: 7.9773e-04 - val_accuracy: 1.0000\n",
      "Epoch 24/40\n",
      "140/140 [==============================] - 1s 6ms/step - loss: 4.0157e-04 - accuracy: 1.0000 - val_loss: 7.1799e-04 - val_accuracy: 1.0000\n",
      "Epoch 25/40\n",
      "140/140 [==============================] - 1s 6ms/step - loss: 3.5741e-04 - accuracy: 1.0000 - val_loss: 6.4840e-04 - val_accuracy: 1.0000\n",
      "Epoch 26/40\n",
      "140/140 [==============================] - 1s 6ms/step - loss: 3.1909e-04 - accuracy: 1.0000 - val_loss: 5.8733e-04 - val_accuracy: 1.0000\n",
      "Epoch 27/40\n",
      "140/140 [==============================] - 1s 6ms/step - loss: 2.8569e-04 - accuracy: 1.0000 - val_loss: 5.3345e-04 - val_accuracy: 1.0000\n",
      "Epoch 28/40\n",
      "140/140 [==============================] - 1s 6ms/step - loss: 2.5645e-04 - accuracy: 1.0000 - val_loss: 4.8570e-04 - val_accuracy: 1.0000\n",
      "Epoch 29/40\n",
      "140/140 [==============================] - 1s 6ms/step - loss: 2.3075e-04 - accuracy: 1.0000 - val_loss: 4.4319e-04 - val_accuracy: 1.0000\n",
      "Epoch 30/40\n",
      "140/140 [==============================] - 1s 6ms/step - loss: 2.0806e-04 - accuracy: 1.0000 - val_loss: 4.0523e-04 - val_accuracy: 1.0000\n",
      "Epoch 31/40\n",
      "140/140 [==============================] - 1s 6ms/step - loss: 1.8796e-04 - accuracy: 1.0000 - val_loss: 3.7120e-04 - val_accuracy: 1.0000\n",
      "Epoch 32/40\n",
      "140/140 [==============================] - 1s 6ms/step - loss: 1.7011e-04 - accuracy: 1.0000 - val_loss: 3.4059e-04 - val_accuracy: 1.0000\n",
      "Epoch 33/40\n",
      "140/140 [==============================] - 1s 6ms/step - loss: 1.5421e-04 - accuracy: 1.0000 - val_loss: 3.1298e-04 - val_accuracy: 1.0000\n",
      "Epoch 34/40\n",
      "140/140 [==============================] - 1s 6ms/step - loss: 1.4000e-04 - accuracy: 1.0000 - val_loss: 2.8801e-04 - val_accuracy: 1.0000\n",
      "Epoch 35/40\n",
      "140/140 [==============================] - 1s 6ms/step - loss: 1.2727e-04 - accuracy: 1.0000 - val_loss: 2.6538e-04 - val_accuracy: 1.0000\n",
      "Epoch 36/40\n",
      "140/140 [==============================] - 1s 6ms/step - loss: 1.1584e-04 - accuracy: 1.0000 - val_loss: 2.4480e-04 - val_accuracy: 1.0000\n",
      "Epoch 37/40\n",
      "140/140 [==============================] - 1s 6ms/step - loss: 1.0557e-04 - accuracy: 1.0000 - val_loss: 2.2607e-04 - val_accuracy: 1.0000\n",
      "Epoch 38/40\n",
      "140/140 [==============================] - 1s 6ms/step - loss: 9.6307e-05 - accuracy: 1.0000 - val_loss: 2.0900e-04 - val_accuracy: 1.0000\n",
      "Epoch 39/40\n",
      "140/140 [==============================] - 1s 6ms/step - loss: 8.7946e-05 - accuracy: 1.0000 - val_loss: 1.9339e-04 - val_accuracy: 1.0000\n",
      "Epoch 40/40\n",
      "140/140 [==============================] - 1s 6ms/step - loss: 8.0382e-05 - accuracy: 1.0000 - val_loss: 1.7912e-04 - val_accuracy: 1.0000\n"
     ]
    }
   ],
   "source": [
    "#compiling and fitting the model\n",
    "sgd = tf.keras.optimizers.Adam(learning_rate=0.0005)\n",
    "loss_fn = tf.keras.losses.CategoricalCrossentropy()\n",
    "\n",
    "model.compile(optimizer=sgd, loss=loss_fn, metrics=['accuracy'])\n",
    "history = model.fit(train_dataset, epochs=40, validation_data=test_dataset)"
   ]
  },
  {
   "cell_type": "code",
   "execution_count": 87,
   "id": "0c3602c2",
   "metadata": {
    "scrolled": false
   },
   "outputs": [
    {
     "data": {
      "image/png": "[encoded data removed]",
      "text/plain": [
       "<Figure size 1296x432 with 2 Axes>"
      ]
     },
     "metadata": {
      "needs_background": "light"
     },
     "output_type": "display_data"
    }
   ],
   "source": [
    "#plotting loss function and accuracy for training and test sets over all epochs\n",
    "fig, (ax1, ax2) = plt.subplots(1,2,figsize=(18,6))\n",
    "ax1.plot(history.history['loss'],c='b'),ax1.plot(history.history['val_loss'],c='r')\n",
    "ax1.set_title('CNN Loss over 20 Epochs for \\n C170keV and F170keV Classification')\n",
    "ax1.set_ylabel('Loss'),ax1.set_xlabel('Epoch'),ax1.legend(['Training Set', 'Validation Set'], loc='best');\n",
    "ax2.plot(history.history['accuracy'],c='b'),ax2.plot(history.history['val_accuracy'],c='r')\n",
    "ax2.set_title('CNN Accuracy over 20 Epochs for \\n C170keV and F170keV Classification')\n",
    "ax2.set_ylabel('Accuracy'),ax2.set_xlabel('Epoch'),ax2.legend(['Training Set', 'Validation Set'], loc='best');"
   ]
  },
  {
   "cell_type": "code",
   "execution_count": 88,
   "id": "d738c7f1",
   "metadata": {},
   "outputs": [],
   "source": [
    "np.save('Figure_Data/fig1_acc3.npy', history.history['accuracy'])\n",
    "np.save('Figure_Data/fig1_valacc3.npy', history.history['val_accuracy'])"
   ]
  },
  {
   "cell_type": "code",
   "execution_count": null,
   "id": "df30548a",
   "metadata": {},
   "outputs": [],
   "source": [
    "plt.figure(figsize=(10,10))\n",
    "plt.matshow(F170_dat[20],fignum=1);"
   ]
  },
  {
   "cell_type": "code",
   "execution_count": null,
   "id": "6d732454",
   "metadata": {},
   "outputs": [],
   "source": [
    "plt.figure(figsize=(10,10))\n",
    "plt.matshow(C170_dat[17],fignum=1);"
   ]
  },
  {
   "cell_type": "code",
   "execution_count": null,
   "id": "e0c2ef19",
   "metadata": {},
   "outputs": [],
   "source": []
  },
  {
   "cell_type": "code",
   "execution_count": null,
   "id": "2495506d",
   "metadata": {},
   "outputs": [],
   "source": []
  },
  {
   "cell_type": "markdown",
   "id": "c72bdf52",
   "metadata": {},
   "source": [
    "# New Data"
   ]
  },
  {
   "cell_type": "code",
   "execution_count": null,
   "id": "7f3d21d4",
   "metadata": {},
   "outputs": [],
   "source": [
    "import numpy as np\n",
    "import matplotlib.pyplot as plt\n",
    "import matplotlib as mpl\n",
    "%matplotlib inline\n",
    "\n",
    "import sys\n",
    "import random as rd\n",
    "import torch\n",
    "from torch import nn, optim\n",
    "import torch.nn.functional as F\n",
    "import torch.utils.data as tud\n",
    "# from torch.utils.data import Dataset, DataLoader\n",
    "from sklearn.model_selection import train_test_split\n",
    "\n",
    "import CustomDataset as cd\n",
    "\n",
    "from sklearn.model_selection import train_test_split\n",
    "import tensorflow as tf\n",
    "from sklearn.utils import shuffle"
   ]
  },
  {
   "cell_type": "code",
   "execution_count": null,
   "id": "263cf8b6",
   "metadata": {},
   "outputs": [],
   "source": [
    "C130_dat, F170_dat = np.load('data/C_130keV_1.npy'), np.load('data/F_170keV_1.npy')"
   ]
  },
  {
   "cell_type": "code",
   "execution_count": null,
   "id": "3bd22d54",
   "metadata": {},
   "outputs": [],
   "source": [
    "np.shape(C130_dat)"
   ]
  },
  {
   "cell_type": "code",
   "execution_count": null,
   "id": "2fcffa25",
   "metadata": {},
   "outputs": [],
   "source": [
    "plt.imshow(C130_dat[100])"
   ]
  },
  {
   "cell_type": "code",
   "execution_count": null,
   "id": "7410257a",
   "metadata": {},
   "outputs": [],
   "source": [
    "C130_dat = []\n",
    "\n",
    "for i in range(10):\n",
    "    data = np.load('data/C_130keV_'+str(i)+'.npy')\n",
    "    for k in range(len(data)):\n",
    "        C130_dat.append(data[k])"
   ]
  },
  {
   "cell_type": "code",
   "execution_count": null,
   "id": "22d1394f",
   "metadata": {},
   "outputs": [],
   "source": [
    "np.shape(C130_dat)"
   ]
  },
  {
   "cell_type": "code",
   "execution_count": null,
   "id": "6dafb174",
   "metadata": {},
   "outputs": [],
   "source": [
    "F170_dat = []\n",
    "\n",
    "for i in range(10):\n",
    "    data = np.load('data/F_170keV_'+str(i)+'.npy')\n",
    "    for k in range(len(data)):\n",
    "        F170_dat.append(data[k])"
   ]
  },
  {
   "cell_type": "code",
   "execution_count": null,
   "id": "eab043aa",
   "metadata": {},
   "outputs": [],
   "source": [
    "np.shape(F170_dat)"
   ]
  },
  {
   "cell_type": "code",
   "execution_count": null,
   "id": "db6c0c1f",
   "metadata": {},
   "outputs": [],
   "source": [
    "data, labels = [],[]\n",
    "Csum, Fsum = [],[]\n",
    "\n",
    "for i in range(len(C130_dat)):\n",
    "    data.append(C130_dat[i])\n",
    "    labels.append([1,0])\n",
    "    Csum.append(np.sum(C130_dat[i]))\n",
    "\n",
    "for i in range(len(F170_dat)):\n",
    "    data.append(F170_dat[i])\n",
    "    labels.append([0,1])\n",
    "    Fsum.append(np.sum(F170_dat[i]))"
   ]
  },
  {
   "cell_type": "code",
   "execution_count": null,
   "id": "d392b6c7",
   "metadata": {},
   "outputs": [],
   "source": [
    "data -= np.mean(data)\n",
    "data/=np.std(data)"
   ]
  },
  {
   "cell_type": "code",
   "execution_count": null,
   "id": "5a601c4f",
   "metadata": {},
   "outputs": [],
   "source": [
    "train_data, test_data, train_labels, test_labels = train_test_split(data, labels, test_size=0.3, random_state=42)"
   ]
  },
  {
   "cell_type": "code",
   "execution_count": null,
   "id": "28654ecd",
   "metadata": {},
   "outputs": [],
   "source": [
    "np.mean(train_data)"
   ]
  },
  {
   "cell_type": "code",
   "execution_count": null,
   "id": "2f7063dc",
   "metadata": {},
   "outputs": [],
   "source": [
    "print(np.shape(train_data))\n",
    "print(np.shape(test_data))\n",
    "print(np.shape(train_labels))\n",
    "print(np.shape(test_labels))"
   ]
  },
  {
   "cell_type": "code",
   "execution_count": null,
   "id": "c9837161",
   "metadata": {},
   "outputs": [],
   "source": [
    "dat_sum = [np.sum(test_data[i]) for i in range(len(test_data))]"
   ]
  },
  {
   "cell_type": "code",
   "execution_count": null,
   "id": "eb210923",
   "metadata": {},
   "outputs": [],
   "source": [
    "plt.hist(dat_sum,bins=120);"
   ]
  },
  {
   "cell_type": "code",
   "execution_count": null,
   "id": "9c9ffe7b",
   "metadata": {},
   "outputs": [],
   "source": [
    "from tensorflow.keras.models import Sequential\n",
    "from tensorflow.keras.layers import Flatten, Dense, Conv2D, MaxPooling2D, LeakyReLU, Dropout\n",
    "\n",
    "\n",
    "def nr_model():\n",
    "    nr_model = Sequential([\n",
    "        Conv2D(1, kernel_size=(3,3), input_shape=(144,144,1), activation='relu', padding='same'),\n",
    "        Flatten(),\n",
    "        Dense(1024, activation='relu'),\n",
    "        Dense(2, activation='softmax')\n",
    "    ], name='nr_model')\n",
    "    return nr_model\n",
    "\n",
    "\n",
    "model = nr_model()"
   ]
  },
  {
   "cell_type": "code",
   "execution_count": null,
   "id": "78629c05",
   "metadata": {},
   "outputs": [],
   "source": [
    "model.summary()"
   ]
  },
  {
   "cell_type": "code",
   "execution_count": null,
   "id": "914fcb0d",
   "metadata": {},
   "outputs": [],
   "source": [
    "#loading the data into tf.data.Dataset objects\n",
    "train_dataset = tf.data.Dataset.from_tensor_slices((train_data, train_labels)) \n",
    "test_dataset = tf.data.Dataset.from_tensor_slices((test_data, test_labels))\n",
    "train_dataset.element_spec\n",
    "\n",
    "#printing relevant properties\n",
    "for inputs, labels in train_dataset.take(2):\n",
    "    print(type(inputs))\n",
    "    print(type(labels))\n",
    "    print(inputs.shape)\n",
    "    print(labels.shape)"
   ]
  },
  {
   "cell_type": "code",
   "execution_count": null,
   "id": "1eedfbb2",
   "metadata": {},
   "outputs": [],
   "source": [
    "#batching the datasets\n",
    "batch_size = 50\n",
    "train_dataset = train_dataset.batch(batch_size)  # drop_remainder=True\n",
    "test_dataset = test_dataset.batch(batch_size)"
   ]
  },
  {
   "cell_type": "code",
   "execution_count": null,
   "id": "9f90306c",
   "metadata": {},
   "outputs": [],
   "source": [
    "#compiling and fitting the model\n",
    "sgd = tf.keras.optimizers.Adam(learning_rate=0.01)\n",
    "loss_fn = tf.keras.losses.CategoricalCrossentropy()\n",
    "\n",
    "model.compile(optimizer=sgd, loss=loss_fn, metrics=['accuracy'])\n",
    "history = model.fit(train_dataset, epochs=10, validation_data=test_dataset)"
   ]
  },
  {
   "cell_type": "code",
   "execution_count": null,
   "id": "e9773a61",
   "metadata": {},
   "outputs": [],
   "source": [
    "#plotting loss function and accuracy for training and test sets over all epochs\n",
    "fig, (ax1, ax2) = plt.subplots(1,2,figsize=(15,5))\n",
    "ax1.plot(history.history['loss'],c='b'),ax1.plot(history.history['val_loss'],c='r')\n",
    "ax1.set_title('CNN Loss over 10 Epochs for amplified C130keV and \\n F170keV (training data size of 56,000)')\n",
    "ax1.set_ylabel('Loss'),ax1.set_xlabel('Epoch'),ax1.legend(['Training Set', 'Test Set'], loc='best');\n",
    "ax2.plot(history.history['accuracy'],c='b'),ax2.plot(history.history['val_accuracy'],c='r')\n",
    "ax2.set_title('CNN Accuracy over 10 Epochs for ampllified C130keV and \\n F170keV (training data size of 56,000)')\n",
    "ax2.set_ylabel('Accuracy'),ax2.set_xlabel('Epoch'),ax2.legend(['Training Set', 'Test Set'], loc='best');"
   ]
  },
  {
   "cell_type": "markdown",
   "id": "b88b307f",
   "metadata": {},
   "source": [
    "# Auto-Encoders"
   ]
  },
  {
   "cell_type": "code",
   "execution_count": null,
   "id": "325b8a38",
   "metadata": {},
   "outputs": [],
   "source": [
    "from sklearn.model_selection import train_test_split\n",
    "import tensorflow as tf\n",
    "from sklearn.utils import shuffle"
   ]
  },
  {
   "cell_type": "code",
   "execution_count": null,
   "id": "af05ac77",
   "metadata": {},
   "outputs": [],
   "source": [
    "C170_dat, F170_dat = np.load('data_old/C_170keV.npy'), np.load('data_old/F_170keV.npy')"
   ]
  },
  {
   "cell_type": "code",
   "execution_count": null,
   "id": "bd9e183e",
   "metadata": {},
   "outputs": [],
   "source": [
    "data, labels = [],[]\n",
    "Csum, Fsum = [],[]\n",
    "\n",
    "for i in range(len(C170_dat)):\n",
    "    data.append(C170_dat[i])\n",
    "    labels.append(1)\n",
    "    Csum.append(np.sum(C170_dat[i]))\n",
    "\n",
    "for i in range(len(F170_dat)):\n",
    "    data.append(F170_dat[i])\n",
    "    labels.append(0)\n",
    "    Fsum.append(np.sum(F170_dat[i]))"
   ]
  },
  {
   "cell_type": "code",
   "execution_count": null,
   "id": "71c482e6",
   "metadata": {},
   "outputs": [],
   "source": [
    "data -= np.mean(data)\n",
    "data/=np.std(data)"
   ]
  },
  {
   "cell_type": "code",
   "execution_count": null,
   "id": "f4600049",
   "metadata": {},
   "outputs": [],
   "source": [
    "train_data, test_data, train_labels, test_labels = train_test_split(data, labels, test_size=0.3, random_state=42)"
   ]
  },
  {
   "cell_type": "code",
   "execution_count": null,
   "id": "eaea5670",
   "metadata": {},
   "outputs": [],
   "source": [
    "# np.max(train_data[1])"
   ]
  },
  {
   "cell_type": "code",
   "execution_count": null,
   "id": "ffeb0252",
   "metadata": {},
   "outputs": [],
   "source": [
    "from tensorflow.keras.models import Sequential\n",
    "from tensorflow.keras.layers import Flatten, Dense, Conv2D, MaxPooling2D, LeakyReLU, Dropout, Activation, \\\n",
    "UpSampling2D, Conv2DTranspose"
   ]
  },
  {
   "cell_type": "code",
   "execution_count": null,
   "id": "2adc339e",
   "metadata": {},
   "outputs": [],
   "source": [
    "# def nr_model():\n",
    "#     nr_model = Sequential([\n",
    "#         Conv2D(2, kernel_size=(3,3), input_shape=(97,97,1), activation='relu'),\n",
    "#         Flatten(),\n",
    "#         Dense(2, activation='softmax')\n",
    "#     ], name='nr_model')\n",
    "#     return nr_model\n",
    "\n",
    "\n",
    "# model = nr_model()"
   ]
  },
  {
   "cell_type": "code",
   "execution_count": null,
   "id": "8f09010d",
   "metadata": {},
   "outputs": [],
   "source": [
    "def ae_model():\n",
    "\n",
    "    ae_model = Sequential()\n",
    "\n",
    "    ae_model.add(Conv2D(16, (3, 3), padding='valid', input_shape=(97,97,1)))\n",
    "    ae_model.add(Activation('relu'))\n",
    "    ae_model.add(MaxPooling2D(pool_size=(2,2)))\n",
    "\n",
    "    ae_model.add(Conv2D(2,(3, 3), padding='valid')) # apply 2 filters sized of (3x3)\n",
    "    ae_model.add(Activation('relu'))\n",
    "    ae_model.add(MaxPooling2D(pool_size=(2,2)))\n",
    "\n",
    "    #encoding is here\n",
    "    \n",
    "    ae_model.add(Conv2DTranspose(2,(3, 3), padding='valid')) # apply 2 filters sized of (3x3)\n",
    "    ae_model.add(Activation('relu'))\n",
    "    ae_model.add(UpSampling2D((2, 2)))\n",
    "\n",
    "    ae_model.add(Conv2DTranspose(16,(3, 3), padding='valid'))\n",
    "    ae_model.add(Activation('relu'))\n",
    "    ae_model.add(UpSampling2D((2, 2)))\n",
    "\n",
    "    ae_model.add(Conv2D(1,(4, 4), padding='valid'))\n",
    "    ae_model.add(Activation('sigmoid'))\n",
    "    \n",
    "    return ae_model\n",
    "    \n",
    "model = ae_model()"
   ]
  },
  {
   "cell_type": "code",
   "execution_count": null,
   "id": "f21b5f61",
   "metadata": {},
   "outputs": [],
   "source": [
    "model.summary()"
   ]
  },
  {
   "cell_type": "code",
   "execution_count": null,
   "id": "adf543b8",
   "metadata": {},
   "outputs": [],
   "source": [
    "model.compile(optimizer='adadelta', loss='binary_crossentropy')\n",
    "model.fit(train_data, train_data, epochs=3, validation_data=(test_data, test_data))"
   ]
  },
  {
   "cell_type": "code",
   "execution_count": null,
   "id": "8a23fc50",
   "metadata": {
    "scrolled": false
   },
   "outputs": [],
   "source": [
    "gen_images = model.predict(test_data)\n",
    " \n",
    "for i in range(3):\n",
    "    plt.imshow(test_data[i].reshape(97, 97)), plt.gray(), plt.show()\n",
    "    plt.imshow(gen_images[i].reshape(97, 97)), plt.gray(), plt.show()"
   ]
  },
  {
   "cell_type": "code",
   "execution_count": null,
   "id": "50298748",
   "metadata": {},
   "outputs": [],
   "source": [
    "model = ae_model()"
   ]
  },
  {
   "cell_type": "code",
   "execution_count": null,
   "id": "1bfbe67c",
   "metadata": {},
   "outputs": [],
   "source": [
    "model.compile(optimizer=tf.keras.optimizers.Adadelta(learning_rate=0.1), loss='binary_crossentropy')\n",
    "model.fit(train_data, train_data, epochs=3, validation_data=(test_data, test_data))"
   ]
  },
  {
   "cell_type": "code",
   "execution_count": null,
   "id": "0e68e3d0",
   "metadata": {
    "scrolled": false
   },
   "outputs": [],
   "source": [
    "gen_images = model.predict(test_data)\n",
    " \n",
    "for i in range(3):\n",
    "    plt.imshow(test_data[i].reshape(97, 97)), plt.gray(), plt.show()\n",
    "    plt.imshow(gen_images[i].reshape(97, 97)), plt.gray(), plt.show()"
   ]
  },
  {
   "cell_type": "code",
   "execution_count": null,
   "id": "776c15c0",
   "metadata": {},
   "outputs": [],
   "source": [
    "import keras.backend as K\n",
    "\n",
    "#function means input goes into the first layer of the model and output is the compressed layer of the model\n",
    "#function can then be applied to any data with 97x97x1\n",
    "\n",
    "encoding_lay = 5\n",
    "encod_func = K.function([model.layers[0].input], [model.layers[encoding_lay].output])\n",
    "encoding = encod_func([test_data])[0]\n",
    " \n",
    "#flatten compressed representation to 1 dimensional array\n",
    "encoding = encoding.reshape(3000,22*22*2)"
   ]
  },
  {
   "cell_type": "code",
   "execution_count": null,
   "id": "bea0401e",
   "metadata": {},
   "outputs": [],
   "source": [
    "np.shape(encoding)"
   ]
  },
  {
   "cell_type": "code",
   "execution_count": null,
   "id": "61cd984c",
   "metadata": {},
   "outputs": [],
   "source": [
    "from sklearn.cluster import KMeans\n",
    "\n",
    "km = KMeans(\n",
    "    n_clusters=2, init='random',\n",
    "    n_init=10, max_iter=300, \n",
    "    tol=1e-04, random_state=0\n",
    ")\n",
    "\n",
    "\n",
    "y_km = km.fit_predict(encoding)"
   ]
  },
  {
   "cell_type": "code",
   "execution_count": null,
   "id": "c921f2dc",
   "metadata": {},
   "outputs": [],
   "source": [
    "np.shape(y_km)"
   ]
  },
  {
   "cell_type": "code",
   "execution_count": null,
   "id": "df9fcee8",
   "metadata": {},
   "outputs": [],
   "source": [
    "np.shape(test_labels)"
   ]
  },
  {
   "cell_type": "code",
   "execution_count": null,
   "id": "86b3464b",
   "metadata": {
    "scrolled": true
   },
   "outputs": [],
   "source": [
    "test_labels"
   ]
  },
  {
   "cell_type": "code",
   "execution_count": null,
   "id": "dbc82300",
   "metadata": {},
   "outputs": [],
   "source": [
    "y_km.tolist()"
   ]
  },
  {
   "cell_type": "code",
   "execution_count": null,
   "id": "cfd84fdc",
   "metadata": {},
   "outputs": [],
   "source": [
    "from sklearn.metrics import accuracy_score\n",
    "accuracy_score(y_km.tolist(), test_labels)"
   ]
  },
  {
   "cell_type": "markdown",
   "id": "92333ff8",
   "metadata": {},
   "source": [
    "### Trying something different"
   ]
  },
  {
   "cell_type": "code",
   "execution_count": null,
   "id": "21bf5fae",
   "metadata": {},
   "outputs": [],
   "source": [
    "def ae_model():\n",
    "\n",
    "    ae_model = Sequential()\n",
    "\n",
    "    #1st convolution layer\n",
    "    ae_model.add(Conv2D(16, (3, 3), padding='valid', input_shape=(97,97,1)))\n",
    "    ae_model.add(Activation('relu'))\n",
    "    ae_model.add(MaxPooling2D(pool_size=(2,2)))\n",
    "\n",
    "    #2nd convolution layer\n",
    "    ae_model.add(Conv2D(8,(3, 3), padding='valid')) # apply 2 filters sized of (3x3)\n",
    "    ae_model.add(Activation('relu'))\n",
    "    ae_model.add(MaxPooling2D(pool_size=(2,2)))\n",
    "    \n",
    "    #3rd convolution layer\n",
    "    ae_model.add(Conv2D(2,(3, 3), padding='valid')) # apply 2 filters sized of (3x3)\n",
    "    ae_model.add(Activation('relu'))\n",
    "    ae_model.add(MaxPooling2D(pool_size=(2,2)))\n",
    "\n",
    "    #4th convolution layer\n",
    "    ae_model.add(Conv2D(2,(3, 3), padding='valid')) # apply 2 filters sized of (3x3)\n",
    "    ae_model.add(Activation('relu'))\n",
    "    ae_model.add(UpSampling2D((2, 2)))\n",
    "\n",
    "    #5th convolution layer\n",
    "    ae_model.add(Conv2D(8,(3, 3), padding='valid'))\n",
    "    ae_model.add(Activation('relu'))\n",
    "    ae_model.add(UpSampling2D((2, 2)))\n",
    "    \n",
    "    #6th convolution layer\n",
    "    ae_model.add(Conv2D(16,(3, 3), padding='valid'))\n",
    "    ae_model.add(Activation('relu'))\n",
    "    ae_model.add(UpSampling2D((2, 2)))\n",
    "    \n",
    "    #6th convolution layer\n",
    "    ae_model.add(Conv2D(16,(3, 3), padding='valid'))\n",
    "    ae_model.add(Activation('relu'))\n",
    "    ae_model.add(UpSampling2D((2, 2)))\n",
    "\n",
    "    ae_model.add(Conv2D(1,(4, 4), padding='valid'))\n",
    "    ae_model.add(Activation('relu'))\n",
    "    \n",
    "    return ae_model\n",
    "    \n",
    "model = ae_model()"
   ]
  },
  {
   "cell_type": "code",
   "execution_count": null,
   "id": "639e5002",
   "metadata": {},
   "outputs": [],
   "source": [
    "model.summary()"
   ]
  },
  {
   "cell_type": "code",
   "execution_count": null,
   "id": "330b1712",
   "metadata": {},
   "outputs": [],
   "source": [
    "model.compile(optimizer=tf.keras.optimizers.Adadelta(learning_rate=0.1), loss='mean_squared_error')\n",
    "model.fit(train_data, train_data, epochs=15, validation_data=(test_data, test_data))"
   ]
  },
  {
   "cell_type": "code",
   "execution_count": null,
   "id": "07b9f98d",
   "metadata": {},
   "outputs": [],
   "source": [
    "gen_images = model.predict(test_data)\n",
    " \n",
    "for i in range(3):\n",
    "    plt.imshow(test_data[i].reshape(97, 97)), plt.gray(), plt.show()\n",
    "    plt.imshow(gen_images[i].reshape(97, 97)), plt.gray(), plt.show()"
   ]
  },
  {
   "cell_type": "code",
   "execution_count": null,
   "id": "dcea41d8",
   "metadata": {},
   "outputs": [],
   "source": [
    "import keras.backend as K\n",
    "\n",
    "#function means input goes into the first layer of the model and output is the compressed layer of the model\n",
    "#function can then be applied to any data with 97x97x1\n",
    "\n",
    "encoding_lay = 10\n",
    "encod_func = K.function([model.layers[0].input], [model.layers[encoding_lay].output])\n",
    "encoding = encod_func([test_data])[0]\n",
    " \n",
    "#flatten compressed representation to 1 dimensional array\n",
    "encoding = encoding.reshape(3000,8*8*2)"
   ]
  },
  {
   "cell_type": "code",
   "execution_count": null,
   "id": "fe4455fb",
   "metadata": {},
   "outputs": [],
   "source": [
    "from sklearn.cluster import KMeans\n",
    "\n",
    "km = KMeans(n_clusters=2, init='random')\n",
    "\n",
    "y_km = km.fit_predict(encoding)"
   ]
  },
  {
   "cell_type": "code",
   "execution_count": null,
   "id": "e53f307c",
   "metadata": {},
   "outputs": [],
   "source": [
    "from sklearn.metrics import accuracy_score\n",
    "accuracy_score(y_km.tolist(), test_labels)"
   ]
  },
  {
   "cell_type": "markdown",
   "id": "c46807f5",
   "metadata": {},
   "source": [
    "128"
   ]
  },
  {
   "cell_type": "code",
   "execution_count": null,
   "id": "66ad95e5",
   "metadata": {},
   "outputs": [],
   "source": []
  },
  {
   "cell_type": "code",
   "execution_count": null,
   "id": "09d4a8e2",
   "metadata": {},
   "outputs": [],
   "source": [
    "def ae_model():\n",
    "\n",
    "    ae_model = Sequential()\n",
    "\n",
    "    ae_model.add(Conv2D(16, (3, 3), padding='valid', strides=(2,2), input_shape=(97,97,1)))\n",
    "    ae_model.add(Activation('relu'))\n",
    "    ae_model.add(MaxPooling2D(pool_size=(2,2)))\n",
    "\n",
    "    ae_model.add(Conv2D(2,(3, 3), strides=(2,2), padding='same')) # apply 2 filters sized of (3x3)\n",
    "    ae_model.add(Activation('relu'))\n",
    "    ae_model.add(MaxPooling2D(pool_size=(2,2)))\n",
    "\n",
    "    #encoding is here\n",
    "    \n",
    "    ae_model.add(UpSampling2D((2, 2)))\n",
    "    ae_model.add(Conv2DTranspose(8,(3, 3), strides=(2,2), padding='same')) # apply 2 filters sized of (3x3)\n",
    "    ae_model.add(Activation('relu'))\n",
    "\n",
    "    ae_model.add(UpSampling2D((2, 2)))\n",
    "    ae_model.add(Conv2DTranspose(1,(3, 3), strides=(2,2), padding='valid'))\n",
    "    ae_model.add(Activation('relu'))\n",
    "\n",
    "#     ae_model.add(Conv2DTranspose(1,(4, 4), strides=(2,2), padding='valid'))\n",
    "#     ae_model.add(Activation('relu'))\n",
    "    \n",
    "    return ae_model\n",
    "    \n",
    "model = ae_model()"
   ]
  },
  {
   "cell_type": "code",
   "execution_count": null,
   "id": "dea210db",
   "metadata": {},
   "outputs": [],
   "source": [
    "model.summary()"
   ]
  },
  {
   "cell_type": "code",
   "execution_count": null,
   "id": "45d80759",
   "metadata": {},
   "outputs": [],
   "source": [
    "model.compile(optimizer=tf.keras.optimizers.Adadelta(learning_rate=0.1), loss='mean_squared_error')\n",
    "model.fit(train_data, train_data, epochs=50, validation_data=(test_data, test_data))"
   ]
  },
  {
   "cell_type": "code",
   "execution_count": null,
   "id": "3e24c3b8",
   "metadata": {},
   "outputs": [],
   "source": [
    "gen_images = model.predict(test_data)\n",
    " \n",
    "for i in range(3):\n",
    "    plt.imshow(test_data[i].reshape(97, 97)), plt.gray(), plt.show()\n",
    "    plt.imshow(gen_images[i].reshape(97, 97)), plt.gray(), plt.show()"
   ]
  },
  {
   "cell_type": "code",
   "execution_count": null,
   "id": "e4049dfb",
   "metadata": {},
   "outputs": [],
   "source": []
  }
 ],
 "metadata": {
  "kernelspec": {
   "display_name": "Python 3 (ipykernel)",
   "language": "python",
   "name": "python3"
  },
  "language_info": {
   "codemirror_mode": {
    "name": "ipython",
    "version": 3
   },
   "file_extension": ".py",
   "mimetype": "text/x-python",
   "name": "python",
   "nbconvert_exporter": "python",
   "pygments_lexer": "ipython3",
   "version": "3.9.12"
  }
 },
 "nbformat": 4,
 "nbformat_minor": 5
}
