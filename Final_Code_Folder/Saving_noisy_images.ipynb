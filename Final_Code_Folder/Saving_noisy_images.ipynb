{
 "cells": [
  {
   "cell_type": "code",
   "execution_count": 1,
   "id": "5579c885",
   "metadata": {},
   "outputs": [],
   "source": [
    "import numpy as np\n",
    "from skimage import io\n",
    "from os import listdir\n",
    "import matplotlib.pyplot as plt\n",
    "import matplotlib as mpl\n",
    "%matplotlib inline\n",
    "\n",
    "from sklearn.model_selection import train_test_split\n",
    "# import tensorflow as tf\n",
    "from sklearn.utils import shuffle"
   ]
  },
  {
   "cell_type": "code",
   "execution_count": 2,
   "id": "f0d0316a",
   "metadata": {},
   "outputs": [],
   "source": [
    "#divide by 20 for electron-photon conversion\n",
    "im_stack_plain = np.load('np_data/DD_F.npy')/20\n",
    "\n",
    "avg_bg = np.load('fast_2x2_bg.npy')\n",
    "avg_noise = np.load(\"fast_2x2_noise.npy\")\n",
    "# avg_bg = avg_bg.reshape(1,avg_bg.shape[0],avg_bg.shape[1])\n",
    "\n",
    "isp_sum = np.sum(im_stack_plain,axis=(1,2))\n",
    "\n",
    "im_stack_plain = im_stack_plain[isp_sum>100]"
   ]
  },
  {
   "cell_type": "code",
   "execution_count": 3,
   "id": "504092d1",
   "metadata": {},
   "outputs": [],
   "source": [
    "noise = np.stack([io.imread(\"bg/\"+im) for im in listdir('bg/')],axis=0)\n",
    "\n",
    "noise = noise[:,::2,::2] + noise[:,1::2,::2] + noise[:,::2,1::2] + noise[:,1::2,1::2]"
   ]
  },
  {
   "cell_type": "code",
   "execution_count": 4,
   "id": "89cfa73d",
   "metadata": {},
   "outputs": [
    {
     "name": "stdout",
     "output_type": "stream",
     "text": [
      "(9815, 150, 150)\n"
     ]
    }
   ],
   "source": [
    "print(im_stack_plain.shape)"
   ]
  },
  {
   "cell_type": "code",
   "execution_count": 5,
   "id": "09c16fc1",
   "metadata": {},
   "outputs": [],
   "source": [
    "noise_i = np.random.randint(0,1000,len(im_stack_plain))\n",
    "noise_x = np.random.randint(0,426,len(im_stack_plain))\n",
    "noise_y = np.random.randint(0,426,len(im_stack_plain))\n",
    "\n",
    "\n",
    "noise_train = np.stack([noise[noise_i[i], noise_x[i]:noise_x[i]+150, noise_y[i]:noise_y[i]+150] for i in range(len(noise_i))],axis=0)\n",
    "\n",
    "noise_train_2 = np.stack([noise[noise_i[i], noise_x[i]:noise_x[i]+150, noise_y[i]:noise_y[i]+150] - \\\n",
    "                          avg_bg[noise_x[i]:noise_x[i]+150, noise_y[i]:noise_y[i]+150] for i in range(len(noise_i))],axis=0)\n",
    "\n",
    "noise_train_3 = np.stack([(noise[noise_i[i], noise_x[i]:noise_x[i]+150, noise_y[i]:noise_y[i]+150] - \\\n",
    "                          avg_bg[noise_x[i]:noise_x[i]+150, noise_y[i]:noise_y[i]+150]) / \\\n",
    "                          avg_noise[noise_x[i]:noise_x[i]+150, noise_y[i]:noise_y[i]+150] for i in range(len(noise_i))],axis=0)\n",
    "\n",
    "\n",
    "im_stack_plain_1 = im_stack_plain + noise_train\n",
    "im_stack_plain_2 = im_stack_plain + noise_train_2\n",
    "im_stack_plain_3 = im_stack_plain + noise_train_3\n",
    "\n",
    "im_stack_plain_4 = im_stack_plain_2.copy()\n",
    "im_stack_plain_4[im_stack_plain_4 < 0] = -np.sqrt(np.abs(im_stack_plain_4[im_stack_plain_4 < 0]))\n",
    "im_stack_plain_4[im_stack_plain_4 > 0] = np.sqrt(im_stack_plain_4[im_stack_plain_4 > 0])\n",
    "\n",
    "np.save('np_data/NR_noise.npy',im_stack_plain_1)\n",
    "np.save('np_data/NR_noise_sub_bg.npy',im_stack_plain_2)\n",
    "np.save('np_data/NR_noise_sqrt_sub_bg.npy',im_stack_plain_4)\n",
    "\n",
    "del im_stack_plain_1, im_stack_plain_2, im_stack_plain_4\n",
    "\n",
    "\n",
    "for i in np.arange(0,5.1,1):\n",
    "    im_stack_plain_3[im_stack_plain_3 < i] = 0 \n",
    "    np.save(f'np_data/NR_noise_{i}_threshold.npy',im_stack_plain_3)"
   ]
  },
  {
   "cell_type": "code",
   "execution_count": 6,
   "id": "b870f12d",
   "metadata": {},
   "outputs": [],
   "source": [
    "del im_stack_plain, im_stack_plain_3, noise_train, noise_train_2, noise_train_3\n",
    "im_stack = np.load('np_data/DD_F_Migdal.npy')/20\n",
    "is_sum = np.sum(im_stack,axis=(1,2))\n",
    "im_stack = im_stack[is_sum>100]"
   ]
  },
  {
   "cell_type": "code",
   "execution_count": 7,
   "id": "8bbcad1b",
   "metadata": {},
   "outputs": [],
   "source": [
    "noise_i = np.random.randint(0,1000,len(im_stack))\n",
    "noise_x = np.random.randint(0,426,len(im_stack))\n",
    "noise_y = np.random.randint(0,426,len(im_stack))\n",
    "\n",
    "noise_train = np.stack([noise[noise_i[i], noise_x[i]:noise_x[i]+150, noise_y[i]:noise_y[i]+150] for i in range(len(noise_i))],axis=0)\n",
    "\n",
    "noise_train_2 = np.stack([noise[noise_i[i], noise_x[i]:noise_x[i]+150, noise_y[i]:noise_y[i]+150] - avg_bg[noise_x[i]:noise_x[i]+150, noise_y[i]:noise_y[i]+150] for i in range(len(noise_i))],axis=0)\n",
    "\n",
    "noise_train_3 = np.stack([(noise[noise_i[i], noise_x[i]:noise_x[i]+150, noise_y[i]:noise_y[i]+150] - \\\n",
    "                          avg_bg[noise_x[i]:noise_x[i]+150, noise_y[i]:noise_y[i]+150]) / \\\n",
    "                          avg_noise[noise_x[i]:noise_x[i]+150, noise_y[i]:noise_y[i]+150] for i in range(len(noise_i))],axis=0)\n",
    "\n",
    "\n",
    "im_stack_1 = im_stack + noise_train\n",
    "im_stack_2 = im_stack + noise_train_2\n",
    "im_stack_3 = im_stack + noise_train_3\n",
    "\n",
    "im_stack_4 = im_stack_2.copy()\n",
    "im_stack_4[im_stack_4 < 0] = -np.sqrt(np.abs(im_stack_4[im_stack_4 < 0]))\n",
    "im_stack_4[im_stack_4 > 0] = np.sqrt(im_stack_4[im_stack_4 > 0])\n",
    "\n",
    "\n",
    "np.save('np_data/Migdal_noise.npy',im_stack_1)\n",
    "np.save('np_data/Migdal_noise_sub_bg.npy',im_stack_2)\n",
    "np.save('np_data/Migdal_noise_sqrt_sub_bg.npy',im_stack_4)\n",
    "\n",
    "del im_stack_1, im_stack_2, im_stack_4\n",
    "\n",
    "for i in np.arange(0,5.1,1):\n",
    "    im_stack_3[im_stack_3 < i] = 0 \n",
    "    np.save(f'np_data/Migdal_noise_{i}_threshold.npy',im_stack_3)\n",
    "    "
   ]
  },
  {
   "cell_type": "code",
   "execution_count": 8,
   "id": "e8db3464",
   "metadata": {},
   "outputs": [],
   "source": [
    "del im_stack, im_stack_3, noise_train, noise_train_2, noise_train_3\n",
    "e_stack = np.load('np_data/Fe55.npy')/20"
   ]
  },
  {
   "cell_type": "code",
   "execution_count": 9,
   "id": "c170c430",
   "metadata": {},
   "outputs": [],
   "source": [
    "noise_i = np.random.randint(0,1000,len(e_stack))\n",
    "noise_x = np.random.randint(0,426,len(e_stack))\n",
    "noise_y = np.random.randint(0,426,len(e_stack))\n",
    "\n",
    "noise_train = np.stack([noise[noise_i[i], noise_x[i]:noise_x[i]+150, noise_y[i]:noise_y[i]+150] for i in range(len(noise_i))],axis=0)\n",
    "\n",
    "noise_train_2 = np.stack([noise[noise_i[i], noise_x[i]:noise_x[i]+150, noise_y[i]:noise_y[i]+150] - avg_bg[noise_x[i]:noise_x[i]+150, noise_y[i]:noise_y[i]+150] for i in range(len(noise_i))],axis=0)\n",
    "\n",
    "noise_train_3 = np.stack([(noise[noise_i[i], noise_x[i]:noise_x[i]+150, noise_y[i]:noise_y[i]+150] - \\\n",
    "                          avg_bg[noise_x[i]:noise_x[i]+150, noise_y[i]:noise_y[i]+150]) / \\\n",
    "                          avg_noise[noise_x[i]:noise_x[i]+150, noise_y[i]:noise_y[i]+150] for i in range(len(noise_i))],axis=0)\n",
    "\n",
    "\n",
    "e_stack_1 = e_stack + noise_train\n",
    "e_stack_2 = e_stack + noise_train_2\n",
    "e_stack_3 = e_stack + noise_train_3\n",
    "\n",
    "e_stack_4 = e_stack_2.copy()\n",
    "e_stack_4[e_stack_4 < 0] = -np.sqrt(np.abs(e_stack_4[e_stack_4 < 0]))\n",
    "e_stack_4[e_stack_4 > 0] = np.sqrt(e_stack_4[e_stack_4 > 0])\n",
    "\n",
    "np.save('np_data/Electron_noise.npy',e_stack_1)\n",
    "np.save('np_data/Electron_noise_sub_bg.npy',e_stack_2)\n",
    "np.save('np_data/Electron_noise_sqrt_sub_bg.npy',e_stack_4)\n",
    "\n",
    "del e_stack_1, e_stack_2, e_stack_4\n",
    "\n",
    "for i in np.arange(0,5.1,1):\n",
    "    e_stack_3[e_stack_3 < i] = 0 \n",
    "    np.save(f'np_data/Electron_noise_{i}_threshold.npy',e_stack_3)\n",
    "    "
   ]
  },
  {
   "cell_type": "code",
   "execution_count": null,
   "id": "6b1b91be",
   "metadata": {},
   "outputs": [],
   "source": []
  },
  {
   "cell_type": "code",
   "execution_count": 10,
   "id": "1a842225",
   "metadata": {},
   "outputs": [],
   "source": [
    "# test = np.load('np_data/Migdal_noise_sqrt_sub_bg.npy')\n",
    "# plt.figure()\n",
    "# plt.imshow(test[0,:,:],cmap='jet')"
   ]
  },
  {
   "cell_type": "code",
   "execution_count": 11,
   "id": "3528b234",
   "metadata": {},
   "outputs": [],
   "source": [
    "# test_2 = np.load('np_data/Migdal_noise_sub_bg.npy')\n",
    "# plt.figure()\n",
    "# plt.imshow(test_2[0,:,:],cmap='jet')"
   ]
  },
  {
   "cell_type": "code",
   "execution_count": 24,
   "id": "7c021ae1",
   "metadata": {},
   "outputs": [
    {
     "data": {
      "text/plain": [
       "<matplotlib.image.AxesImage at 0x7fdd3fe62d90>"
      ]
     },
     "execution_count": 24,
     "metadata": {},
     "output_type": "execute_result"
    },
    {
     "data": {
      "image/png": "[encoded data removed]",
      "text/plain": [
       "<Figure size 864x720 with 1 Axes>"
      ]
     },
     "metadata": {
      "needs_background": "light"
     },
     "output_type": "display_data"
    }
   ],
   "source": [
    "test_3 = np.load('np_data/Electron_noise_1.0_threshold.npy')\n",
    "plt.figure(figsize=(12,10))\n",
    "plt.imshow(test_3[100,:,:]**0.5,cmap='jet')"
   ]
  },
  {
   "cell_type": "code",
   "execution_count": null,
   "id": "1bb29425",
   "metadata": {},
   "outputs": [],
   "source": []
  },
  {
   "cell_type": "code",
   "execution_count": null,
   "id": "df533651",
   "metadata": {},
   "outputs": [],
   "source": []
  }
 ],
 "metadata": {
  "kernelspec": {
   "display_name": "Python 3 (ipykernel)",
   "language": "python",
   "name": "python3"
  },
  "language_info": {
   "codemirror_mode": {
    "name": "ipython",
    "version": 3
   },
   "file_extension": ".py",
   "mimetype": "text/x-python",
   "name": "python",
   "nbconvert_exporter": "python",
   "pygments_lexer": "ipython3",
   "version": "3.9.12"
  }
 },
 "nbformat": 4,
 "nbformat_minor": 5
}
