{
 "cells": [
  {
   "cell_type": "code",
   "execution_count": null,
   "id": "4d214c56",
   "metadata": {},
   "outputs": [],
   "source": [
    "import numpy as np\n",
    "import matplotlib.pyplot as plt\n",
    "from skimage import io\n",
    "from os import listdir\n",
    "\n",
    "import matplotlib_format"
   ]
  },
  {
   "cell_type": "code",
   "execution_count": null,
   "id": "c978d866",
   "metadata": {},
   "outputs": [],
   "source": [
    "data = np.load(\"np_data/DD_F_Migdal.npy\")/20\n",
    "bg, noise = np.load(\"fast_2x2_bg.npy\"),np.load(\"fast_2x2_noise.npy\")\n",
    "bgs = np.stack([io.imread(f\"noise/{f}\") for f in listdir(\"noise/\")],axis=0)\n",
    "bgs = bgs[:,::2,::2]+bgs[:,1::2,::2]+bgs[:,::2,1::2]+bgs[:,1::2,1::2]"
   ]
  },
  {
   "cell_type": "code",
   "execution_count": null,
   "id": "69795c86",
   "metadata": {},
   "outputs": [],
   "source": [
    "im_ = ((data[1994,:,:]+bgs[0,:150,:150]-bg[:150,:150])/noise[:150,:150]).copy()\n",
    "\n",
    "T = 0\n",
    "\n",
    "# im_[im_ < T] = np.nan\n",
    "\n",
    "plt.figure(figsize=(10,8))\n",
    "plt.imshow(im_)\n",
    "plt.colorbar(pad=0.01)\n",
    "plt.axis(\"off\")\n",
    "plt.title(\"No threshold\")"
   ]
  },
  {
   "cell_type": "code",
   "execution_count": null,
   "id": "feb621ec",
   "metadata": {},
   "outputs": [],
   "source": [
    "im_ = ((data[1994,:,:]+bgs[0,:150,:150]-bg[:150,:150])/noise[:150,:150]).copy()\n",
    "\n",
    "T = 0\n",
    "\n",
    "im_[im_ < T] = np.nan\n",
    "\n",
    "plt.figure(figsize=(10,8))\n",
    "plt.imshow(im_)\n",
    "plt.colorbar(pad=0.01)\n",
    "plt.axis(\"off\")\n",
    "plt.title(f\"{T}\\u03c3 threshold\")"
   ]
  },
  {
   "cell_type": "code",
   "execution_count": null,
   "id": "202f2d4b",
   "metadata": {},
   "outputs": [],
   "source": [
    "T = 1\n",
    "\n",
    "im_[im_ < T] = np.nan\n",
    "\n",
    "plt.figure(figsize=(10,8))\n",
    "plt.imshow(im_)\n",
    "plt.colorbar(pad=0.01)\n",
    "plt.axis(\"off\")\n",
    "plt.title(f\"{T}\\u03c3 threshold\")"
   ]
  },
  {
   "cell_type": "code",
   "execution_count": null,
   "id": "4cff70da",
   "metadata": {},
   "outputs": [],
   "source": [
    "T = 2\n",
    "\n",
    "im_[im_ < T] = np.nan\n",
    "\n",
    "plt.figure(figsize=(10,8))\n",
    "plt.imshow(im_)\n",
    "plt.colorbar(pad=0.01)\n",
    "plt.axis(\"off\")\n",
    "plt.title(f\"{T}\\u03c3 threshold\")"
   ]
  },
  {
   "cell_type": "code",
   "execution_count": null,
   "id": "fc7a534e",
   "metadata": {},
   "outputs": [],
   "source": [
    "T = 3\n",
    "\n",
    "im_[im_ < T] = 0\n",
    "\n",
    "plt.figure(figsize=(10,8))\n",
    "plt.imshow(im_)\n",
    "plt.colorbar(pad=0.01)\n",
    "plt.axis(\"off\")\n",
    "plt.title(f\"{T}\\u03c3 threshold\")"
   ]
  },
  {
   "cell_type": "code",
   "execution_count": null,
   "id": "05f5da24",
   "metadata": {},
   "outputs": [],
   "source": []
  }
 ],
 "metadata": {
  "kernelspec": {
   "display_name": "Python 3 (ipykernel)",
   "language": "python",
   "name": "python3"
  },
  "language_info": {
   "codemirror_mode": {
    "name": "ipython",
    "version": 3
   },
   "file_extension": ".py",
   "mimetype": "text/x-python",
   "name": "python",
   "nbconvert_exporter": "python",
   "pygments_lexer": "ipython3",
   "version": "3.9.12"
  }
 },
 "nbformat": 4,
 "nbformat_minor": 5
}
